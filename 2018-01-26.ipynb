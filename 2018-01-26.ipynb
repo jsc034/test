{
 "cells": [
  {
   "cell_type": "markdown",
   "metadata": {
    "collapsed": false
   },
   "source": [
    "## Math 157: Intro to Mathematical Software\n",
    "## UC San Diego, winter 2018; materials by Kiran S. Kedlaya"
   ]
  },
  {
   "cell_type": "markdown",
   "metadata": {
    "collapsed": false
   },
   "source": [
    "## Homework 2: due January 26, 2018"
   ]
  },
  {
   "cell_type": "markdown",
   "metadata": {
    "collapsed": false
   },
   "source": [
    "Please enter all answers within this notebook unless otherwise specified. As usual, don't forget to cite sources and collaborators."
   ]
  },
  {
   "cell_type": "markdown",
   "metadata": {
    "collapsed": false
   },
   "source": [
    "### Problem 1: Comparison of relevant software"
   ]
  },
  {
   "cell_type": "markdown",
   "metadata": {
    "collapsed": false
   },
   "source": [
    "Grading criterion: correctness. Remember to cite all sources!"
   ]
  },
  {
   "cell_type": "markdown",
   "metadata": {
    "collapsed": false
   },
   "source": [
    "1a. Specify whether each of the following computer algebra systems fits the Open Source Initiative definition of an \"open-source\" project (https://opensource.org/definition). If not, identify a criterion which fails to be met.\n",
    "\n",
    "- GAP\n",
    "- Geogebra\n",
    "- Magma\n",
    "- Maple\n",
    "- Mathematica\n",
    "- MATLAB\n",
    "- Pari/GP\n",
    "- Sage\n",
    "- Sympy"
   ]
  },
  {
   "cell_type": "markdown",
   "metadata": {
    "collapsed": false
   },
   "source": [
    "GAP is open-source. https://www.gap-system.org/Faq/faq.html\n",
    "\n",
    "Geogebra is not open-source because commercial use is requires a special licence. https://www.geogebra.org/license\n",
    "\n",
    "Magma is not open-source because it requires a licence to use. http://magma.maths.usyd.edu.au/magma/faq/costs\n",
    "\n",
    "Maple is not open-source because it requires a licence to use. Furthermore, these licences are specific to certain fields of endevor. https://www.maplesoft.com/pricing/\n",
    "\n",
    "Mathematica is not open-source because it requires a licence to use and the licence differs depending on fields of endevor. http://www.wolfram.com/mathematica/pricing/\n",
    "\n",
    "MATLAB is not open-source because it requires a licence to use and the licence differs depending on fields of endevor. https://www.mathworks.com/pricing-licensing.html?prodcode=ML\n",
    "\n",
    "Pari/GP is open-source. https://en.wikipedia.org/wiki/PARI/GP\n",
    "\n",
    "Sage is open-source. https://en.wikipedia.org/wiki/SageMath\n",
    "\n",
    "Sympy is open-source. https://en.wikipedia.org/wiki/SymPy"
   ]
  },
  {
   "cell_type": "markdown",
   "metadata": {
    "collapsed": false
   },
   "source": [
    "1b. For each of the following projects, give a one-sentence description of the project, and indicate in what year and by what person/organization the first version was released.\n",
    "\n",
    "- Cython\n",
    "- Julia\n",
    "- MacSyma / Maxima (treat as one project)\n",
    "- Numpy\n",
    "- Pandas\n",
    "- Python\n",
    "- R\n",
    "- Sage\n",
    "- Scipy\n",
    "- TeX / LaTeX (treat as one project)\n"
   ]
  },
  {
   "cell_type": "markdown",
   "metadata": {
    "collapsed": false
   },
   "source": [
    "Cython is code written to support C functions in python. Its core developers are Stefan Behnel, Robert Bradshaw, Lisandro Dalcín, Mark Florisson, Vitja Makarov, Dag Sverre Seljebotn and was first released in 2007. https://en.wikipedia.org/wiki/Cython\n",
    "\n",
    "Julia is a programming language used for numerical analysis and computational science developed by Jeff Bezanson, Stefan Karpinski, Viral B. Shah, and other contributors and was first released in 2012. https://en.wikipedia.org/wiki/Julia_(programming_language)\n",
    "\n",
    "MacSyma/Maxima is one of the oldest computer algebra systems used for manipulation of symbolic and numeric expressions. It was developed by Macsyma group at Project MAC and was first released in 1982. https://en.wikipedia.org/wiki/Maxima_(software) \n",
    "\n",
    "Numpy is a Python package that adds support for arrays and matricies developed by Travis Oliphant and the community and was first released as NumPy in 2006. https://en.wikipedia.org/wiki/NumPy\n",
    "\n",
    "Pandas is a Python library for data structures and data analysis developed by Wes McKinney and the community and was first released in 2011.\n",
    "https://en.wikipedia.org/wiki/Pandas_(software)\n",
    "https://github.com/pandas-dev/pandas/tree/0.3.0\n",
    "\n",
    "Python is a general-purpose, object-oriented programming language developed by Guido van Rossum and was first released in 1991. https://en.wikipedia.org/wiki/Python_(programming_language)\n",
    "\n",
    "R is a software environment for statistical computing and graphics developed by Ross Ihaka, Robert Gentleman, and the R Core Team and was first released in 1993. https://en.wikipedia.org/wiki/R_(programming_language)\n",
    "\n",
    "Sage is an open-source computer algebra system built upon many existing open-source packages in Python, R, and more. It was developed by William Stein and was first released in 2005. https://en.wikipedia.org/wiki/SageMath\n",
    "\n",
    "Scipy is an open-source Python library for mathematics, science, and engineering developed by Travis Oliphant, Pearu Peterson, Eric Jones and was first released in 2001. https://en.wikipedia.org/wiki/SciPy\n",
    "\n",
    "TeX/LaTeX is a typesetting system for mathematical and scientific documentation developed by Leslie Lamport and was first released in 1985. https://en.wikipedia.org/wiki/LaTeX"
   ]
  },
  {
   "cell_type": "markdown",
   "metadata": {
    "collapsed": false
   },
   "source": [
    "### Problem 2: Under the hood"
   ]
  },
  {
   "cell_type": "markdown",
   "metadata": {
    "collapsed": false
   },
   "source": [
    "Grading criterion: correctness."
   ]
  },
  {
   "cell_type": "markdown",
   "metadata": {
    "collapsed": false
   },
   "source": [
    "For each of the following Sage commands, identify one [external component of Sage](http://www.sagemath.org/links-components.html) which is used to execute that command, and indicate how you did so. (Hint: in addition to the Sage documentation, inspecting docstrings or even source code may be helpful.)"
   ]
  },
  {
   "cell_type": "code",
   "execution_count": 1,
   "metadata": {
    "collapsed": false
   },
   "outputs": [
    {
     "data": {
      "text/plain": [
       "3 * 29 * 533860141 * 3352855217 * 6421529033"
      ]
     },
     "execution_count": 1,
     "metadata": {
     },
     "output_type": "execute_result"
    }
   ],
   "source": [
    "factor(10^30-13)\n",
    "#factor??"
   ]
  },
  {
   "cell_type": "markdown",
   "metadata": {
    "collapsed": false
   },
   "source": [
    "The PARI/GP package is being used in factor. I found this by looking at the documentation for factor and found that the default factorization method uses the PARI c library."
   ]
  },
  {
   "cell_type": "code",
   "execution_count": 1,
   "metadata": {
    "collapsed": false
   },
   "outputs": [
    {
     "data": {
      "image/png": "[encoded data removed]"
     },
     "execution_count": 1,
     "metadata": {
     },
     "output_type": "execute_result"
    }
   ],
   "source": [
    "plot(lambda x: sin(x), 0, 2*pi)\n",
    "#plot??"
   ]
  },
  {
   "cell_type": "markdown",
   "metadata": {
    "collapsed": false
   },
   "source": [
    "Plot uses the matplotlib Python plotting library. I found this by looking at the manual for the function. http://doc.sagemath.org/html/en/reference/plotting/sage/plot/plot.html"
   ]
  },
  {
   "cell_type": "code",
   "execution_count": 3,
   "metadata": {
    "collapsed": false,
    "scrolled": true
   },
   "outputs": [
    {
     "data": {
      "text/plain": [
       "[Subgroup of (Alternating group of order 4!/2 as a permutation group) generated by [()],\n",
       " Subgroup of (Alternating group of order 4!/2 as a permutation group) generated by [(1,2)(3,4)],\n",
       " Subgroup of (Alternating group of order 4!/2 as a permutation group) generated by [(1,3)(2,4)],\n",
       " Subgroup of (Alternating group of order 4!/2 as a permutation group) generated by [(1,4)(2,3)],\n",
       " Subgroup of (Alternating group of order 4!/2 as a permutation group) generated by [(2,4,3)],\n",
       " Subgroup of (Alternating group of order 4!/2 as a permutation group) generated by [(1,2,3)],\n",
       " Subgroup of (Alternating group of order 4!/2 as a permutation group) generated by [(1,4,2)],\n",
       " Subgroup of (Alternating group of order 4!/2 as a permutation group) generated by [(1,3,4)],\n",
       " Subgroup of (Alternating group of order 4!/2 as a permutation group) generated by [(1,2)(3,4), (1,3)(2,4)],\n",
       " Subgroup of (Alternating group of order 4!/2 as a permutation group) generated by [(2,4,3), (1,2)(3,4), (1,3)(2,4)]]"
      ]
     },
     "execution_count": 3,
     "metadata": {
     },
     "output_type": "execute_result"
    }
   ],
   "source": [
    "G = AlternatingGroup(4)\n",
    "G.subgroups()"
   ]
  },
  {
   "cell_type": "markdown",
   "metadata": {
    "collapsed": false
   },
   "source": [
    "Subgroups uses the GAP library. I found this by looking at the reference for the function http://doc.sagemath.org/html/en/reference/groups/sage/groups/perm_gps/permgroup.html#sage.groups.perm_gps.permgroup.PermutationGroup_generic.conjugacy_classes_subgroups"
   ]
  },
  {
   "cell_type": "code",
   "execution_count": 1,
   "metadata": {
    "collapsed": false
   },
   "outputs": [
    {
     "data": {
      "text/plain": [
       "-(x + y)/z^2"
      ]
     },
     "execution_count": 1,
     "metadata": {
     },
     "output_type": "execute_result"
    }
   ],
   "source": [
    "var('x,y,z')\n",
    "f = (x+y)/z\n",
    "f.derivative(z)"
   ]
  },
  {
   "cell_type": "markdown",
   "metadata": {
    "collapsed": false
   },
   "source": [
    "Derivative uses Maxima and I found it by looking at the documentation for the function. http://doc.sagemath.org/html/en/reference/calculus/sage/calculus/calculus.html"
   ]
  },
  {
   "cell_type": "code",
   "execution_count": 0,
   "metadata": {
    "collapsed": false
   },
   "outputs": [
   ],
   "source": [
    "R.<x,y,z> = PolynomialRing(QQ)\n",
    "factor(x^3+y^3+z^3-3*x*y*z)"
   ]
  },
  {
   "cell_type": "markdown",
   "metadata": {
    "collapsed": false
   },
   "source": [
    "PolynomialRing uses the NTL or FLINT libraries for the implementation argument of the function. I found this by looking at the documentation of the function."
   ]
  },
  {
   "cell_type": "markdown",
   "metadata": {
    "collapsed": false
   },
   "source": [
    "### Problem 3: Mersenne primes"
   ]
  },
  {
   "cell_type": "markdown",
   "metadata": {
    "collapsed": false
   },
   "source": [
    "Grading criteria: correctness of explanation and code."
   ]
  },
  {
   "cell_type": "markdown",
   "metadata": {
    "collapsed": false
   },
   "source": [
    "3a. A *Mersenne prime* is a prime number of the form $2^p-1$ where $p$ is itself prime. (Note that these are the only possible primes of the form $2^n-1$ where $n$ is a positive integer). They are called this because Marin Mersenne was the first person to attempt to list these primes systematically: he claimed that for $p \\leq 257$, $2^p-1$ is prime if and only if\n",
    "$$p \\in \\{2, 3, 5, 7, 13, 17, 19, 31, 67, 127, 257\\}.$$\n",
    "This list turns out to be incorrect; write Sage code to compute the correct list."
   ]
  },
  {
   "cell_type": "code",
   "execution_count": 1,
   "metadata": {
    "collapsed": false
   },
   "outputs": [
    {
     "name": "stdout",
     "output_type": "stream",
     "text": [
      "[  2   3   5   7  11  13  17  19  23  29  31  37  41  43  47  53  59  61\n",
      "  67  71  73  79  83  89  97 101 103 107 109 113 127 131 137 139 149 151\n",
      " 157 163 167 173 179 181 191 193 197 199 211 223 227 229 233 239 241 251\n",
      " 257]\n",
      "[True, True, True, True, False, True, True, True, False, False, True, False, False, False, False, False, False, True, False, False, False, False, False, True, False, False, False, True, False, False, True, False, False, False, False, False, False, False, False, False, False, False, False, False, False, False, False, False, False, False, False, False, False, False, False]\n",
      "[  2   3   5   7  13  17  19  31  61  89 107 127]\n"
     ]
    }
   ],
   "source": [
    "# your code goes here\n",
    "\n",
    "import numpy as np\n",
    "\n",
    "#finds the primes that are less than or equal to 257\n",
    "primes = np.array([Primes().unrank(x) for x in range(60)])\n",
    "p = primes[primes<=257]\n",
    "print(p)\n",
    "\n",
    "#of those primes<=257, check whether each of them is a Mersenne prime and store their index if so\n",
    "Mersenne_prime = np.array([2**q-1 for q in p])\n",
    "indicies = [is_prime(x) for x in Mersenne_prime]\n",
    "print(indicies)\n",
    "\n",
    "#list of Mersenne primes up to 257\n",
    "p_set = p[indicies]\n",
    "print(p_set)"
   ]
  },
  {
   "cell_type": "markdown",
   "metadata": {
    "collapsed": false
   },
   "source": [
    "3b. On January 3, 2018, the [Great Internet Mersenne Prime Search](https://www.mersenne.org/) announced that $2^{77232917}-1$ is the \"50th known Mersenne prime.\" Why didn't they announce that it is the \"50th Mersenne prime\"?"
   ]
  },
  {
   "cell_type": "markdown",
   "metadata": {
    "collapsed": false
   },
   "source": [
    "The 50th Mersenne prime implies that you know the 49th, 48th, and so on. The 50th known Mersenns prime means that is the 50th verified Mersenne prime but it is not necessarily the 50th ordered Mersenne prime. "
   ]
  },
  {
   "cell_type": "markdown",
   "metadata": {
    "collapsed": false
   },
   "source": [
    "3c. The little Fermat theorem states that if $p$ is prime, then $2^{p-1} \\equiv 1 \\pmod{p}$. This can be used as a test for primality (the *Fermat test*) which has no false negatives, but does have some false positives (see part (d)).\n",
    "\n",
    "Explain why the following code cannot be used to  apply the Fermat test to the number $p = 2^{21701}-1$, then give an alternate approach that does work. "
   ]
  },
  {
   "cell_type": "code",
   "execution_count": 6,
   "metadata": {
    "collapsed": false
   },
   "outputs": [
    {
     "ename": "RuntimeError",
     "evalue": "exponent must be at most 9223372036854775807",
     "output_type": "error",
     "traceback": [
      "\u001b[0;31m---------------------------------------------------------------------------\u001b[0m",
      "\u001b[0;31mRuntimeError\u001b[0m                              Traceback (most recent call last)",
      "\u001b[0;32m<ipython-input-6-e26f91da2338>\u001b[0m in \u001b[0;36m<module>\u001b[0;34m()\u001b[0m\n\u001b[1;32m      1\u001b[0m \u001b[0mp\u001b[0m \u001b[0;34m=\u001b[0m \u001b[0mInteger\u001b[0m\u001b[0;34m(\u001b[0m\u001b[0;36m2\u001b[0m\u001b[0;34m)\u001b[0m\u001b[0;34m**\u001b[0m\u001b[0mInteger\u001b[0m\u001b[0;34m(\u001b[0m\u001b[0;36m21701\u001b[0m\u001b[0;34m)\u001b[0m \u001b[0;34m-\u001b[0m \u001b[0mInteger\u001b[0m\u001b[0;34m(\u001b[0m\u001b[0;36m1\u001b[0m\u001b[0;34m)\u001b[0m\u001b[0;34m\u001b[0m\u001b[0m\n\u001b[0;32m----> 2\u001b[0;31m \u001b[0;32mprint\u001b[0m\u001b[0;34m(\u001b[0m\u001b[0mInteger\u001b[0m\u001b[0;34m(\u001b[0m\u001b[0;36m2\u001b[0m\u001b[0;34m)\u001b[0m\u001b[0;34m**\u001b[0m\u001b[0;34m(\u001b[0m\u001b[0mp\u001b[0m\u001b[0;34m-\u001b[0m\u001b[0mInteger\u001b[0m\u001b[0;34m(\u001b[0m\u001b[0;36m1\u001b[0m\u001b[0;34m)\u001b[0m\u001b[0;34m)\u001b[0m \u001b[0;34m%\u001b[0m \u001b[0mp\u001b[0m\u001b[0;34m)\u001b[0m \u001b[0;31m# This won't work.\u001b[0m\u001b[0;34m\u001b[0m\u001b[0m\n\u001b[0m",
      "\u001b[0;32m/ext/sage/sage-8.1/src/sage/rings/integer.pyx\u001b[0m in \u001b[0;36msage.rings.integer.Integer.__pow__ (build/cythonized/sage/rings/integer.c:14183)\u001b[0;34m()\u001b[0m\n\u001b[1;32m   2058\u001b[0m             \u001b[0;32melif\u001b[0m \u001b[0mmpz_cmp_si\u001b[0m\u001b[0;34m(\u001b[0m\u001b[0m_self\u001b[0m\u001b[0;34m.\u001b[0m\u001b[0mvalue\u001b[0m\u001b[0;34m,\u001b[0m \u001b[0;34m-\u001b[0m\u001b[0;36m1\u001b[0m\u001b[0;34m)\u001b[0m \u001b[0;34m==\u001b[0m \u001b[0;36m0\u001b[0m\u001b[0;34m:\u001b[0m\u001b[0;34m\u001b[0m\u001b[0m\n\u001b[1;32m   2059\u001b[0m                 \u001b[0;32mreturn\u001b[0m \u001b[0mself\u001b[0m \u001b[0;32mif\u001b[0m \u001b[0mn\u001b[0m \u001b[0;34m%\u001b[0m \u001b[0;36m2\u001b[0m \u001b[0;32melse\u001b[0m \u001b[0;34m-\u001b[0m\u001b[0mself\u001b[0m\u001b[0;34m\u001b[0m\u001b[0m\n\u001b[0;32m-> 2060\u001b[0;31m             \u001b[0;32mraise\u001b[0m \u001b[0mRuntimeError\u001b[0m\u001b[0;34m(\u001b[0m\u001b[0;34m\"exponent must be at most %s\"\u001b[0m \u001b[0;34m%\u001b[0m \u001b[0msys\u001b[0m\u001b[0;34m.\u001b[0m\u001b[0mmaxsize\u001b[0m\u001b[0;34m)\u001b[0m\u001b[0;34m\u001b[0m\u001b[0m\n\u001b[0m\u001b[1;32m   2061\u001b[0m \u001b[0;34m\u001b[0m\u001b[0m\n\u001b[1;32m   2062\u001b[0m         \u001b[0;32mif\u001b[0m \u001b[0mnn\u001b[0m \u001b[0;34m==\u001b[0m \u001b[0;36m0\u001b[0m\u001b[0;34m:\u001b[0m\u001b[0;34m\u001b[0m\u001b[0m\n",
      "\u001b[0;31mRuntimeError\u001b[0m: exponent must be at most 9223372036854775807"
     ]
    }
   ],
   "source": [
    "p = 2^21701 - 1\n",
    "print(2^(p-1) % p) # This won't work."
   ]
  },
  {
   "cell_type": "markdown",
   "metadata": {
    "collapsed": false
   },
   "source": [
    "The exponent $p = 2^{21701} - 1$ is too large for Sage to interpret. The maximum exponent that Sage allows is 9223372036854775807."
   ]
  },
  {
   "cell_type": "code",
   "execution_count": 3,
   "metadata": {
    "collapsed": false
   },
   "outputs": [
    {
     "data": {
      "text/plain": [
       "1"
      ]
     },
     "execution_count": 3,
     "metadata": {
     },
     "output_type": "execute_result"
    }
   ],
   "source": [
    "# your better code goes here\n",
    "p = 2^21701 - 1\n",
    "pow(2,(p-1),p)"
   ]
  },
  {
   "cell_type": "markdown",
   "metadata": {
    "collapsed": false
   },
   "source": [
    "3d. Find all integers up to 1000 which are false positives for the Fermat test. These include *Carmichael numbers*, in case you want to read more about this phenomenon."
   ]
  },
  {
   "cell_type": "code",
   "execution_count": 4,
   "metadata": {
    "collapsed": false
   },
   "outputs": [
    {
     "name": "stdout",
     "output_type": "stream",
     "text": [
      "[  3   5   7  11  13  17  19  23  29  31  37  41  43  47  53  59  61  67\n",
      "  71  73  79  83  89  97 101 103 107 109 113 127 131 137 139 149 151 157\n",
      " 163 167 173 179 181 191 193 197 199 211 223 227 229 233 239 241 251 257\n",
      " 263 269 271 277 281 283 293 307 311 313 317 331 337 341 347 349 353 359\n",
      " 367 373 379 383 389 397 401 409 419 421 431 433 439 443 449 457 461 463\n",
      " 467 479 487 491 499 503 509 521 523 541 547 557 561 563 569 571 577 587\n",
      " 593 599 601 607 613 617 619 631 641 643 645 647 653 659 661 673 677 683\n",
      " 691 701 709 719 727 733 739 743 751 757 761 769 773 787 797 809 811 821\n",
      " 823 827 829 839 853 857 859 863 877 881 883 887 907 911 919 929 937 941\n",
      " 947 953 967 971 977 983 991 997]\n",
      "[False, False, False, False, False, False, False, False, False, False, False, False, False, False, False, False, False, False, False, False, False, False, False, False, False, False, False, False, False, False, False, False, False, False, False, False, False, False, False, False, False, False, False, False, False, False, False, False, False, False, False, False, False, False, False, False, False, False, False, False, False, False, False, False, False, False, False, True, False, False, False, False, False, False, False, False, False, False, False, False, False, False, False, False, False, False, False, False, False, False, False, False, False, False, False, False, False, False, False, False, False, False, True, False, False, False, False, False, False, False, False, False, False, False, False, False, False, False, True, False, False, False, False, False, False, False, False, False, False, False, False, False, False, False, False, False, False, False, False, False, False, False, False, False, False, False, False, False, False, False, False, False, False, False, False, False, False, False, False, False, False, False, False, False, False, False, False, False, False, False]\n",
      "[341 561 645]\n"
     ]
    }
   ],
   "source": [
    "# your code goes here\n",
    "import numpy as np\n",
    "\n",
    "#applying the fermat test for all integers 1<=i<=1000 and only keeping the integers that pass the test\n",
    "fermat_test = np.array([x for x in range(1,1001) if (2**(x-1)%x)==1])\n",
    "#finding indicies of the numbers that are NOT prime\n",
    "index = [not is_prime(x) for x in fermat_test]\n",
    "#of the integers that pass the fermat test, find the ones that are not prime (i.e the false positives)\n",
    "false_positive = fermat_test[index]\n",
    "\n",
    "print(fermat_test)\n",
    "print(index)\n",
    "print(fermat_test[index])"
   ]
  },
  {
   "cell_type": "markdown",
   "metadata": {
    "collapsed": false
   },
   "source": [
    "### Problem 4: Defining and evaluating a function"
   ]
  },
  {
   "cell_type": "markdown",
   "metadata": {
    "collapsed": false
   },
   "source": [
    "Grading criteria: correctness of code."
   ]
  },
  {
   "cell_type": "markdown",
   "metadata": {
    "collapsed": false
   },
   "source": [
    "4a. Define in Sage the symbolic function (not a Python function)\n",
    "$$f(x) = \\sinh(x^2-x-1) + e^{\\pi x} + \\arcsin(x) + \\frac{1}{x^3-x-e}$$."
   ]
  },
  {
   "cell_type": "code",
   "execution_count": 12,
   "metadata": {
    "collapsed": false
   },
   "outputs": [
    {
     "data": {
      "text/html": [
       "<html><script type=\"math/tex; mode=display\">\\newcommand{\\Bold}[1]{\\mathbf{#1}}x \\ {\\mapsto}\\ \\frac{1}{x^{3} - x - e} + \\arcsin\\left(x\\right) + e^{\\left(\\pi x\\right)} + \\sinh\\left(x^{2} - x - 1\\right)</script></html>"
      ]
     },
     "execution_count": 12,
     "metadata": {
     },
     "output_type": "execute_result"
    }
   ],
   "source": [
    "f(x) = sinh(x**2-x-1)+exp(pi*x)+arcsin(x)+1/(x**3-x-exp(1))\n",
    "show(f)"
   ]
  },
  {
   "cell_type": "markdown",
   "metadata": {
    "collapsed": false
   },
   "source": [
    "4b. Compute $f(1/2)$ exactly (i.e., your answer should be a symbolic expression)."
   ]
  },
  {
   "cell_type": "code",
   "execution_count": 13,
   "metadata": {
    "collapsed": false
   },
   "outputs": [
    {
     "data": {
      "text/html": [
       "<html><script type=\"math/tex; mode=display\">\\newcommand{\\Bold}[1]{\\mathbf{#1}}\\frac{1}{6} \\, \\pi - \\frac{8}{8 \\, e + 3} + e^{\\left(\\frac{1}{2} \\, \\pi\\right)} - \\sinh\\left(\\frac{5}{4}\\right)</script></html>"
      ]
     },
     "execution_count": 13,
     "metadata": {
     },
     "output_type": "execute_result"
    }
   ],
   "source": [
    "f(1/2)\n",
    "show(f(1/2))"
   ]
  },
  {
   "cell_type": "markdown",
   "metadata": {
    "collapsed": false
   },
   "source": [
    "4c. Compute $f(1/2)$ numerically (i.e., your answer should be a decimal expansion)."
   ]
  },
  {
   "cell_type": "code",
   "execution_count": 16,
   "metadata": {
    "collapsed": false,
    "scrolled": true
   },
   "outputs": [
    {
     "name": "stdout",
     "output_type": "stream",
     "text": [
      "3.40887583146976\n",
      "3.40887583146976\n"
     ]
    }
   ],
   "source": [
    "print(RR(f(1/2)))\n",
    "#print(N(f(1/2)))"
   ]
  },
  {
   "cell_type": "markdown",
   "metadata": {
    "collapsed": false
   },
   "source": [
    "4d. Plot $f(x)$ from $-1$ to $1$."
   ]
  },
  {
   "cell_type": "code",
   "execution_count": 15,
   "metadata": {
    "collapsed": false
   },
   "outputs": [
    {
     "data": {
      "image/png": "[encoded data removed]"
     },
     "execution_count": 15,
     "metadata": {
     },
     "output_type": "execute_result"
    }
   ],
   "source": [
    "plot1 = plot(f,(-1,1))\n",
    "show(plot1)"
   ]
  },
  {
   "cell_type": "markdown",
   "metadata": {
    "collapsed": false
   },
   "source": [
    "### Problem 5: Numerical root-finding"
   ]
  },
  {
   "cell_type": "markdown",
   "metadata": {
    "collapsed": false
   },
   "source": [
    "Grading criteria: correctness (of code) and thoroughness (of explanation)."
   ]
  },
  {
   "cell_type": "markdown",
   "metadata": {
    "collapsed": false
   },
   "source": [
    "5a. Plot the function $f(x) = \\displaystyle x^2 + \\sin(x)$ on the interval $[-2,2]$.\n"
   ]
  },
  {
   "cell_type": "code",
   "execution_count": 3,
   "metadata": {
    "collapsed": false
   },
   "outputs": [
    {
     "data": {
      "image/png": "[encoded data removed]"
     },
     "execution_count": 3,
     "metadata": {
     },
     "output_type": "execute_result"
    }
   ],
   "source": [
    "f(x) = x**2+sin(x)\n",
    "plot2 = plot(f,(-2,2))\n",
    "show(plot2)"
   ]
  },
  {
   "cell_type": "markdown",
   "metadata": {
    "collapsed": false
   },
   "source": [
    "5b. Use Sage to compute the derivative and antiderivative of $f$.\n"
   ]
  },
  {
   "cell_type": "code",
   "execution_count": 6,
   "metadata": {
    "collapsed": false
   },
   "outputs": [
    {
     "data": {
      "text/html": [
       "<html><script type=\"math/tex; mode=display\">\\newcommand{\\Bold}[1]{\\mathbf{#1}}x \\ {\\mapsto}\\ 2 \\, x + \\cos\\left(x\\right)</script></html>"
      ]
     },
     "execution_count": 6,
     "metadata": {
     },
     "output_type": "execute_result"
    },
    {
     "data": {
      "text/html": [
       "<html><script type=\"math/tex; mode=display\">\\newcommand{\\Bold}[1]{\\mathbf{#1}}x \\ {\\mapsto}\\ \\frac{1}{3} \\, x^{3} - \\cos\\left(x\\right)</script></html>"
      ]
     },
     "execution_count": 6,
     "metadata": {
     },
     "output_type": "execute_result"
    }
   ],
   "source": [
    "derivative = diff(f,x)\n",
    "antiderivative = integrate(f,x)\n",
    "show(derivative); show(antiderivative)"
   ]
  },
  {
   "cell_type": "markdown",
   "metadata": {
    "collapsed": false
   },
   "source": [
    "5c. Find numerical approximations to *all* of the zeros of $f(x)$."
   ]
  },
  {
   "cell_type": "code",
   "execution_count": 83,
   "metadata": {
    "collapsed": false
   },
   "outputs": [
    {
     "name": "stdout",
     "output_type": "stream",
     "text": [
      "-0.876726215395\n",
      "5.7821863522e-23\n"
     ]
    }
   ],
   "source": [
    "#based on the graph, I know roots of f are somewhere between [-1,-1/2] and [-1/2,1/2]\n",
    "root1 = f.find_root(-1,-1/2)\n",
    "root2 = f.find_root(-1/2,1/2)\n",
    "print(root1); print(root2)\n",
    "#root2 is 0"
   ]
  },
  {
   "cell_type": "markdown",
   "metadata": {
    "collapsed": false
   },
   "source": [
    "5d. In as much detail as you can, justify mathematically why your list in (c) is complete. Your explanation may include additional Sage code if necessary."
   ]
  },
  {
   "cell_type": "code",
   "execution_count": 13,
   "metadata": {
    "collapsed": false
   },
   "outputs": [
    {
     "data": {
      "image/png": "[encoded data removed]"
     },
     "execution_count": 13,
     "metadata": {
     },
     "output_type": "execute_result"
    },
    {
     "data": {
      "text/html": [
       "<html><script type=\"math/tex; mode=display\">\\newcommand{\\Bold}[1]{\\mathbf{#1}}x \\ {\\mapsto}\\ 2 \\, x + \\cos\\left(x\\right)</script></html>"
      ]
     },
     "execution_count": 13,
     "metadata": {
     },
     "output_type": "execute_result"
    },
    {
     "name": "stdout",
     "output_type": "stream",
     "text": [
      "-0.450183611295\n"
     ]
    }
   ],
   "source": [
    "#use 1st derivative test\n",
    "show(plot(derivative,(-5,5)))\n",
    "show(derivative)\n",
    "extrema = derivative.find_root(-2,0)\n",
    "print(extrema)"
   ]
  },
  {
   "cell_type": "markdown",
   "metadata": {
    "collapsed": false
   },
   "source": [
    "Using the first derivative test, I found that the function $f(x)$ has negative slope on the interval (-$\\infty$,extrema) and postive slope on (extrema,$\\infty$). This knowledge combined with the plot of $f(x)$ lets me know that the function is decreasing on (-$\\infty$,extrema) and therefore has no other roots for x<root1 since the function value is strictly positive. Similarly the function is increasing on (extrema,$\\infty$) and therefore has no other roots for root2<x since the function value is strictly positive. Thus, root1 and root2 are the only roots of $f(x)$"
   ]
  },
  {
   "cell_type": "markdown",
   "metadata": {
    "collapsed": false
   },
   "source": [
    "### Problem 6: Taylor series"
   ]
  },
  {
   "cell_type": "markdown",
   "metadata": {
    "collapsed": false
   },
   "source": [
    "Grading criteria: correctness."
   ]
  },
  {
   "cell_type": "markdown",
   "metadata": {
    "collapsed": false
   },
   "source": [
    "6a. Define the function $f(x) = \\sin(x^2)$. Find the degree 3 Taylor series $p_3$ of $f$ about $x_0 = 2\\pi$."
   ]
  },
  {
   "cell_type": "code",
   "execution_count": 1,
   "metadata": {
    "collapsed": false
   },
   "outputs": [
    {
     "data": {
      "text/html": [
       "<html><script type=\"math/tex; mode=display\">\\newcommand{\\Bold}[1]{\\mathbf{#1}}x \\ {\\mapsto}\\ \\frac{4}{3} \\, {\\left(2 \\, \\pi - x\\right)}^{3} {\\left(8 \\, \\pi^{3} \\cos\\left(4 \\, \\pi^{2}\\right) + 3 \\, \\pi \\sin\\left(4 \\, \\pi^{2}\\right)\\right)} - {\\left(2 \\, \\pi - x\\right)}^{2} {\\left(8 \\, \\pi^{2} \\sin\\left(4 \\, \\pi^{2}\\right) - \\cos\\left(4 \\, \\pi^{2}\\right)\\right)} - 4 \\, \\pi {\\left(2 \\, \\pi - x\\right)} \\cos\\left(4 \\, \\pi^{2}\\right) + \\sin\\left(4 \\, \\pi^{2}\\right)</script></html>"
      ]
     },
     "execution_count": 1,
     "metadata": {
     },
     "output_type": "execute_result"
    }
   ],
   "source": [
    "f(x)=sin(x**2)\n",
    "f_taylor3 = f.taylor(x,2*pi,3) #variable,point,degree\n",
    "show(f_taylor3)\n",
    "#plot(f,(x,5.5,7),ymin=-3,ymax=3,color='blue')"
   ]
  },
  {
   "cell_type": "markdown",
   "metadata": {
    "collapsed": false
   },
   "source": [
    "6b. Make a single Sage plot on the interval $x=[\\pi, 3\\pi]$ showing both $f(x)$ and its degree 10 Taylor series $p_{10}$ about $x_0 = 2\\pi$."
   ]
  },
  {
   "cell_type": "code",
   "execution_count": 2,
   "metadata": {
    "collapsed": false
   },
   "outputs": [
    {
     "data": {
      "image/png": "[encoded data removed]"
     },
     "execution_count": 2,
     "metadata": {
     },
     "output_type": "execute_result"
    }
   ],
   "source": [
    "f_taylor10 = f.taylor(x,2*pi,10) #variable,point,degree\n",
    "plot(f_taylor10,(x,pi,3*pi),ymin=-1.5,ymax=1.5,color='red') + plot(f,(x,pi,3*pi),ymin=-1.5,ymax=1.5,color='blue')"
   ]
  },
  {
   "cell_type": "code",
   "execution_count": 0,
   "metadata": {
    "collapsed": false
   },
   "outputs": [
   ],
   "source": [
   ]
  }
 ],
 "metadata": {
  "kernelspec": {
   "display_name": "SageMath 8.1",
   "name": "sage-8.1"
  },
  "language_info": {
   "codemirror_mode": {
    "name": "ipython",
    "version": 2
   },
   "file_extension": ".py",
   "mimetype": "text/x-python",
   "name": "python",
   "nbconvert_exporter": "python",
   "pygments_lexer": "ipython2",
   "version": "2.7.14"
  }
 },
 "nbformat": 4,
 "nbformat_minor": 0
}