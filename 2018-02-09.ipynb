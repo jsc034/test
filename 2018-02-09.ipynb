{
 "cells": [
  {
   "cell_type": "markdown",
   "metadata": {
    "collapsed": false
   },
   "source": [
    "## Math 157: Intro to Mathematical Software\n",
    "## UC San Diego, winter 2018"
   ]
  },
  {
   "cell_type": "markdown",
   "metadata": {
    "collapsed": false
   },
   "source": [
    "## Homework 4: due February 9, 2018"
   ]
  },
  {
   "cell_type": "markdown",
   "metadata": {
    "collapsed": false
   },
   "source": [
    "Please enter all answers within this notebook unless otherwise specified. As usual, don't forget to cite sources and collaborators.\n",
    "\n",
    "Through this problem set, use the SageMath 8.1 kernel."
   ]
  },
  {
   "cell_type": "markdown",
   "metadata": {
    "collapsed": false
   },
   "source": [
    "### Problem 1: QR codes"
   ]
  },
  {
   "cell_type": "markdown",
   "metadata": {
    "collapsed": false
   },
   "source": [
    "Grading criterion: correctness of code and output."
   ]
  },
  {
   "cell_type": "markdown",
   "metadata": {
    "collapsed": false
   },
   "source": [
    "1a. The following image is the file \"qr.gif\" in this folder: ![qr.gif](qr.gif). Using the command `scipy.misc.imread`, convert this QR code into the underlying 0-1 matrix that it represents (black = 0, white = 1). You might want to read the [Scipy Lectures section on image processing](http://www.scipy-lectures.org/advanced/image_processing/) for some context on image processing.\n",
    "\n",
    "\n"
   ]
  },
  {
   "cell_type": "code",
   "execution_count": 154,
   "metadata": {
    "collapsed": false
   },
   "outputs": [
   ],
   "source": [
    "import scipy.misc\n",
    "import numpy as np\n",
    "\n",
    "mat = scipy.misc.imread('qr.gif')\n",
    "mat = np.array(mat)\n",
    "mat[mat==255] = 1\n",
    "mat[mat==0] = 0"
   ]
  },
  {
   "cell_type": "markdown",
   "metadata": {
    "collapsed": false
   },
   "source": [
    "1b. Using the command `matrix_plot`, convert your answer for part (a) back into a QR code. Your answer should be legible to a standard QR code reader (e.g., on your phone)."
   ]
  },
  {
   "cell_type": "code",
   "execution_count": 155,
   "metadata": {
    "collapsed": false
   },
   "outputs": [
    {
     "data": {
      "image/png": "[encoded data removed]"
     },
     "execution_count": 155,
     "metadata": {
     },
     "output_type": "execute_result"
    }
   ],
   "source": [
    "matrix_plot(mat)"
   ]
  },
  {
   "cell_type": "markdown",
   "metadata": {
    "collapsed": false
   },
   "source": [
    "### Problem 2: Timing"
   ]
  },
  {
   "cell_type": "markdown",
   "metadata": {
    "collapsed": false
   },
   "source": [
    "Grading criterion: correctness of code."
   ]
  },
  {
   "cell_type": "markdown",
   "metadata": {
    "collapsed": false
   },
   "source": [
    "2a. Write a straightforward Python function (that is, directly implement the definition without using any Sage or NumPy shortcuts) to compute the standard deviation of a list of numbers."
   ]
  },
  {
   "cell_type": "code",
   "execution_count": 18,
   "metadata": {
    "collapsed": false
   },
   "outputs": [
   ],
   "source": [
    "def f(v):\n",
    "    u = [(x-mean(v))^2 for x in v]\n",
    "    return sqrt(sum(u)/(len(u))) #formula for population standard deviation"
   ]
  },
  {
   "cell_type": "markdown",
   "metadata": {
    "collapsed": false
   },
   "source": [
    "2b. Using `timeit`, compare the speed of your program when given as input `v = range(1000)`,  `v = range(10000)` and `v = range(100000)` with the built-in functions provided by the following systems:\n",
    "- numpy;\n",
    "- R (use `r.???` to access R functions);\n",
    "- `stats.TimeSeries`."
   ]
  },
  {
   "cell_type": "code",
   "execution_count": 19,
   "metadata": {
    "collapsed": false,
    "scrolled": true
   },
   "outputs": [
    {
     "name": "stdout",
     "output_type": "stream",
     "text": [
      "25 loops, best of 3: 27.9 ms per loop\n",
      "625 loops, best of 3: 31.2 µs per loop\n"
     ]
    },
    {
     "name": "stdout",
     "output_type": "stream",
     "text": [
      "25 loops, best of 3: 24.3 ms per loop\n",
      "625 loops, best of 3: 4.68 µs per loop\n"
     ]
    }
   ],
   "source": [
    "import numpy as np\n",
    "v = np.array(range(1000))\n",
    "timeit('f(v)')\n",
    "timeit('np.std(v)')\n",
    "timeit('r.sd(v)')\n",
    "timeit('stats.TimeSeries.standard_deviation(finance.TimeSeries(v))')"
   ]
  },
  {
   "cell_type": "code",
   "execution_count": 8,
   "metadata": {
    "collapsed": false
   },
   "outputs": [
    {
     "name": "stdout",
     "output_type": "stream",
     "text": [
      "5 loops, best of 3: 482 ms per loop\n"
     ]
    },
    {
     "name": "stdout",
     "output_type": "stream",
     "text": [
      "625 loops, best of 3: 67.3 µs per loop\n"
     ]
    },
    {
     "name": "stdout",
     "output_type": "stream",
     "text": [
      "25 loops, best of 3: 16.3 ms per loop\n",
      "625 loops, best of 3: 39.6 µs per loop\n"
     ]
    }
   ],
   "source": [
    "import numpy as np\n",
    "v = np.array(range(10000))\n",
    "timeit('f(v)')\n",
    "timeit('np.std(v)')\n",
    "timeit('r.sd(v)')\n",
    "timeit('stats.TimeSeries.standard_deviation(finance.TimeSeries(v))')"
   ]
  },
  {
   "cell_type": "code",
   "execution_count": 22,
   "metadata": {
    "collapsed": false
   },
   "outputs": [
    {
     "name": "stdout",
     "output_type": "stream",
     "text": [
      "1 loops, best of 1: 18.1 s per loop\n"
     ]
    },
    {
     "name": "stdout",
     "output_type": "stream",
     "text": [
      "625 loops, best of 3: 355 µs per loop\n"
     ]
    },
    {
     "name": "stdout",
     "output_type": "stream",
     "text": [
      "25 loops, best of 3: 15.7 ms per loop\n"
     ]
    },
    {
     "name": "stdout",
     "output_type": "stream",
     "text": [
      "625 loops, best of 3: 374 µs per loop\n"
     ]
    }
   ],
   "source": [
    "v = np.array(range(100000))\n",
    "timeit('f(v)',number=1,repeat=1)\n",
    "timeit('np.std(v)')\n",
    "timeit('r.sd(v)')\n",
    "timeit('stats.TimeSeries.standard_deviation(finance.TimeSeries(v))')"
   ]
  },
  {
   "cell_type": "markdown",
   "metadata": {
    "collapsed": false
   },
   "source": [
    "### Problem 3: Playing cards"
   ]
  },
  {
   "cell_type": "markdown",
   "metadata": {
    "collapsed": false
   },
   "source": [
    "Grading criterion: correctness of code and output."
   ]
  },
  {
   "cell_type": "markdown",
   "metadata": {
    "collapsed": false
   },
   "source": [
    "Overall hint: you may want to read this [tutorial](https://doc.sagemath.org/html/en/reference/combinat/sage/combinat/tutorial.html) which solves an easier version of this problem."
   ]
  },
  {
   "cell_type": "markdown",
   "metadata": {
    "collapsed": false
   },
   "source": [
    "3a. Form a \"deck of playing cards\" by making a list of 52 tuples, each of which is an ordered pair whose first member is one of the 13 possible ranks (A,2,3,4,5,6,7,8,9,T,J,Q,K) and whose second member is one of the 4 possible suits (C,D,H,S)."
   ]
  },
  {
   "cell_type": "code",
   "execution_count": 41,
   "metadata": {
    "collapsed": false
   },
   "outputs": [
    {
     "data": {
      "text/plain": [
       "52"
      ]
     },
     "execution_count": 41,
     "metadata": {
     },
     "output_type": "execute_result"
    }
   ],
   "source": [
    "#suits = Set(['C','D','H','S'])\n",
    "#ranks = Set([\"2\", \"3\", \"4\", \"5\", \"6\", \"7\", \"8\", \"9\", \"T\", \"J\", \"Q\", \"K\",\"A\"])\n",
    "suits = Set([1,2,3,4])\n",
    "ranks = Set([2,3,4,5,6,7,8,9,10,11,12,13,14])\n",
    "deck = cartesian_product([suits, ranks])\n",
    "deck.cardinality()"
   ]
  },
  {
   "cell_type": "markdown",
   "metadata": {
    "collapsed": false
   },
   "source": [
    "3b. A *poker hand* consists of five distinct cards (order not important). Construct an iterator (not a list) that enumerates the possible poker hands from your deck."
   ]
  },
  {
   "cell_type": "code",
   "execution_count": 43,
   "metadata": {
    "collapsed": false
   },
   "outputs": [
    {
     "data": {
      "text/plain": [
       "<type 'generator'>"
      ]
     },
     "execution_count": 43,
     "metadata": {
     },
     "output_type": "execute_result"
    }
   ],
   "source": [
    "Hands = Subsets(deck, 5)\n",
    "Hands.cardinality() #matches binomial(52,5)\n",
    "iterator_hands = iter(Hands)"
   ]
  },
  {
   "cell_type": "markdown",
   "metadata": {
    "collapsed": false
   },
   "source": [
    "3c. Write a function that, given a poker hand, returns the classification of this hand according to the [Wikipedia list of poker hands](https://en.wikipedia.org/wiki/List_of_poker_hands)."
   ]
  },
  {
   "cell_type": "code",
   "execution_count": 44,
   "metadata": {
    "collapsed": false
   },
   "outputs": [
   ],
   "source": [
    "#Helper Functions\n",
    "#This function counts how many of each rank there are in the hand\n",
    "#https://stackoverflow.com/questions/2161752/how-to-count-the-frequency-of-the-elements-in-a-list\n",
    "def rank_counts(hand):\n",
    "    from itertools import groupby\n",
    "    rank_seen = sorted([b for (a,b) in hand])\n",
    "    rank_seen_count = [len(list(group)) for key, group in groupby(rank_seen)]\n",
    "    rank_seen = sorted(list(set(rank_seen)))\n",
    "    return (rank_seen,rank_seen_count)\n",
    "\n",
    "\n",
    "def is_royal_flush(hand):\n",
    "    rank_seen = sorted([b for (a,b) in hand])\n",
    "    #if the n+1 rank is 1 larger than the nth rank for all 0<=n<=3, then it is a straight AND all same suit\n",
    "    if (rank_seen[0]==10) and (rank_seen[1]==11) and (rank_seen[2]==12) and (rank_seen[3]==13) and (rank_seen[4]==14) and len(set(a for (a,b) in hand)) == 1:\n",
    "        return True\n",
    "    return False\n",
    "\n",
    "\n",
    "def is_straight_flush(hand):\n",
    "    rank_seen = sorted([b for (a,b) in hand])\n",
    "    #if the n+1 rank is 1 larger than the nth rank for all 0<=n<=3, then it is a straight AND all same suit\n",
    "    if ((rank_seen[0]==2) and (rank_seen[1]==3) and (rank_seen[2]==4) and (rank_seen[3]==5) and (rank_seen[4]==14) or (rank_seen[0]+1==rank_seen[1]) and (rank_seen[1]+1==rank_seen[2]) and (rank_seen[2]+1==rank_seen[3]) and (rank_seen[3]+1==rank_seen[4])) and len(set(a for (a,b) in hand)) == 1 and (not is_royal_flush(hand)):\n",
    "        return True\n",
    "    return False\n",
    "\n",
    "\n",
    "def is_four_of(hand):\n",
    "    P = rank_counts(hand)\n",
    "    #check if hand has 2 types of ranks\n",
    "    if len(P[0]) != 2:\n",
    "        return False\n",
    "    if (1 in P[1]) and (4 in P[1]):\n",
    "        return True\n",
    "    else:\n",
    "        return False\n",
    "\n",
    "def is_full_house(hand):\n",
    "    P = rank_counts(hand)\n",
    "    #check if hand has 2 types of ranks\n",
    "    if len(P[0]) != 2:\n",
    "        return False\n",
    "    if (2 in P[1]) and (3 in P[1]):\n",
    "        return True\n",
    "    else:\n",
    "        return False\n",
    "\n",
    "#https://doc.sagemath.org/html/en/reference/combinat/sage/combinat/tutorial.html\n",
    "def is_flush(hand):\n",
    "    if (len(set(a for (a,b) in hand))==1) and (not is_straight_flush(hand)) and (not is_royal_flush(hand)):\n",
    "        return True\n",
    "    return False\n",
    "#a is the suit of the card, b is the rank. Set of the suits of the cards only shows distinct suits i.e. if all suits are the same, should have length 1\n",
    "\n",
    "\n",
    "def is_straight(hand):\n",
    "    rank_seen = sorted([b for (a,b) in hand])\n",
    "    #if the n+1 rank is 1 larger than the nth rank for all 0<=n<=3, then it is a straight\n",
    "    if ((rank_seen[0]==2) and (rank_seen[1]==3) and (rank_seen[2]==4) and (rank_seen[3]==5) and (rank_seen[4]==14) or (rank_seen[0]+1==rank_seen[1]) and (rank_seen[1]+1==rank_seen[2]) and (rank_seen[2]+1==rank_seen[3]) and (rank_seen[3]+1==rank_seen[4])) and (not is_straight_flush(hand)) and (not is_royal_flush(hand)):\n",
    "        return True\n",
    "    return False\n",
    "\n",
    "\n",
    "def is_three_of(hand):\n",
    "    P = rank_counts(hand)\n",
    "    #check if hand has 3 types of ranks\n",
    "    if len(P[0]) != 3:\n",
    "        return False\n",
    "    if 3 in P[1]:\n",
    "        return True\n",
    "    else:\n",
    "        return False\n",
    "\n",
    "\n",
    "def is_two_pair(hand):\n",
    "    P = rank_counts(hand)\n",
    "    #check if hand has 3 types of ranks\n",
    "    if len(P[0]) != 3:\n",
    "        return False\n",
    "    if 2 in P[1]:\n",
    "        return True\n",
    "    else:\n",
    "        return False\n",
    "\n",
    "\n",
    "def is_one_pair(hand):\n",
    "    P = rank_counts(hand)\n",
    "    #check if hand has 4 types of ranks\n",
    "    if len(P[0]) != 4:\n",
    "        return False\n",
    "    if 2 in P[1]:\n",
    "        return True\n",
    "    else:\n",
    "        return False\n",
    "\n",
    "\n",
    "def is_high_card(hand):\n",
    "    P = rank_counts(hand)\n",
    "    #check if hand has 5 types of ranks\n",
    "    if len(P[0]) != 5 or is_straight(hand) or is_flush(hand) or is_straight_flush(hand) or is_royal_flush(hand):\n",
    "        return False\n",
    "    else:\n",
    "        return True"
   ]
  },
  {
   "cell_type": "code",
   "execution_count": 45,
   "metadata": {
    "collapsed": false
   },
   "outputs": [
   ],
   "source": [
    "def class_hand(hand):\n",
    "    if is_high_card(hand):\n",
    "        return \"High Card\"\n",
    "    elif is_one_pair(hand):\n",
    "        return \"1 Pair\"\n",
    "    elif is_two_pair(hand):\n",
    "        return \"2 Pair\"\n",
    "    elif is_three_of(hand):\n",
    "        return \"3 of a Kind\"\n",
    "    elif is_straight(hand):\n",
    "        return \"Straight\"\n",
    "    elif is_flush(hand):\n",
    "        return \"Flush\"\n",
    "    elif is_full_house(hand):\n",
    "        return \"Full House\"\n",
    "    elif is_four_of(hand):\n",
    "        return \"4 of a Kind\"\n",
    "    elif is_straight_flush(hand):\n",
    "        return \"Straight Flush\"\n",
    "    else:\n",
    "        return \"Royal Flush\""
   ]
  },
  {
   "cell_type": "markdown",
   "metadata": {
    "collapsed": false
   },
   "source": [
    "3d. Using your answer to 3c, compute the probability that a poker hand, chosen randomly from a deck, is of any particular type."
   ]
  },
  {
   "cell_type": "code",
   "execution_count": 46,
   "metadata": {
    "collapsed": false
   },
   "outputs": [
    {
     "data": {
      "text/plain": [
       "(0.501177394034537, 0.422569027611044, 0.0475390156062425, 0.0211284513805522, 0.00392464678178964, 0.00196540154523348, 0.00144057623049220, 0.000240096038415366, 0.0000138516945239634, 1.53907716932927e-6)"
      ]
     },
     "execution_count": 46,
     "metadata": {
     },
     "output_type": "execute_result"
    }
   ],
   "source": [
    "#probability vector for type of hand out of all possible hands:\n",
    "#high card, 1 pair, 2 pair, 3 of a kind, straight, flush, full house, 4 of a kind, straight flush, royal flush\n",
    "probs = [0 for x in range(10)]\n",
    "iterator_hands = iter(Subsets(deck, 5)) #just copied from above\n",
    "\n",
    "for i in iterator_hands:\n",
    "    if class_hand(i)==\"High Card\":\n",
    "        probs[0]+=1\n",
    "    elif class_hand(i)==\"1 Pair\":\n",
    "        probs[1]+=1\n",
    "    elif class_hand(i)==\"2 Pair\":\n",
    "        probs[2]+=1\n",
    "    elif class_hand(i)==\"3 of a Kind\":\n",
    "        probs[3]+=1\n",
    "    elif class_hand(i)==\"Straight\":\n",
    "        probs[4]+=1\n",
    "    elif class_hand(i)==\"Flush\":\n",
    "        probs[5]+=1\n",
    "    elif class_hand(i)==\"Full House\":\n",
    "        probs[6]+=1\n",
    "    elif class_hand(i)==\"4 of a Kind\":\n",
    "        probs[7]+=1\n",
    "    elif class_hand(i)==\"Straight Flush\":\n",
    "        probs[8]+=1\n",
    "    else:\n",
    "        probs[9]+=1\n",
    "\n",
    "vector(probs).change_ring(RR)/binomial(52,5)"
   ]
  },
  {
   "cell_type": "markdown",
   "metadata": {
    "collapsed": false
   },
   "source": [
    "### Problem 4: The weak Goldbach problem"
   ]
  },
  {
   "cell_type": "markdown",
   "metadata": {
    "collapsed": false
   },
   "source": [
    "Grading criterion: correctness of code and thoroughness of analysis."
   ]
  },
  {
   "cell_type": "markdown",
   "metadata": {
    "collapsed": false
   },
   "source": [
    "The notorious *Goldbach problem* is to prove that every even integer greater than 2 can be written as the sum of two primes. A slightly easier problem (which would follow from the original Goldbach problem) is to prove that every odd integer greater than 5 can be written as the sum of three primes. This was shown for *sufficiently large* integers by Vinogradov in 1937; the gap between \"sufficiently large\" and \"all\" was closed by Helfgott in 2013. (This involves serious use of interval arithmetic, but never mind for now.)"
   ]
  },
  {
   "cell_type": "markdown",
   "metadata": {
    "collapsed": false
   },
   "source": [
    "4a. Define a function that, given an odd positive integer $n$, returns a list of all of the ways to write $n$ as a sum of three odd primes (up to permutations) by doing a list comprehension over all partitions of $n$ into three positive integers, testing whether each summand is prime."
   ]
  },
  {
   "cell_type": "code",
   "execution_count": 2,
   "metadata": {
    "collapsed": false
   },
   "outputs": [
   ],
   "source": [
    "import itertools\n",
    "def f1(n):\n",
    "    return [t for t in itertools.combinations_with_replacement(range(1,n),3) if sum(t)==n and is_prime(t[0]) and is_prime(t[1]) and is_prime(t[2])]"
   ]
  },
  {
   "cell_type": "markdown",
   "metadata": {
    "collapsed": false
   },
   "source": [
    "4b. Define another function that does the same combination, but this time by doing a list comprehension over all combinations of three elements of the set of primes less than $n$, testing whether each triple adds up to $n$."
   ]
  },
  {
   "cell_type": "code",
   "execution_count": 3,
   "metadata": {
    "collapsed": false
   },
   "outputs": [
   ],
   "source": [
    "import itertools\n",
    "def f2(n):\n",
    "    return [t for t in itertools.combinations_with_replacement(primes(1,n),3) if sum(t)==n]"
   ]
  },
  {
   "cell_type": "markdown",
   "metadata": {
    "collapsed": false
   },
   "source": [
    "4c. To confirm that the two methods agree, count the number of solutions returned by 4a and 4b for $n=10^k+1$ for $k=1,2,3,4,5$."
   ]
  },
  {
   "cell_type": "code",
   "execution_count": 164,
   "metadata": {
    "collapsed": false
   },
   "outputs": [
    {
     "name": "stdout",
     "output_type": "stream",
     "text": [
      "(2, True)\n"
     ]
    },
    {
     "name": "stdout",
     "output_type": "stream",
     "text": [
      "(38, True)\n"
     ]
    },
    {
     "name": "stdout",
     "output_type": "stream",
     "text": [
      "(1095, True)\n"
     ]
    }
   ],
   "source": [
    "k=1\n",
    "n=10^k + 1\n",
    "a = f1(n); b = f2(n)\n",
    "print(len(a),len(a)==len(b))\n",
    "\n",
    "k=2\n",
    "n=10^k + 1\n",
    "a = f1(n); b = f2(n)\n",
    "print(len(a),len(a)==len(b))\n",
    "\n",
    "k=3\n",
    "n=10^k + 1\n",
    "a = f1(n); b = f2(n)\n",
    "print(len(a),len(a)==len(b))"
   ]
  },
  {
   "cell_type": "code",
   "execution_count": 4,
   "metadata": {
    "collapsed": false
   },
   "outputs": [
   ],
   "source": [
    "k=4\n",
    "n=10^k + 1\n",
    "a = f1(n); b = f2(n)\n",
    "print(len(a),len(a)==len(b))"
   ]
  },
  {
   "cell_type": "markdown",
   "metadata": {
    "collapsed": false
   },
   "source": [
    "4d. Using the result of 4c, make a guess about how the number of solutions behaves for large $n$. You may collect additional data if that helps."
   ]
  },
  {
   "cell_type": "markdown",
   "metadata": {
    "collapsed": false
   },
   "source": [
    "The number of solutions is approximately also the magnitude of n. For $n=10^5$, I expect the number of solutions to be of magnitude $10^5$"
   ]
  },
  {
   "cell_type": "markdown",
   "metadata": {
    "collapsed": false
   },
   "source": [
    "### Problem 5: A threshold property of random graphs"
   ]
  },
  {
   "cell_type": "markdown",
   "metadata": {
    "collapsed": false
   },
   "source": [
    "Grading criterion: correctness of code and thoroughness of analysis."
   ]
  },
  {
   "cell_type": "markdown",
   "metadata": {
    "collapsed": false
   },
   "source": [
    "5a. Let us say that a graph is *mostly connected* if there is a single connected component containing at least 75% of the vertices. Write a function to test whether a given graph has this property."
   ]
  },
  {
   "cell_type": "code",
   "execution_count": 26,
   "metadata": {
    "collapsed": false
   },
   "outputs": [
   ],
   "source": [
    "def mostly_connected(G):\n",
    "    H = G.connected_components_sizes()\n",
    "    return H[0] >= sum(H)*.75"
   ]
  },
  {
   "cell_type": "markdown",
   "metadata": {
    "collapsed": false
   },
   "source": [
    "5b. Let $G(n, p)$ be a graph on $n$ vertices in which each possible edge is included with probability $p$. For $n = 100, 500, 1000$, plot the probability that $G(n,p)$ is mostly connected (based on a sample of 100 random graphs) as a function of $p$."
   ]
  },
  {
   "cell_type": "code",
   "execution_count": 152,
   "metadata": {
    "collapsed": false
   },
   "outputs": [
    {
     "data": {
      "text/plain": [
       "[-0.0100000000000000, 0.100000000000000, -0.0500000000000000, 1.05000000000000]"
      ]
     },
     "execution_count": 152,
     "metadata": {
     },
     "output_type": "execute_result"
    },
    {
     "data": {
      "image/png": "[encoded data removed]"
     },
     "execution_count": 152,
     "metadata": {
     },
     "output_type": "execute_result"
    }
   ],
   "source": [
    "import matplotlib.pyplot as plt\n",
    "\n",
    "n=100\n",
    "p = [.01*x for x in range(11)]\n",
    "probs = [0 for x in p]\n",
    "B = 100\n",
    "for j in range(len(p)):\n",
    "    count = 0\n",
    "    for i in range(B):\n",
    "        if mostly_connected(graphs.RandomGNP(n,p[j])):\n",
    "            count+=1\n",
    "    probs[j] = count/B\n",
    "probs\n",
    "plt.plot(p,probs)\n",
    "plt.axis([-.01, .1, -.05, 1.05])"
   ]
  },
  {
   "cell_type": "code",
   "execution_count": 46,
   "metadata": {
    "collapsed": false
   },
   "outputs": [
    {
     "data": {
      "text/plain": [
       "[-0.0100000000000000, 0.100000000000000, -0.0500000000000000, 1.05000000000000]"
      ]
     },
     "execution_count": 46,
     "metadata": {
     },
     "output_type": "execute_result"
    },
    {
     "data": {
      "image/png": "[encoded data removed]"
     },
     "execution_count": 46,
     "metadata": {
     },
     "output_type": "execute_result"
    }
   ],
   "source": [
    "n=500\n",
    "p = [.01*x for x in range(11)]\n",
    "probs = [0 for x in p]\n",
    "B = 100\n",
    "for j in range(len(p)):\n",
    "    count = 0\n",
    "    for i in range(B):\n",
    "        if mostly_connected(graphs.RandomGNP(n,p[j])):\n",
    "            count = count+1\n",
    "    probs[j] = count/B\n",
    "probs\n",
    "plt.plot(p,probs)\n",
    "plt.axis([-.01, .1, -.05, 1.05])"
   ]
  },
  {
   "cell_type": "code",
   "execution_count": 49,
   "metadata": {
    "collapsed": false
   },
   "outputs": [
    {
     "data": {
      "text/plain": [
       "[-0.0100000000000000, 0.100000000000000, -0.0500000000000000, 1.05000000000000]"
      ]
     },
     "execution_count": 49,
     "metadata": {
     },
     "output_type": "execute_result"
    },
    {
     "data": {
      "image/png": "[encoded data removed]"
     },
     "execution_count": 49,
     "metadata": {
     },
     "output_type": "execute_result"
    }
   ],
   "source": [
    "n=1000\n",
    "p = [.01*x for x in range(11)]\n",
    "probs = [0 for x in p]\n",
    "B = 100\n",
    "for j in range(len(p)):\n",
    "    count = 0\n",
    "    for i in range(B):\n",
    "        if mostly_connected(graphs.RandomGNP(n,p[j])):\n",
    "            count = count+1\n",
    "    probs[j] = count/B\n",
    "probs\n",
    "plt.plot(p,probs)\n",
    "plt.axis([-.01, .1, -.05, 1.05])"
   ]
  },
  {
   "cell_type": "markdown",
   "metadata": {
    "collapsed": false
   },
   "source": [
    "5c. Write a function that, for a given $n$, finds a value of $p$ for which the probability (based on a sample of 100 random graphs) that $G(n,p)$ is mostly connected is between 25% and 75%."
   ]
  },
  {
   "cell_type": "code",
   "execution_count": 129,
   "metadata": {
    "collapsed": false
   },
   "outputs": [
   ],
   "source": [
    "def find_p(n):\n",
    "    left = 0\n",
    "    right = 1\n",
    "    p = (right+left)/2 #initalize at .5\n",
    "    B = 100\n",
    "    count = 0\n",
    "    for i in range(B): #inital probability\n",
    "        if mostly_connected(graphs.RandomGNP(n,p)):\n",
    "            count = count + 1\n",
    "    prob_mostly_connected = count/B #initial probability\n",
    "\n",
    "    while (prob_mostly_connected < .25) or (prob_mostly_connected > .75): #while the probability is not between 25,75\n",
    "        #calculating new p for this loop\n",
    "        if prob_mostly_connected < .25: #takes midpoint of left interval\n",
    "            left = p\n",
    "            p = (right+left)/2\n",
    "        if prob_mostly_connected > .75: #takes midpoint of right interval\n",
    "            right = p\n",
    "            p = (right+left)/2\n",
    "\n",
    "        #calculating the probability that G(n,p) is mostly connected given p\n",
    "        count = 0\n",
    "        for i in range(B):\n",
    "            if mostly_connected(graphs.RandomGNP(n,p)):\n",
    "                count = count + 1\n",
    "        prob_mostly_connected = count/B\n",
    "        #print(N(prob_mostly_connected),p) #testing\n",
    "\n",
    "    return p"
   ]
  },
  {
   "cell_type": "code",
   "execution_count": 131,
   "metadata": {
    "collapsed": false
   },
   "outputs": [
    {
     "name": "stdout",
     "output_type": "stream",
     "text": [
      "9/512\n"
     ]
    }
   ],
   "source": [
    "# left = 0\n",
    "# right = 1\n",
    "# p = (right+left)/2 #initalize at .5\n",
    "# prob_mostly_connected = .8\n",
    "\n",
    "# if prob_mostly_connected < .25: #takes midpoint of left interval\n",
    "#     left = p\n",
    "#     p = (right+left)/2\n",
    "# if prob_mostly_connected > .75: #takes midpoint of right interval\n",
    "#     right = p\n",
    "#     p = (right+left)/2\n",
    "# print(left,right,N(p))\n",
    "\n",
    "print(find_p(100))\n",
    "#find_p_test(10)\n",
    "# H = graphs.RandomGNP(10,.5)\n",
    "# show(H)\n",
    "# mostly_connected(H)"
   ]
  },
  {
   "cell_type": "markdown",
   "metadata": {
    "collapsed": false
   },
   "source": [
    "5d. Plot the values of $p$ you computed in (b) as a function of $n$, going up to at least $n=1000$ with at least 10 sample points. Then make a guess as to how these values depend on $n$."
   ]
  },
  {
   "cell_type": "code",
   "execution_count": 150,
   "metadata": {
    "collapsed": false
   },
   "outputs": [
    {
     "data": {
      "text/plain": [
       "[<matplotlib.lines.Line2D object at 0x7f87ac24cb50>]"
      ]
     },
     "execution_count": 150,
     "metadata": {
     },
     "output_type": "execute_result"
    },
    {
     "data": {
      "image/png": "[encoded data removed]"
     },
     "execution_count": 150,
     "metadata": {
     },
     "output_type": "execute_result"
    }
   ],
   "source": [
    "import matplotlib.pyplot as plt\n",
    "\n",
    "x = [50,100] + [100*i for i in range(2,11)]; x\n",
    "p = [find_p(i) for i in x];\n",
    "plt.plot(x,p)"
   ]
  },
  {
   "cell_type": "markdown",
   "metadata": {
    "collapsed": false
   },
   "source": [
    "### Problem 6: Spectral gaps of graphs"
   ]
  },
  {
   "cell_type": "markdown",
   "metadata": {
    "collapsed": false
   },
   "source": [
    "Grading criterion: correctness of code and thoroughness of analysis."
   ]
  },
  {
   "cell_type": "markdown",
   "metadata": {
    "collapsed": false
   },
   "source": [
    "6a. Let $G$ be a graph on $n$ vertices which is $k$-regular (each vertex has $k$ neighbors). Let $A$ be the adjacency matrix of $G$. Explain what the Perron-Frobenius theorem implies about the eigenvalues of $A$."
   ]
  },
  {
   "cell_type": "markdown",
   "metadata": {
    "collapsed": false
   },
   "source": [
    "Souce: https://en.wikipedia.org/wiki/Perron%E2%80%93Frobenius_theorem\n",
    "\n",
    "The Perron-Frobenius theorem says that for any real valued square matrix with positive entries has a unique largest real eigenvalue. Thus A, the adjacency matrix of G, has a unique largest real eigenvalue that is bounded above"
   ]
  },
  {
   "cell_type": "markdown",
   "metadata": {
    "collapsed": false
   },
   "source": [
    "6b. Let $G_n$ be the graph with vertices $\\{0,\\dots,n-1\\}$ in which $x$ is adjacent to $y$ if and only if $x - y$ is congruent to one of $\\pm 1, \\dots, \\pm k$ modulo $n$. Write a function that constructs the adjacency matrix of $G_n$ and returns the norm of its second-largest eigenvalue."
   ]
  },
  {
   "cell_type": "code",
   "execution_count": 74,
   "metadata": {
    "collapsed": false
   },
   "outputs": [
   ],
   "source": [
    "def norm_eig1(n,k):\n",
    "    #constructs the adjacency matrix\n",
    "    A = matrix(n)\n",
    "    congruences = [x%n for x in range(1,k+1)] + [-x%n for x in range(1,k+1)]\n",
    "    for i in range(n):\n",
    "        for j in range(n):\n",
    "            if (i-j)%n in congruences:\n",
    "                A[i,j] = 1\n",
    "\n",
    "    e = np.linalg.eig(A)[0]\n",
    "    #print(np.sort(e))\n",
    "    return abs(np.sort(e)[len(e)-2])"
   ]
  },
  {
   "cell_type": "code",
   "execution_count": 75,
   "metadata": {
    "collapsed": false
   },
   "outputs": [
    {
     "name": "stdout",
     "output_type": "stream",
     "text": [
      "5.94485736094\n",
      "---\n",
      "4.13109476981\n"
     ]
    }
   ],
   "source": [
    "n=100\n",
    "k=3\n",
    "print(norm_eig1(n,k))\n",
    "print('---')\n",
    "print(norm_eig2(n,k))\n",
    "\n",
    "#norm_eig1(n,k) == norm_eig2(n,k)\n",
    "#np.sort([-3-1j,-1+2j,1-1j,1+1j]) #no way to order complex #s"
   ]
  },
  {
   "cell_type": "markdown",
   "metadata": {
    "collapsed": false
   },
   "source": [
    "6c. Write a function that constructs the adjacency matrix of a random $2k$-regular graph on $n$ vertices and returns the norm of its second-largest eigenvalue."
   ]
  },
  {
   "cell_type": "code",
   "execution_count": 73,
   "metadata": {
    "collapsed": false
   },
   "outputs": [
   ],
   "source": [
    "def norm_eig2(n,k):\n",
    "    import numpy as np\n",
    "    Adj = graphs.RandomRegular(2*k, n).adjacency_matrix()\n",
    "    e = np.linalg.eig(Adj)[0]\n",
    "    #print(np.sort(e))\n",
    "    return abs(np.sort(e)[len(e)-2])"
   ]
  },
  {
   "cell_type": "markdown",
   "metadata": {
    "collapsed": false
   },
   "source": [
    "6d. For $k=3,4,5$, make a plot that compares the answers of 6b and 6c for $n$ from 100 to 1000 (with at least 10 sample points)."
   ]
  },
  {
   "cell_type": "code",
   "execution_count": 81,
   "metadata": {
    "collapsed": false
   },
   "outputs": [
    {
     "data": {
      "text/plain": [
       "[<matplotlib.lines.Line2D object at 0x7f3d55e70dd0>]"
      ]
     },
     "execution_count": 81,
     "metadata": {
     },
     "output_type": "execute_result"
    },
    {
     "data": {
      "image/png": "[encoded data removed]"
     },
     "execution_count": 81,
     "metadata": {
     },
     "output_type": "execute_result"
    }
   ],
   "source": [
    "k=3\n",
    "import matplotlib.pyplot as plt\n",
    "\n",
    "n = [100*i for i in range(1,11)]\n",
    "e1 = [norm_eig1(i,k) for i in n]\n",
    "e2 = [norm_eig2(i,k) for i in n]\n",
    "plt.plot(n,e1,'b-',linewidth=3)\n",
    "plt.plot(n,e2,'r-',linewidth=3)"
   ]
  },
  {
   "cell_type": "code",
   "execution_count": 82,
   "metadata": {
    "collapsed": false
   },
   "outputs": [
    {
     "data": {
      "text/plain": [
       "[<matplotlib.lines.Line2D object at 0x7f3d57453250>]"
      ]
     },
     "execution_count": 82,
     "metadata": {
     },
     "output_type": "execute_result"
    },
    {
     "data": {
      "image/png": "[encoded data removed]"
     },
     "execution_count": 82,
     "metadata": {
     },
     "output_type": "execute_result"
    }
   ],
   "source": [
    "k=4\n",
    "import matplotlib.pyplot as plt\n",
    "\n",
    "n = [100*i for i in range(1,11)]\n",
    "e1 = [norm_eig1(i,k) for i in n]\n",
    "e2 = [norm_eig2(i,k) for i in n]\n",
    "plt.plot(n,e1,'b-',linewidth=3)\n",
    "plt.plot(n,e2,'r-',linewidth=3)"
   ]
  },
  {
   "cell_type": "code",
   "execution_count": 83,
   "metadata": {
    "collapsed": false
   },
   "outputs": [
    {
     "data": {
      "text/plain": [
       "[<matplotlib.lines.Line2D object at 0x7f3d56305510>]"
      ]
     },
     "execution_count": 83,
     "metadata": {
     },
     "output_type": "execute_result"
    },
    {
     "data": {
      "image/png": "[encoded data removed]"
     },
     "execution_count": 83,
     "metadata": {
     },
     "output_type": "execute_result"
    }
   ],
   "source": [
    "k=5\n",
    "import matplotlib.pyplot as plt\n",
    "\n",
    "n = [100*i for i in range(1,11)]\n",
    "e1 = [norm_eig1(i,k) for i in n]\n",
    "e2 = [norm_eig2(i,k) for i in n]\n",
    "plt.plot(n,e1,'b-',linewidth=3)\n",
    "plt.plot(n,e2,'r-',linewidth=3)"
   ]
  },
  {
   "cell_type": "markdown",
   "metadata": {
    "collapsed": false
   },
   "source": [
    "6e. In as much detail as possible, interpret your answer to 6d in terms of mixing of random walks."
   ]
  },
  {
   "cell_type": "markdown",
   "metadata": {
    "collapsed": false
   },
   "source": [
    "Source: http://web.cs.elte.hu/~lovasz/eigenvals-x.pdf\n",
    "\n",
    "The gap between norms of the second biggest eigenvalue is useful as a measure of connectivity of a graph. Related to the measure of connectivity is the bound of the mixing time of random walks on a graph. "
   ]
  },
  {
   "cell_type": "code",
   "execution_count": 0,
   "metadata": {
    "collapsed": false
   },
   "outputs": [
   ],
   "source": [
   ]
  }
 ],
 "metadata": {
  "kernelspec": {
   "display_name": "SageMath 8.1",
   "name": "sage-8.1"
  },
  "language_info": {
   "codemirror_mode": {
    "name": "ipython",
    "version": 2
   },
   "file_extension": ".py",
   "mimetype": "text/x-python",
   "name": "python",
   "nbconvert_exporter": "python",
   "pygments_lexer": "ipython2",
   "version": "2.7.14"
  }
 },
 "nbformat": 4,
 "nbformat_minor": 0
}