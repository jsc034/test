{
 "cells": [
  {
   "cell_type": "markdown",
   "metadata": {
    "collapsed": false
   },
   "source": [
    "## Math 157: Intro to Mathematical Software\n",
    "## UC San Diego, winter 2018"
   ]
  },
  {
   "cell_type": "markdown",
   "metadata": {
    "collapsed": false
   },
   "source": [
    "## Homework 3: due February 2, 2018"
   ]
  },
  {
   "cell_type": "markdown",
   "metadata": {
    "collapsed": false
   },
   "source": [
    "Please enter all answers within this notebook unless otherwise specified. As usual, don't forget to cite sources and collaborators.\n",
    "\n",
    "Through this problem set, use the SageMath 8.1 kernel unless otherwise specified."
   ]
  },
  {
   "cell_type": "markdown",
   "metadata": {
    "collapsed": false
   },
   "source": [
    "### Problem 1: Gradient vector fields"
   ]
  },
  {
   "cell_type": "markdown",
   "metadata": {
    "collapsed": false
   },
   "source": [
    "Grading criterion: correctness of code."
   ]
  },
  {
   "cell_type": "markdown",
   "metadata": {
    "collapsed": false
   },
   "source": [
    "1a. Compute the gradient of $f(x,y) = 3\\sin(x) - 2\\cos(2y) - x - y$."
   ]
  },
  {
   "cell_type": "code",
   "execution_count": 42,
   "metadata": {
    "collapsed": false
   },
   "outputs": [
    {
     "data": {
      "text/html": [
       "<html><script type=\"math/tex; mode=display\">\\newcommand{\\Bold}[1]{\\mathbf{#1}}\\left( x, y \\right) \\ {\\mapsto} \\ \\left(3 \\, \\cos\\left(x\\right) - 1,\\,4 \\, \\sin\\left(2 \\, y\\right) - 1\\right)</script></html>"
      ]
     },
     "execution_count": 42,
     "metadata": {
     },
     "output_type": "execute_result"
    }
   ],
   "source": [
    "#source: http://doc.sagemath.org/html/en/reference/calculus/sage/calculus/calculus.html\n",
    "f(x,y)=3*sin(x)-2*cos(2*y)-x-y\n",
    "grad=f.diff()\n",
    "show(grad)"
   ]
  },
  {
   "cell_type": "markdown",
   "metadata": {
    "collapsed": false
   },
   "source": [
    "1b. Plot the 2-dimensional vector field defined by the gradient of $f$ in the rectangle $(-2,-2) \\leq (x,y) \\leq (2,2)$."
   ]
  },
  {
   "cell_type": "code",
   "execution_count": 43,
   "metadata": {
    "collapsed": false,
    "scrolled": true
   },
   "outputs": [
    {
     "data": {
      "image/png": "[encoded data removed]"
     }
    }
   ],
   "source": [
    "#source: http://doc.sagemath.org/html/en/reference/plotting/sage/plot/plot_field.html\n",
    "plot_vector_field((3*cos(x)-1,4*sin(2*y)-1), (x,-2,2), (y,-2,2))"
   ]
  },
  {
   "cell_type": "markdown",
   "metadata": {
    "collapsed": false
   },
   "source": [
    "### Problem 2: 3D plotting"
   ]
  },
  {
   "cell_type": "markdown",
   "metadata": {
    "collapsed": false
   },
   "source": [
    "Grading criterion: correctness of code."
   ]
  },
  {
   "cell_type": "markdown",
   "metadata": {
    "collapsed": false
   },
   "source": [
    "2a. Draw a 3D plot of a torus."
   ]
  },
  {
   "cell_type": "code",
   "execution_count": 44,
   "metadata": {
    "collapsed": false
   },
   "outputs": [
    {
     "data": {
      "iframe": "86db9bccac0c8f44ef625cf620cc01c6561ec380"
     }
    }
   ],
   "source": [
    "#Source: http://doc.sagemath.org/html/en/reference/plot3d/sage/plot/plot3d/shapes.html\n",
    "from sage.plot.plot3d.shapes import *\n",
    "Torus().show()"
   ]
  },
  {
   "cell_type": "markdown",
   "metadata": {
    "collapsed": false
   },
   "source": [
    "2b. Draw a single 3D plot containing the five regular polytopes in it: tetrahedron, cube, octahedron, dodecahedron, icosahedron.  All five must be visible."
   ]
  },
  {
   "cell_type": "code",
   "execution_count": 46,
   "metadata": {
    "collapsed": false
   },
   "outputs": [
    {
     "data": {
      "iframe": "20bf841d49f41b2769e296c83c1ba86ff7df17f5"
     }
    }
   ],
   "source": [
    "#source: http://doc.sagemath.org/html/en/reference/plot3d/sage/plot/plot3d/platonic.html\n",
    "S = tetrahedron((0,-3.5,0)) + cube((0,-2,0)) + octahedron() + dodecahedron((0,2,0)) + icosahedron(center=(0,4,0))\n",
    "S.show(aspect_ratio=[1,1,1])"
   ]
  },
  {
   "cell_type": "markdown",
   "metadata": {
    "collapsed": false
   },
   "source": [
    "2c. Draw a 3D plot of the [Mexican hat function](https://en.wikipedia.org/wiki/Mexican_hat_wavelet). Try to choose the parameter $\\sigma$ to get an authentic \"sombrero\" look."
   ]
  },
  {
   "cell_type": "code",
   "execution_count": 47,
   "metadata": {
    "collapsed": false
   },
   "outputs": [
    {
     "data": {
      "iframe": "44d9bda4169d1840540f0f2968241add534cfcd4"
     }
    }
   ],
   "source": [
    "sigma=.6\n",
    "phi(x,y)=1/(pi*sigma**2)*(1-1/2*((x**2+y**2)/sigma**2))*e**(-(x**2+y**2)/(2*sigma**2))\n",
    "#show(phi)\n",
    "plot3d(phi,(x,-2,2),(y,-2,2))"
   ]
  },
  {
   "cell_type": "markdown",
   "metadata": {
    "collapsed": false
   },
   "source": [
    "### Problem 3: MATLAB (and Octave) vs. Sage"
   ]
  },
  {
   "cell_type": "markdown",
   "metadata": {
    "collapsed": false
   },
   "source": [
    "Grading criterion: correctness of code."
   ]
  },
  {
   "cell_type": "markdown",
   "metadata": {
    "collapsed": false
   },
   "source": [
    "This exercise refers to the [Math 18 MATLAB exercise set](http://www.math.ucsd.edu/~math18/)."
   ]
  },
  {
   "cell_type": "markdown",
   "metadata": {
    "collapsed": false
   },
   "source": [
    "3a. Do MATLAB exercise 4.5 twice: once using Octave, and a second time using Sage. (For this problem, you will need to switch the kernel between Octave and SageMath.)"
   ]
  },
  {
   "cell_type": "code",
   "execution_count": 1,
   "metadata": {
    "collapsed": false
   },
   "outputs": [
    {
     "name": "stdout",
     "output_type": "stream",
     "text": [
      "Q =\n"
     ]
    },
    {
     "name": "stdout",
     "output_type": "stream",
     "text": [
      "\n"
     ]
    },
    {
     "name": "stdout",
     "output_type": "stream",
     "text": [
      "   0.665624   0.767579   0.543214  -0.464102\n"
     ]
    },
    {
     "name": "stdout",
     "output_type": "stream",
     "text": [
      "   0.616521  -0.284124  -0.814822  -0.125380\n"
     ]
    },
    {
     "name": "stdout",
     "output_type": "stream",
     "text": [
      "   0.294620  -0.568248   0.181071  -0.250760\n"
     ]
    },
    {
     "name": "stdout",
     "output_type": "stream",
     "text": [
      "   0.300076   0.084793   0.090536   0.840243\n"
     ]
    },
    {
     "name": "stdout",
     "output_type": "stream",
     "text": [
      "\n"
     ]
    },
    {
     "name": "stdout",
     "output_type": "stream",
     "text": [
      "D =\n"
     ]
    },
    {
     "name": "stdout",
     "output_type": "stream",
     "text": [
      "\n"
     ]
    },
    {
     "name": "stdout",
     "output_type": "stream",
     "text": [
      "Diagonal Matrix\n"
     ]
    },
    {
     "name": "stdout",
     "output_type": "stream",
     "text": [
      "\n"
     ]
    },
    {
     "name": "stdout",
     "output_type": "stream",
     "text": [
      "   1.00000         0         0         0\n"
     ]
    },
    {
     "name": "stdout",
     "output_type": "stream",
     "text": [
      "         0   0.67298         0         0\n"
     ]
    },
    {
     "name": "stdout",
     "output_type": "stream",
     "text": [
      "         0         0   0.76000         0\n"
     ]
    },
    {
     "name": "stdout",
     "output_type": "stream",
     "text": [
      "         0         0         0   0.73702\n"
     ]
    },
    {
     "name": "stdout",
     "output_type": "stream",
     "text": [
      "\n"
     ]
    },
    {
     "name": "stdout",
     "output_type": "stream",
     "text": [
      "ans =\n"
     ]
    },
    {
     "name": "stdout",
     "output_type": "stream",
     "text": [
      "\n"
     ]
    },
    {
     "name": "stdout",
     "output_type": "stream",
     "text": [
      "   0.810000   0.080000   0.160000   0.100000\n"
     ]
    },
    {
     "name": "stdout",
     "output_type": "stream",
     "text": [
      "   0.090000   0.840000   0.050000   0.080000\n"
     ]
    },
    {
     "name": "stdout",
     "output_type": "stream",
     "text": [
      "   0.060000   0.040000   0.740000   0.040000\n"
     ]
    },
    {
     "name": "stdout",
     "output_type": "stream",
     "text": [
      "   0.040000   0.040000   0.050000   0.780000\n"
     ]
    },
    {
     "name": "stdout",
     "output_type": "stream",
     "text": [
      "\n"
     ]
    },
    {
     "name": "stdout",
     "output_type": "stream",
     "text": [
      "Pinf =\n"
     ]
    },
    {
     "name": "stdout",
     "output_type": "stream",
     "text": [
      "\n"
     ]
    },
    {
     "name": "stdout",
     "output_type": "stream",
     "text": [
      "   0.35465   0.35465   0.35465   0.35465\n"
     ]
    },
    {
     "name": "stdout",
     "output_type": "stream",
     "text": [
      "   0.32849   0.32849   0.32849   0.32849\n"
     ]
    },
    {
     "name": "stdout",
     "output_type": "stream",
     "text": [
      "   0.15698   0.15698   0.15698   0.15698\n"
     ]
    },
    {
     "name": "stdout",
     "output_type": "stream",
     "text": [
      "   0.15988   0.15988   0.15988   0.15988\n"
     ]
    },
    {
     "name": "stdout",
     "output_type": "stream",
     "text": [
      "\n"
     ]
    },
    {
     "name": "stdout",
     "output_type": "stream",
     "text": [
      "ans =\n"
     ]
    },
    {
     "name": "stdout",
     "output_type": "stream",
     "text": [
      "\n"
     ]
    },
    {
     "name": "stdout",
     "output_type": "stream",
     "text": [
      "   0.35465\n"
     ]
    },
    {
     "name": "stdout",
     "output_type": "stream",
     "text": [
      "   0.32849\n"
     ]
    },
    {
     "name": "stdout",
     "output_type": "stream",
     "text": [
      "   0.15698\n"
     ]
    },
    {
     "name": "stdout",
     "output_type": "stream",
     "text": [
      "   0.15988\n"
     ]
    },
    {
     "name": "stdout",
     "output_type": "stream",
     "text": [
      "\n"
     ]
    },
    {
     "name": "stdout",
     "output_type": "stream",
     "text": [
      "ans =\n"
     ]
    },
    {
     "name": "stdout",
     "output_type": "stream",
     "text": [
      "\n"
     ]
    },
    {
     "name": "stdout",
     "output_type": "stream",
     "text": [
      "   0.35465\n"
     ]
    },
    {
     "name": "stdout",
     "output_type": "stream",
     "text": [
      "   0.32849\n"
     ]
    },
    {
     "name": "stdout",
     "output_type": "stream",
     "text": [
      "   0.15698\n"
     ]
    },
    {
     "name": "stdout",
     "output_type": "stream",
     "text": [
      "   0.15988\n"
     ]
    },
    {
     "name": "stdout",
     "output_type": "stream",
     "text": [
      "\n"
     ]
    }
   ],
   "source": [
    "%Octave\n",
    "%part a\n",
    "P = [0.8100 0.0800 0.1600 0.1000;\n",
    "0.0900 0.8400 0.0500 0.0800;\n",
    "0.0600 0.0400 0.7400 0.0400;\n",
    "0.0400 0.0400 0.0500 0.7800];\n",
    "[Q,D]=eig(P)\n",
    "Q*D*inv(Q)\n",
    "%part b\n",
    "L=[1 0 0 0; 0 0 0 0; 0 0 0 0; 0 0 0 0];\n",
    "%part c\n",
    "Pinf=Q*L*inv(Q)\n",
    "%part d\n",
    "x0 = [0.5106; 0.4720; 0.0075; 0.0099];\n",
    "Pinf*x0\n",
    "%part e\n",
    "y=[1/2;1/4;1/8;1/8];\n",
    "Pinf*y\n",
    "%there is no difference"
   ]
  },
  {
   "cell_type": "code",
   "execution_count": 1,
   "metadata": {
    "collapsed": false
   },
   "outputs": [
    {
     "name": "stdout",
     "output_type": "stream",
     "text": [
      "part a\n",
      "[1.0000000000000004                0.0                0.0                0.0]\n",
      "[               0.0 0.6729843788128368                0.0                0.0]\n",
      "[               0.0                0.0 0.7599999999999995                0.0]\n",
      "[               0.0                0.0                0.0 0.7370156211871641]\n",
      "[  0.8100000000000003  0.08000000000000017  0.15999999999999967  0.10000000000000017]\n",
      "[ 0.09000000000000037   0.8400000000000001  0.05000000000000002  0.08000000000000021]\n",
      "[0.059999999999999505 0.040000000000000105   0.7400000000000007 0.040000000000000084]\n",
      "[ 0.04000000000000018 0.040000000000000153 0.050000000000000114                 0.78]\n",
      "part c\n",
      "[  0.354651162790697  0.3546511627906978  0.3546511627906968 0.35465116279069725]\n",
      "[ 0.3284883720930234  0.3284883720930241 0.32848837209302323  0.3284883720930236]\n",
      "[0.15697674418604607  0.1569767441860464 0.15697674418604599 0.15697674418604618]\n",
      "[0.15988372093023273 0.15988372093023306 0.15988372093023265 0.15988372093023284]\n",
      "part d\n",
      "[ 0.3546511627906974]\n",
      "[0.32848837209302373]\n",
      "[0.15697674418604624]\n",
      "[ 0.1598837209302329]\n",
      "part e\n",
      "[ 0.3546511627906972]\n",
      "[0.32848837209302356]\n",
      "[0.15697674418604615]\n",
      "[0.15988372093023281]\n"
     ]
    }
   ],
   "source": [
    "#SageMath\n",
    "#part a\n",
    "print('part a')\n",
    "P = Matrix(CDF,[[0.8100,0.0800,0.1600,0.1000],[0.0900,0.8400,0.0500,0.0800],[0.0600,0.0400,0.7400,0.0400],[0.0400,0.0400,0.0500,0.7800]])\n",
    "D,Q = P.eigenmatrix_right()\n",
    "print(D)\n",
    "print(Q*D*(~Q)) #returns P\n",
    "#part b\n",
    "L=Matrix([[1,0,0,0],[0,0,0,0],[0,0,0,0],[0,0,0,0]])\n",
    "#part c\n",
    "print('part c')\n",
    "Pinf=Q*L*(~Q)\n",
    "print(Pinf)\n",
    "#part d\n",
    "print('part d')\n",
    "x0 = Matrix([[0.5106],[0.4720],[0.0075],[0.0099]])\n",
    "print(Pinf*x0)\n",
    "#part e\n",
    "print('part e')\n",
    "y=Matrix([[1/2],[1/4],[1/8],[1/8]])\n",
    "print(Pinf*y)\n",
    "#there is no difference"
   ]
  },
  {
   "cell_type": "markdown",
   "metadata": {
    "collapsed": false
   },
   "source": [
    "3b. Repeat with MATLAB exercise 5.6, using `numpy` to obtain the analogue of MATLAB's least squares functionality."
   ]
  },
  {
   "cell_type": "code",
   "execution_count": 2,
   "metadata": {
    "collapsed": false
   },
   "outputs": [
    {
     "name": "stdout",
     "output_type": "stream",
     "text": [
      "Q =\n"
     ]
    },
    {
     "name": "stdout",
     "output_type": "stream",
     "text": [
      "\n"
     ]
    },
    {
     "name": "stdout",
     "output_type": "stream",
     "text": [
      "  -0.447214  -0.594998\n"
     ]
    },
    {
     "name": "stdout",
     "output_type": "stream",
     "text": [
      "  -0.447214  -0.331258\n"
     ]
    },
    {
     "name": "stdout",
     "output_type": "stream",
     "text": [
      "  -0.447214  -0.035869\n"
     ]
    },
    {
     "name": "stdout",
     "output_type": "stream",
     "text": [
      "  -0.447214   0.291169\n"
     ]
    },
    {
     "name": "stdout",
     "output_type": "stream",
     "text": [
      "  -0.447214   0.670955\n"
     ]
    },
    {
     "name": "stdout",
     "output_type": "stream",
     "text": [
      "\n"
     ]
    },
    {
     "name": "stdout",
     "output_type": "stream",
     "text": [
      "R =\n"
     ]
    },
    {
     "name": "stdout",
     "output_type": "stream",
     "text": [
      "\n"
     ]
    },
    {
     "name": "stdout",
     "output_type": "stream",
     "text": [
      "    -2.23607  -293.81933\n"
     ]
    },
    {
     "name": "stdout",
     "output_type": "stream",
     "text": [
      "     0.00000    94.79029\n"
     ]
    },
    {
     "name": "stdout",
     "output_type": "stream",
     "text": [
      "\n"
     ]
    },
    {
     "name": "stdout",
     "output_type": "stream",
     "text": [
      "v =\n"
     ]
    },
    {
     "name": "stdout",
     "output_type": "stream",
     "text": [
      "\n"
     ]
    },
    {
     "name": "stdout",
     "output_type": "stream",
     "text": [
      "   16.538\n"
     ]
    },
    {
     "name": "stdout",
     "output_type": "stream",
     "text": [
      "   21.264\n"
     ]
    },
    {
     "name": "stdout",
     "output_type": "stream",
     "text": [
      "   26.557\n"
     ]
    },
    {
     "name": "stdout",
     "output_type": "stream",
     "text": [
      "   32.418\n"
     ]
    },
    {
     "name": "stdout",
     "output_type": "stream",
     "text": [
      "   39.223\n"
     ]
    },
    {
     "name": "stdout",
     "output_type": "stream",
     "text": [
      "\n"
     ]
    },
    {
     "name": "stdout",
     "output_type": "stream",
     "text": [
      "c =\n"
     ]
    },
    {
     "name": "stdout",
     "output_type": "stream",
     "text": [
      "\n"
     ]
    },
    {
     "name": "stdout",
     "output_type": "stream",
     "text": [
      "   2.35959\n"
     ]
    },
    {
     "name": "stdout",
     "output_type": "stream",
     "text": [
      "   0.18904\n"
     ]
    },
    {
     "name": "stdout",
     "output_type": "stream",
     "text": [
      "\n"
     ]
    },
    {
     "name": "stdout",
     "output_type": "stream",
     "text": [
      "cl =\n"
     ]
    },
    {
     "name": "stdout",
     "output_type": "stream",
     "text": [
      "\n"
     ]
    },
    {
     "name": "stdout",
     "output_type": "stream",
     "text": [
      "   2.35959\n"
     ]
    },
    {
     "name": "stdout",
     "output_type": "stream",
     "text": [
      "   0.18904\n"
     ]
    },
    {
     "name": "stdout",
     "output_type": "stream",
     "text": [
      "\n"
     ]
    }
   ],
   "source": [
    "%Matlab\n",
    "B=[1 75; 1 100; 1 128; 1 159; 1 195]; d=[15 23 26 34 38]';\n",
    "%Part a\n",
    "[Q, R] = qr(B,0)\n",
    "x = Q(:, 1);\n",
    "y = Q(:, 2);\n",
    "v = dot(x,d)*x + dot(y,d)*y\n",
    "%part b\n",
    "c=B\\v\n",
    "%B*c-v %checking c is the correction solution\n",
    "%part c\n",
    "[cl,stdx,mse] = lscov(B, d, eye(5)); cl"
   ]
  },
  {
   "cell_type": "code",
   "execution_count": 2,
   "metadata": {
    "collapsed": false
   },
   "outputs": [
    {
     "name": "stdout",
     "output_type": "stream",
     "text": [
      "('v=', (16.53790678003827, 21.264011930730526, 26.55724969950585, 32.41762008636424, 39.223211503361085))\n",
      "('c=', (2.35959132790000, 0.189044206028000))\n",
      "[ 2.35959133+0.j  0.18904421+0.j]\n"
     ]
    }
   ],
   "source": [
    "#Sage\n",
    "B=Matrix(CDF,[[1,75],[1,100],[1,128],[1,159],[1,195]]); d=vector(RR,[15,23,26,34,38])\n",
    "#Part a\n",
    "Q, R = B.QR()\n",
    "x = Q[:,0]; y = Q[:,1]\n",
    "x = vector(x); y = vector(y); \n",
    "v = x.dot_product(d)*x + y.dot_product(d)*y\n",
    "print('v=',v)\n",
    "#part b\n",
    "#from the octave part, we know that Bc=v has a solution, therefore we can reduce the matrix B from 5x2 to 2x2\n",
    "Bsub=B[0:2,:]; vsub=v[0:2]\n",
    "Bsub=Bsub.change_ring(RR);vsub=vsub.change_ring(RR) \n",
    "c = Bsub.solve_right(vsub)\n",
    "print('c=',c)\n",
    "#print(B*c-v) #checking c is the correction solution\n",
    "#part c\n",
    "import numpy as np\n",
    "print(np.linalg.lstsq(np.array(B),np.array(d))[0])"
   ]
  },
  {
   "cell_type": "markdown",
   "metadata": {
    "collapsed": false
   },
   "source": [
    "### Problem 4: Eigenvectors and eigenvalues"
   ]
  },
  {
   "cell_type": "markdown",
   "metadata": {
    "collapsed": false
   },
   "source": [
    "Grading criteria: correctness of code and explanations."
   ]
  },
  {
   "cell_type": "markdown",
   "metadata": {
    "collapsed": false
   },
   "source": [
    "Let $M$ be the following matrix with rational entries:\n",
    "$$\n",
    "M = \\left(\\begin{array}{rrrr}\n",
    "\\frac{1}{2} & 0 & -1 & 0 \\\\\n",
    "1 & \\frac{1}{2} & 1 & 1 \\\\\n",
    "0 & 1 & -1 & -1 \\\\\n",
    "2 & 1 & -2 & 1\n",
    "\\end{array}\\right)\n",
    "$$"
   ]
  },
  {
   "cell_type": "markdown",
   "metadata": {
    "collapsed": false
   },
   "source": [
    "4a. State the Cayley-Hamilton theorem, then use Sage to verify that it holds for $M$."
   ]
  },
  {
   "cell_type": "code",
   "execution_count": 3,
   "metadata": {
    "collapsed": false
   },
   "outputs": [
    {
     "data": {
      "text/html": [
       "<html><script type=\"math/tex; mode=display\">\\newcommand{\\Bold}[1]{\\mathbf{#1}}x^{4} - x^{3} - \\frac{19}{4} x^{2} + 6 x - \\frac{5}{4}</script></html>"
      ]
     },
     "execution_count": 3,
     "metadata": {
     },
     "output_type": "execute_result"
    },
    {
     "data": {
      "text/plain": [
       "[0 0 0 0]\n",
       "[0 0 0 0]\n",
       "[0 0 0 0]\n",
       "[0 0 0 0]"
      ]
     },
     "execution_count": 3,
     "metadata": {
     },
     "output_type": "execute_result"
    }
   ],
   "source": [
    "#Cayley-Hamilton theorem says that plugging in M into the characteristic polynomial yields the 0 matrix\n",
    "M=Matrix([[1/2,0,-1,0],[1,1/2,1,1],[0,1,-1,-1],[2,1,-2,1]])\n",
    "poly=M.charpoly()\n",
    "show(poly)\n",
    "poly(M)"
   ]
  },
  {
   "cell_type": "markdown",
   "metadata": {
    "collapsed": false
   },
   "source": [
    "4b. Compute the eigenvalues and eigenvectors of $M$, and verify (using numerical approximations) that each eigenvector is indeed an eigenvector with the specified eigenvalue."
   ]
  },
  {
   "cell_type": "code",
   "execution_count": 4,
   "metadata": {
    "collapsed": false,
    "scrolled": true
   },
   "outputs": [
    {
     "name": "stdout",
     "output_type": "stream",
     "text": [
      "[(1, [\n",
      "(1, -3, -1/2, -2)\n",
      "], 1), (-2.300719103558421?, [(1, -1.958489365417388?, 2.800719103558421?, 1.684459476282067?)], 1), (0.2671728756506578?, [(1, -0.7606864653899139?, 0.2328271243493423?, -1.055718682081144?)], 1), (2.033546227907764?, [(1, 7.719175830807302?, -1.533546227907764?, 12.37125920579908?)], 1)]\n",
      "--------------------------------------------------------------------------------------------------------------\n",
      "((1, -3, -1/2, -2), (1, -3, -1/2, -2))\n",
      "--------------------------------------------------------------------------------------------------------------\n",
      "((-2.30071910355842, 4.50593389713179, -6.44366794525788, -3.87546809625216), (-2.30071910355842, 4.50593389713179, -6.44366794525787, -3.87546809625216))\n",
      "--------------------------------------------------------------------------------------------------------------\n",
      "((0.267172875650658, -0.203234790426759, 0.0622050923418879, -0.282059396169743), (0.267172875650658, -0.203234790426758, 0.0622050923418871, -0.282059396169742))\n",
      "--------------------------------------------------------------------------------------------------------------\n",
      "((2.03354622790776, 15.6973008932950, -3.11853714708401, 25.1575274924219), (2.03354622790776, 15.6973008932950, -3.11853714708401, 25.1575274924219))\n"
     ]
    }
   ],
   "source": [
    "#source: http://doc.sagemath.org/html/en/constructions/linear_algebra.html#eigenvectors-and-eigenvalues\n",
    "#print(M.eigenvalues())\n",
    "eigvects=M.eigenvectors_right()\n",
    "print(eigvects)\n",
    "\n",
    "#verifying eigenvectors\n",
    "print('--------------------------------------------------------------------------------------------------------------')\n",
    "eigvect1=vector((1, -3, -1/2, -2))\n",
    "lambda1=1\n",
    "print(M*eigvect1,lambda1*eigvect1)\n",
    "print('--------------------------------------------------------------------------------------------------------------')\n",
    "\n",
    "eigvect2=vector((1, -1.958489365417388, 2.800719103558421, 1.684459476282067))\n",
    "lambda2=-2.300719103558421\n",
    "print(M*eigvect2,lambda2*eigvect2)\n",
    "print('--------------------------------------------------------------------------------------------------------------')\n",
    "\n",
    "eigvect3=vector((1, -0.7606864653899139, 0.2328271243493423, -1.055718682081144))\n",
    "lambda3=0.2671728756506578\n",
    "print(M*eigvect3,lambda3*eigvect3)\n",
    "print('--------------------------------------------------------------------------------------------------------------')\n",
    "\n",
    "eigvect4=vector((1, 7.719175830807302, -1.533546227907764, 12.37125920579908))\n",
    "lambda4=2.033546227907764\n",
    "print(M*eigvect4,lambda4*eigvect4)"
   ]
  },
  {
   "cell_type": "markdown",
   "metadata": {
    "collapsed": false
   },
   "source": [
    "4c. State the relationship between the characteristic polynomial, the determinant, and the eigenvalues of a matrix; then verify numerically that this holds for $M$."
   ]
  },
  {
   "cell_type": "markdown",
   "metadata": {
    "collapsed": false
   },
   "source": [
    "The characteristic polynomial is the polynomial where the eigenvalues are the roots and the determinant is the product of the eigenvalues."
   ]
  },
  {
   "cell_type": "code",
   "execution_count": 5,
   "metadata": {
    "collapsed": false
   },
   "outputs": [
    {
     "name": "stdout",
     "output_type": "stream",
     "text": [
      "(0, -7.43849426498855e-15, 3.33066907387547e-16, 5.99520433297585e-15)\n",
      "(-1.25000000000000, -5/4)\n"
     ]
    }
   ],
   "source": [
    "#verifying that the eigenvalues are the roots of the characteristic polynomial\n",
    "print(poly(lambda1),poly(lambda2),poly(lambda3),poly(lambda4));\n",
    "#verifying that the product of the eigenvalues is the determinant\n",
    "print(lambda1*lambda2*lambda3*lambda4,det(M))"
   ]
  },
  {
   "cell_type": "markdown",
   "metadata": {
    "collapsed": false
   },
   "source": [
    "### Problem 5: Hilbert matrices and numerical stability"
   ]
  },
  {
   "cell_type": "markdown",
   "metadata": {
    "collapsed": false
   },
   "source": [
    "Grading criterion: correctness of code and thoroughness of explanation."
   ]
  },
  {
   "cell_type": "markdown",
   "metadata": {
    "collapsed": false
   },
   "source": [
    "5a. Define a Python function `f`, which on the input of a positive integer $n$, returns the $n \\times n$ Sage matrix over the rational numbers \n",
    "$$\n",
    "H_{ij} = \\frac{1}{i+j-1} \\qquad (i,j=1,\\dots,n).\n",
    "$$\n",
    "See below for a sample output.\n",
    "Hint: remember that Sage, like Python, starts indexing with 0 instead of 1."
   ]
  },
  {
   "cell_type": "code",
   "execution_count": 1,
   "metadata": {
    "collapsed": false
   },
   "outputs": [
   ],
   "source": [
    "def f(n):\n",
    "    #initalize the matrix entries\n",
    "    v=range(n**2)\n",
    "    #fills the entries using the formula\n",
    "    index=0\n",
    "    for i in range(1,n+1):\n",
    "        for j in range(1,n+1):\n",
    "            v[index]=1/(i+j-1)\n",
    "            index=index+1\n",
    "    #formats the entries into an nxn matrix\n",
    "    return Matrix(n,n,v)"
   ]
  },
  {
   "cell_type": "code",
   "execution_count": 2,
   "metadata": {
    "collapsed": false
   },
   "outputs": [
    {
     "data": {
      "text/plain": [
       "[  1 1/2 1/3]\n",
       "[1/2 1/3 1/4]\n",
       "[1/3 1/4 1/5]"
      ]
     },
     "execution_count": 2,
     "metadata": {
     },
     "output_type": "execute_result"
    }
   ],
   "source": [
    "f(3)"
   ]
  },
  {
   "cell_type": "raw",
   "metadata": {
    "collapsed": false
   },
   "source": [
    "## Sample output of f(3):\n",
    "[  1 1/2 1/3]\n",
    "[1/2 1/3 1/4]\n",
    "[1/3 1/4 1/5]"
   ]
  },
  {
   "cell_type": "markdown",
   "metadata": {
    "collapsed": false
   },
   "source": [
    "5b. Write Sage code to compute the inverse of `f(25)`, print out the top left entry (not the whole matrix), and verify that the whole answer agrees with the [formula in Wikipedia](https://en.wikipedia.org/wiki/Hilbert_matrix)."
   ]
  },
  {
   "cell_type": "code",
   "execution_count": 8,
   "metadata": {
    "collapsed": false
   },
   "outputs": [
    {
     "name": "stdout",
     "output_type": "stream",
     "text": [
      "True\n",
      "625\n",
      "True\n"
     ]
    }
   ],
   "source": [
    "X=f(25)\n",
    "#~ is inverse in sage\n",
    "Y=~X\n",
    "\n",
    "#creating the theoretical inverse matrix using the wikipedia formula\n",
    "inverse = matrix.identity(25)\n",
    "n=25\n",
    "for i in range(25):\n",
    "    i = i+1\n",
    "    for j in range(25):\n",
    "        j = j+1\n",
    "        inverse[i-1,j-1] = (-1)**(i+j)*(i+j-1)*binomial(n+i-1,n-j)*binomial(n+j-1,n-i)*binomial(i+j-2,i-1)**2\n",
    "\n",
    "#comparisons\n",
    "print(inverse[0,0] == Y[0,0])\n",
    "print(Y[0,0])\n",
    "print(inverse == Y)i=1;j=1"
   ]
  },
  {
   "cell_type": "markdown",
   "metadata": {
    "collapsed": false
   },
   "source": [
    "5c. Use the `change_ring` method to redo the computation of the inverse of `f(25)` over the ring `RR` (i.e., using floating-point real numbers with double precision == 53 bits), agian printing out the top left entry."
   ]
  },
  {
   "cell_type": "code",
   "execution_count": 9,
   "metadata": {
    "collapsed": false
   },
   "outputs": [
    {
     "name": "stdout",
     "output_type": "stream",
     "text": [
      "-202.301237192348\n"
     ]
    }
   ],
   "source": [
    "Z=X.change_ring(RR)\n",
    "W=~Z\n",
    "print(W[0][0])"
   ]
  },
  {
   "cell_type": "markdown",
   "metadata": {
    "collapsed": false
   },
   "source": [
    "5d. In as much detail as you can, explain what you have just observed. You may want to compute the determinant of `f(25)` and/or read about [numerical stability](https://en.wikipedia.org/wiki/Numerical_stability)."
   ]
  },
  {
   "cell_type": "code",
   "execution_count": 10,
   "metadata": {
    "collapsed": false
   },
   "outputs": [
    {
     "name": "stdout",
     "output_type": "stream",
     "text": [
      "(1/746332515470541859307349018107431789872329747913727730760621191984777569063589205517303938509441565299809996599554994981363939681729476785432795097905555120762172958990784084457536372476333251919350316666089029356479086324949498677522696089012012028938712165715166669721997554754957779660912439584392373862400000000000000000000000000000000000000000000000000, 2.91038304567337e-11)\n"
     ]
    }
   ],
   "source": [
    "print(det(X),det(Z))\n",
    "#Because Z and W are over the ring RR, there is some round-off and truncated errors. However these round-off errors in the inital matrix, caused by small eigenvalues or eigenvalues that nearly cancel each other out, lead to large deviations in the final answer. What we witnessed is small errors being magnified such that the approximated solution deivated very far from the exact solution."
   ]
  },
  {
   "cell_type": "markdown",
   "metadata": {
    "collapsed": false
   },
   "source": [
    "### Problem 6: Linear algebra over Q"
   ]
  },
  {
   "cell_type": "markdown",
   "metadata": {
    "collapsed": false
   },
   "source": [
    "Grading criteria: correctness of code and thoroughness of explanation."
   ]
  },
  {
   "cell_type": "markdown",
   "metadata": {
    "collapsed": false
   },
   "source": [
    "6a. Explain in detail what the following code does and how it is being done. Assume that the input `M` is a matrix with entries in `QQ`."
   ]
  },
  {
   "cell_type": "code",
   "execution_count": 1,
   "metadata": {
    "collapsed": false
   },
   "outputs": [
   ],
   "source": [
    "def f(M):\n",
    "    M = copy(M) # replace M with a copy to avoid clobbering the original\n",
    "    n = M.dimensions()[0]\n",
    "    if n != M.dimensions()[1]: raise ValueError\n",
    "    for i in range(n):\n",
    "        j = i\n",
    "        while j<n and M[j,i] == 0: j += 1\n",
    "        if j==n: return(0)\n",
    "        if i<j:\n",
    "            M.swap_rows(i,j)\n",
    "            M.rescale_row(i, -1)\n",
    "        for k in range(i+1,n):\n",
    "            M.add_multiple_of_row(k,i,-M[k,i]/M[i,i])\n",
    "    return(prod(M[i,i] for i in range(n)))"
   ]
  },
  {
   "cell_type": "markdown",
   "metadata": {
    "collapsed": false
   },
   "source": [
    "Overview: The function f row reduces the matrix M into a triangular matrix then takes the product of the diagonal entries which yields the determinant of M. \n",
    "\n",
    "First the fucntion makes a copy of M to work with locally. Then the function checks to see if M is a square matrix, if not the function will spit back an error. Then for each column of M, indexed by i, it swaps the rows starting with zeroes and the rows starting without zeroes- resulting in the nonzero rows at the top and rows starting with zero at the bottom and scaling appropriately. Then it procedes to row reduce by adding a scalar multiple of the ith row to all the other rows below it. This algorithm transforms a general matrix M into an upper triangular matrix which has the nice property that the product of the diagonal entries is the determiant- which is what is ebign returned."
   ]
  },
  {
   "cell_type": "markdown",
   "metadata": {
    "collapsed": false
   },
   "source": [
    "6b. Define a Python function `g` that, on input a positive integer `n`, returns an $n \\times n$ matrix in which each entry is a Sage integer is chosen uniformly at random among 0 and 1. (Hint: use the `randint` function, but read the docstring carefully!) \n",
    "\n",
    "Then check that on the output of `g(25)`, the function `f` agrees with the native Sage way of doing the same computation."
   ]
  },
  {
   "cell_type": "code",
   "execution_count": 2,
   "metadata": {
    "collapsed": false
   },
   "outputs": [
   ],
   "source": [
    "def g(n):\n",
    "    # your code goes here\n",
    "    #initalize the matrix entries\n",
    "    p=range(n**2)\n",
    "    #fills the entries with sage integer 0 or 1 chosen uniformly at random\n",
    "    for i in range(n**2):\n",
    "        p[i]=Integer(randint(0,1))\n",
    "    #formats the entries into an nxn matrix\n",
    "    return Matrix(n,n,p)"
   ]
  },
  {
   "cell_type": "code",
   "execution_count": 3,
   "metadata": {
    "collapsed": false
   },
   "outputs": [
    {
     "name": "stdout",
     "output_type": "stream",
     "text": [
      "66108\n",
      "66108\n"
     ]
    }
   ],
   "source": [
    "mat=g(25).change_ring(QQ)\n",
    "#show(mat)\n",
    "#type(mat[0][0])\n",
    "print(det(mat))\n",
    "print(f(mat))"
   ]
  },
  {
   "cell_type": "markdown",
   "metadata": {
    "collapsed": false
   },
   "source": [
    "6c. Define the *binary height* of a nonzero rational number $\\frac{r}{s}$, written in lowest terms, to be the quantity\n",
    "$$ \\left\\lceil\\log_2 r \\right\\rceil + \\left\\lceil \\log_2 s \\right\\rceil.$$\n",
    "Use the function `binary_height` defined below to compute this.\n",
    "\n",
    "Take the code defining `f`, recopy it below, then modify it so that at the last step, instead of returning the product of the diagonal entries of `M`, it returns the maximum of the heights of the diagonal entries."
   ]
  },
  {
   "cell_type": "code",
   "execution_count": 4,
   "metadata": {
    "collapsed": false
   },
   "outputs": [
   ],
   "source": [
    "def binary_height(x):\n",
    "    return(x.numer().nbits() + x.denom().nbits())"
   ]
  },
  {
   "cell_type": "code",
   "execution_count": 5,
   "metadata": {
    "collapsed": false
   },
   "outputs": [
   ],
   "source": [
    "def f_modified(M):\n",
    "    M = copy(M) # replace M with a copy to avoid clobbering the original\n",
    "    n = M.dimensions()[0]\n",
    "    if n != M.dimensions()[1]: raise ValueError\n",
    "    for i in range(n):\n",
    "        j = i\n",
    "        while j<n and M[j,i] == 0: j += 1\n",
    "        if j==n: return(0)\n",
    "        if i<j:\n",
    "            M.swap_rows(i,j)\n",
    "            M.rescale_row(i, -1)\n",
    "        for k in range(i+1,n):\n",
    "            M.add_multiple_of_row(k,i,-M[k,i]/M[i,i])\n",
    "    return(max(binary_height(M[i,i]) for i in range(n)))"
   ]
  },
  {
   "cell_type": "markdown",
   "metadata": {
    "collapsed": false
   },
   "source": [
    "6d. Explain, in words, the output of the following code. (It should run without errors!)"
   ]
  },
  {
   "cell_type": "code",
   "execution_count": 10,
   "metadata": {
    "collapsed": false
   },
   "outputs": [
    {
     "name": "stdout",
     "output_type": "stream",
     "text": [
      "17\n",
      "31\n"
     ]
    }
   ],
   "source": [
    "M = g(25).change_ring(QQ)\n",
    "print(binary_height(f(M)))\n",
    "print(f_modified(M))"
   ]
  },
  {
   "cell_type": "markdown",
   "metadata": {
    "collapsed": false
   },
   "source": [
    "The first print statement is the binary height of the determiant of M. The second print statement is finding the maximum binary height of the diagonal entries of a row reduced M. The answer is different because the first returns the binary height of the determiant, whereas the second returns one binary height- the maximum of the binary heights of the diagonal entries of a row reduced M. The magnitude of both answers are the same, even if the actual values are different due to randomness. "
   ]
  },
  {
   "cell_type": "markdown",
   "metadata": {
    "collapsed": false
   },
   "source": [
    "6e. Sage does *not* use the method illustrated by the definition of `f` for matrices of integers or rational numbers; instead, it uses an approach based on the [Chinese remainder theorem](https://en.wikipedia.org/wiki/Chinese_remainder_theorem), in which one does the analogous computation modulo $p$ for a few primes $p$. Explain why you think this decision was made."
   ]
  },
  {
   "cell_type": "markdown",
   "metadata": {
    "collapsed": false
   },
   "source": [
    "I think this decision was made because it allows Sage to deal with very large numbers very efficiently. If a matrix of size 1000000x1000000 were passed into f, the algorithm would have to make at least $1000000^2$ iterations from the loops alone. The approach based on the Chinese remainder theorem allows for quicker computation due to the use of modular arithematic and equivalence."
   ]
  },
  {
   "cell_type": "code",
   "execution_count": 0,
   "metadata": {
    "collapsed": false
   },
   "outputs": [
   ],
   "source": [
   ]
  }
 ],
 "metadata": {
  "kernelspec": {
   "display_name": "SageMath 8.1",
   "name": "sage-8.1"
  },
  "language_info": {
   "codemirror_mode": {
    "name": "ipython",
    "version": 2
   },
   "file_extension": ".py",
   "mimetype": "text/x-python",
   "name": "python",
   "nbconvert_exporter": "python",
   "pygments_lexer": "ipython2",
   "version": "2.7.14"
  }
 },
 "nbformat": 4,
 "nbformat_minor": 0
}