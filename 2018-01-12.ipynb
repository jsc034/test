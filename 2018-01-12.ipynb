{
 "cells": [
  {
   "cell_type": "markdown",
   "metadata": {
    "collapsed": false
   },
   "source": [
    "## Math 157: Intro to Mathematical Software\n",
    "## UC San Diego, winter 2018; materials by Kiran S. Kedlaya"
   ]
  },
  {
   "cell_type": "markdown",
   "metadata": {
    "collapsed": false
   },
   "source": [
    "## Homework 0 (practice): due January 12, 2018"
   ]
  },
  {
   "cell_type": "markdown",
   "metadata": {
    "collapsed": false
   },
   "source": [
    "This homework is not for credit. Its primary purpose is to give you a chance to practice with CoCalc, Jupyter notebooks, and the homework submission mechanism. A secondary purpose is to collect some feedback which might help us later."
   ]
  },
  {
   "cell_type": "markdown",
   "metadata": {
    "collapsed": false
   },
   "source": [
    "In general, each homework will be presented as a single Jupyter notebook like this one. Each component of each problem will be followed by an empty cell in which you should provide your response (unless otherwise instructed). Please set the type of that cell appropriately: to \"code\" for executable code in some software package (the default), \"markdown\" for text wth formatting, or \"raw\" for text without formatting (we won't use this option much)."
   ]
  },
  {
   "cell_type": "markdown",
   "metadata": {
    "collapsed": false
   },
   "source": [
    "## Problem 1: Background"
   ]
  },
  {
   "cell_type": "markdown",
   "metadata": {
    "collapsed": false
   },
   "source": [
    "1a. Please list (by name and course number) any programming classes you have taken."
   ]
  },
  {
   "cell_type": "markdown",
   "metadata": {
    "collapsed": false
   },
   "source": [
    "Intro to Java 1 CSE 8A, Intro to Java 2 CSE 8B, Computational Statistics Math 185"
   ]
  },
  {
   "cell_type": "markdown",
   "metadata": {
    "collapsed": false
   },
   "source": [
    "1b. Are you familiar with any programming languages? If so, which ones?"
   ]
  },
  {
   "cell_type": "code",
   "execution_count": 0,
   "metadata": {
    "collapsed": false
   },
   "outputs": [
   ],
   "source": [
    "Java"
   ]
  },
  {
   "cell_type": "markdown",
   "metadata": {
    "collapsed": false
   },
   "source": [
    "1c. Have you used any mathematical software before (e.g., Mathematica, Maple, Matlab)? If so, in what way(s)?"
   ]
  },
  {
   "cell_type": "code",
   "execution_count": 0,
   "metadata": {
    "collapsed": false
   },
   "outputs": [
   ],
   "source": [
    "Matlab, R"
   ]
  },
  {
   "cell_type": "markdown",
   "metadata": {
    "collapsed": false
   },
   "source": [
    "1d. Feel free to make any more comments about your programming/math software background here, so we may better serve you."
   ]
  },
  {
   "cell_type": "code",
   "execution_count": 0,
   "metadata": {
    "collapsed": false
   },
   "outputs": [
   ],
   "source": [
   ]
  },
  {
   "cell_type": "markdown",
   "metadata": {
    "collapsed": false
   },
   "source": [
    "## Problem 2: Office hours"
   ]
  },
  {
   "cell_type": "markdown",
   "metadata": {
    "collapsed": false
   },
   "source": [
    "Are you able to attend any of the scheduled office hours? (If you are unable to utilize your TA's office hours, you may use another other TA's office hours.)"
   ]
  },
  {
   "cell_type": "markdown",
   "metadata": {
    "collapsed": false
   },
   "source": [
   ]
  },
  {
   "cell_type": "markdown",
   "metadata": {
    "collapsed": false
   },
   "source": [
    "## Problem 3: Paradigms for mathematical software"
   ]
  },
  {
   "cell_type": "markdown",
   "metadata": {
    "collapsed": false
   },
   "source": [
    "Most problem sets will include one or two verbal response questions in the following style."
   ]
  },
  {
   "cell_type": "markdown",
   "metadata": {
    "collapsed": false
   },
   "source": [
    "3a. In your own words, explain the differences between the following concepts:\n",
    "  - a programming language (e.g., Python);\n",
    "  - a computer algebra system (e.g., Mathematica);\n",
    "  - a collaborative mathematics environment (e.g., CoCalc).\n"
   ]
  },
  {
   "cell_type": "markdown",
   "metadata": {
    "collapsed": false
   },
   "source": [
    "A programming language is a set of commands used to generate and output. A computer algebra system is any mathematical software that allows users to manipulate expressions. A collaborative mathematics environment is like google docs but for code, where multiple people can access and make edits to code in real time."
   ]
  },
  {
   "cell_type": "markdown",
   "metadata": {
    "collapsed": false
   },
   "source": [
    "3b. WolframAlpha is a web service based on Mathematica, but it is a \"computational knowledge engine\" rather than a \"collaborative mathematics environment\". Explain the difference between these two concepts by giving some examples (on both sides) of tasks that can be handled by one type of web service but not the other.\n"
   ]
  },
  {
   "cell_type": "markdown",
   "metadata": {
    "collapsed": false
   },
   "source": [
    "There is not a lot of collaboration done in WolframAlpha, it is more of an online calculator. Meanwhile, Mathematica is a system which allows multiple people to collaborate and work on the same code simulatneously. With WolframAlpha, you can calculate an equation but not share it in real time. WolframAlpha is a lot more user friendly, often used as an online calculator."
   ]
  },
  {
   "cell_type": "markdown",
   "metadata": {
    "collapsed": false
   },
   "source": [
    "## Problem 4: Markdown syntax"
   ]
  },
  {
   "cell_type": "markdown",
   "metadata": {
    "collapsed": false
   },
   "source": [
    "Write some text in Markdown that illustrates at least three formatting features not used anywhere in this homework. Your text should also describe in words what these features are. (Do not use any examples based on TeX; that is, do not use the dollar sign \\$ in your text.)"
   ]
  },
  {
   "cell_type": "markdown",
   "metadata": {
    "collapsed": false
   },
   "source": [
    "*This is an exmaple of Markdown syntax*\n",
    "\n",
    "**This is an exmaple of Markdown syntax**\n",
    "\n",
    "~~This is an exmaple of Markdown syntax~~"
   ]
  },
  {
   "cell_type": "markdown",
   "metadata": {
    "collapsed": false
   },
   "source": [
    "## Problem 5: TeX syntax"
   ]
  },
  {
   "cell_type": "markdown",
   "metadata": {
    "collapsed": false
   },
   "source": [
    "For Jupyter notebooks in CoCalc, markdown cells can contain mathematical formatting using TeX. Any text enclosed between a pair of dollar signs is parsed as TeX, for instance, $x^2$."
   ]
  },
  {
   "cell_type": "markdown",
   "metadata": {
    "collapsed": false
   },
   "source": [
    "Use TeX to typeset the following equations/formulas:\n",
    "  - Euler's identity (according to Wikipedia);\n",
    "  - Stirling's approximation (the \"more precise variant\" according to Wikipedia);\n",
    "  - Laplace's equation (the first form appearing in Wikipedia)."
   ]
  },
  {
   "cell_type": "markdown",
   "metadata": {
    "collapsed": false
   },
   "source": [
    "$e^{i\\pi}+1=0$\n",
    "\n",
    "$n!$ ~ $\\sqrt{2\\pi n} \\left( \\frac{n}{e} \\right)^n$\n",
    "\n",
    "$\\nabla^2 \\varphi = 0$"
   ]
  }
 ],
 "metadata": {
  "kernelspec": {
   "display_name": "Python 3 (Anaconda)",
   "language": "python",
   "name": "anaconda3"
  },
  "language_info": {
   "codemirror_mode": {
    "name": "ipython",
    "version": 3
   },
   "file_extension": ".py",
   "mimetype": "text/x-python",
   "name": "python",
   "nbconvert_exporter": "python",
   "pygments_lexer": "ipython3",
   "version": "3.5.4"
  }
 },
 "nbformat": 4,
 "nbformat_minor": 0
}