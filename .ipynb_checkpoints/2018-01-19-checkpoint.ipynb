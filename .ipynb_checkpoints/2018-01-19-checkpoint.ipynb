{
 "cells": [
  {
   "cell_type": "markdown",
   "metadata": {},
   "source": [
    "## Math 157: Intro to Mathematical Software\n",
    "## UC San Diego, winter 2018; materials by Kiran S. Kedlaya"
   ]
  },
  {
   "cell_type": "markdown",
   "metadata": {},
   "source": [
    "## Homework 1: due January 19, 2018"
   ]
  },
  {
   "cell_type": "markdown",
   "metadata": {},
   "source": [
    "Please enter all answers within this notebook unless otherwise specified.\n",
    "\n",
    "Each problem's statement includes the criteria by which it will be graded. Correctness means in particular that all code that is supposed to execute must actually do so without errors! In addition, you may be marked off for not setting cells to the appropriate format (Code or Markdown), or for not answering textual questions in complete, grammatical English sentences with proper spelling and punctuation.\n",
    "\n",
    "Note: homework assignments may consist of variable numbers of problems, but the maximum possible scores will be renormalized to a common value for the computation of grades."
   ]
  },
  {
   "cell_type": "markdown",
   "metadata": {},
   "source": [
    "## Problem 1: Comparison of programming languages"
   ]
  },
  {
   "cell_type": "markdown",
   "metadata": {},
   "source": [
    "Grading criterion: correctness."
   ]
  },
  {
   "cell_type": "markdown",
   "metadata": {},
   "source": [
    "1a. Explain the difference between 0-based arrays and 1-based arrays."
   ]
  },
  {
   "cell_type": "markdown",
   "metadata": {},
   "source": [
    "0-based array is when array indexing starts with 0 and 1-based array is when array indexing starts with 1."
   ]
  },
  {
   "cell_type": "markdown",
   "metadata": {},
   "source": [
    "1b. Explain the difference between \"pass by reference\" and \"pass by value\"."
   ]
  },
  {
   "cell_type": "markdown",
   "metadata": {},
   "source": [
    "'Pass by reference' is when you are passing references into funcitons directly and modifies the object passed in whereas 'Pass by value' is when references are passed into funcitons, a copy is made of the parameter passed in so the original passed in parameter is unaffected. "
   ]
  },
  {
   "cell_type": "markdown",
   "metadata": {},
   "source": [
    "1c. Classify the following programming languages according to the criteria in parts a and b: Python, MATLAB, R, Javascript, Julia. For examples of the languages other than Python, see the Sage worksheet \"comparison.sagews\" in this folder."
   ]
  },
  {
   "cell_type": "markdown",
   "metadata": {},
   "source": [
    "Python uses 0-based indexing and pass by refererence.\n",
    "\n",
    "MATLAB uses 1-based indexing pass by value.\n",
    "\n",
    "R uses 1-based indexing pass by value.\n",
    "\n",
    "JavaScript uses 0-based indexing pass by reference.\n",
    "\n",
    "Julia uses 1-based indexing pass by reference."
   ]
  },
  {
   "cell_type": "markdown",
   "metadata": {},
   "source": [
    "## Problem 2: Truth values"
   ]
  },
  {
   "cell_type": "markdown",
   "metadata": {},
   "source": [
    "Grading criterion: correctness and thoroughness."
   ]
  },
  {
   "cell_type": "markdown",
   "metadata": {},
   "source": [
    "An expression `e` will be called *truthy* if `bool(e)` is True (i.e., if `if e: stuff` executes `stuff`); otherwise `e` is falsy."
   ]
  },
  {
   "cell_type": "markdown",
   "metadata": {},
   "source": [
    "1a. Create a list `l` consisting of 10 different Python objects that are falsy. For correctness, your list must have the property that `a is b` evaluates to False whenever `a` and `b` are entries of the list in different positions. For thoroughness, the entries should look as different as possible. (Hint: `[]` is an example.)"
   ]
  },
  {
   "cell_type": "code",
   "execution_count": 41,
   "metadata": {},
   "outputs": [],
   "source": [
    "l = [ [], 0, 0.0, None, False, 0j, {}, (), '', set()]  #insert ten objects here"
   ]
  },
  {
   "cell_type": "code",
   "execution_count": 42,
   "metadata": {},
   "outputs": [
    {
     "name": "stdout",
     "output_type": "stream",
     "text": [
      "True\n",
      "True\n",
      "True\n"
     ]
    }
   ],
   "source": [
    "# Use this code to test correctness of your answer!\n",
    "print(len(l) == 10)\n",
    "print(all(not l[i] for i in range(10)))\n",
    "print(all(not (l[i] is l[j]) for i in range(10) for j in range(i+1,10)))"
   ]
  },
  {
   "cell_type": "markdown",
   "metadata": {},
   "source": [
    "1b. In Python, \"is\" means \"identical objects\", whereas \"==\" can be much more subtle. Create a list `l` consisting of 5 tuples `(a,b)` for each of which `a==b` evaluates to True but `a is b` evaluates to False."
   ]
  },
  {
   "cell_type": "code",
   "execution_count": 43,
   "metadata": {},
   "outputs": [],
   "source": [
    "l = [(1,1), (1.3,1.3), ([1,2],[1,2]), (True,True), ('hi','hi')] #insert five objects here"
   ]
  },
  {
   "cell_type": "markdown",
   "metadata": {},
   "source": [
    "1c. By analogy with the code snippet given in 1a, write a code snippet to verify correctness of your answer to 1b. That is, the code snippet should print one or more True/False values, all of which are True if and only if the answer is correct."
   ]
  },
  {
   "cell_type": "code",
   "execution_count": 44,
   "metadata": {},
   "outputs": [
    {
     "name": "stdout",
     "output_type": "stream",
     "text": [
      "True\n",
      "True\n",
      "False\n"
     ]
    }
   ],
   "source": [
    "# Your code snippet goes here\n",
    "print(len(l) == 5)\n",
    "print(all(l[i][0] == l[i][1] for i in range(5)))\n",
    "print(all(l[i][0] is l[i][1] for i in range(5)))"
   ]
  },
  {
   "cell_type": "markdown",
   "metadata": {},
   "source": [
    "## Problem 3: Flow control"
   ]
  },
  {
   "cell_type": "markdown",
   "metadata": {},
   "source": [
    "Grading criteria: correctness of output."
   ]
  },
  {
   "cell_type": "markdown",
   "metadata": {},
   "source": [
    "Write a function named `fizz_buzz` that accepts an integer `N` and for each integer `m` from `1` to `N`, prints 'Fizz' if `m` is divisible by 2 but not 3, prints 'Buzz' if `m` is divisible by 3 but not 2, prints 'FizzBuzz' if `m` is divisible by 2 and 3, and prints 'Moot' if none of the above."
   ]
  },
  {
   "cell_type": "code",
   "execution_count": 45,
   "metadata": {},
   "outputs": [],
   "source": [
    "# Your code goes here\n",
    "def fizz_buzz(N):\n",
    "    for m in range(1,N+1):\n",
    "        if m%2==0 and m%3==0:\n",
    "            print('FizzBuzz')\n",
    "        elif m%3==0:\n",
    "            print('Buzz')\n",
    "        elif m%2==0:\n",
    "            print('Fizz')\n",
    "        else:\n",
    "            print('Moot')"
   ]
  },
  {
   "cell_type": "code",
   "execution_count": 46,
   "metadata": {},
   "outputs": [
    {
     "name": "stdout",
     "output_type": "stream",
     "text": [
      "Moot\n",
      "Fizz\n",
      "Buzz\n",
      "Fizz\n",
      "Moot\n",
      "FizzBuzz\n",
      "Moot\n"
     ]
    }
   ],
   "source": [
    "# Test your answer against the output below\n",
    "fizz_buzz(7)"
   ]
  },
  {
   "cell_type": "raw",
   "metadata": {},
   "source": [
    "Moot\n",
    "Fizz\n",
    "Buzz\n",
    "Fizz\n",
    "Moot\n",
    "FizzBuzz\n",
    "Moot"
   ]
  },
  {
   "cell_type": "markdown",
   "metadata": {},
   "source": [
    "## Problem 4: Better and worse"
   ]
  },
  {
   "cell_type": "markdown",
   "metadata": {},
   "source": [
    "Grading criteria: correctness (of the code) and thoroughness (of the explanation)."
   ]
  },
  {
   "cell_type": "markdown",
   "metadata": {},
   "source": [
    "4a. Read about *recursion* in Python. Then write two different functions that, on an input `N`, return the `N`th Fibonacci number: one using recursion, and one not."
   ]
  },
  {
   "cell_type": "code",
   "execution_count": 47,
   "metadata": {},
   "outputs": [],
   "source": [
    "def fib1(N):\n",
    "    if N==1 or N==0:\n",
    "        return 1\n",
    "    else:\n",
    "        x=1\n",
    "        y=1\n",
    "        for i in range(N):\n",
    "            z=x+y\n",
    "            x=y\n",
    "            y=z\n",
    "        return x"
   ]
  },
  {
   "cell_type": "code",
   "execution_count": 48,
   "metadata": {},
   "outputs": [],
   "source": [
    "def fib2(N):\n",
    "    if N<=1:\n",
    "        return 1\n",
    "    else:\n",
    "        return fib2(N-1)+fib2(N-2)"
   ]
  },
  {
   "cell_type": "markdown",
   "metadata": {},
   "source": [
    "4b. State an identity of Fibonacci numbers other than the defining recurrence $F_n = F_{n-1} + F_{n-2}$; use TeX symbols to format this correctly. Then write some code that tests this identity using your two functions."
   ]
  },
  {
   "cell_type": "markdown",
   "metadata": {},
   "source": [
    "Your identity: $F_n= \\displaystyle \\frac{\\varphi^n-\\psi^n}{\\sqrt{5}}$"
   ]
  },
  {
   "cell_type": "code",
   "execution_count": 49,
   "metadata": {},
   "outputs": [],
   "source": [
    "import math\n",
    "# Your test code goes here\n",
    "def my_fib(n):\n",
    "    phi=(1+math.sqrt(5))/2\n",
    "    psi=(1-math.sqrt(5))/2\n",
    "    return (phi**n-psi**n)/math.sqrt(5)"
   ]
  },
  {
   "cell_type": "markdown",
   "metadata": {},
   "source": [
    "4c. Give as detailed an explanation of possible of why your non-recursive function is \"better\" than the recursive one. You may wish to do some online research for this, in which case please cite your sources."
   ]
  },
  {
   "cell_type": "markdown",
   "metadata": {},
   "source": [
    "Recursive functions are slower in general and require multiple function calls compared to the non-recursive function which just requires iterations in a for-loop or just plugging in values into a formula. \n",
    "\n",
    "Citation: https://stackoverflow.com/questions/5250733/what-are-the-advantages-and-disadvantages-of-recursion"
   ]
  },
  {
   "cell_type": "markdown",
   "metadata": {},
   "source": [
    "## Problem 5: Dictionaries"
   ]
  },
  {
   "cell_type": "markdown",
   "metadata": {},
   "source": [
    "Grading criteria: correctness and thoroughness."
   ]
  },
  {
   "cell_type": "markdown",
   "metadata": {},
   "source": [
    "5a. Search online and find as many names as you can for data structures that are like a Python \"dictionary\", but in other programming languages. (For example, in Javascript the analogue of a Python dictionary is called a \"Map\".)\n"
   ]
  },
  {
   "cell_type": "markdown",
   "metadata": {},
   "source": [
    "In C, the equivalent is called a dictionary data structure. In Java, it is called Dictionary while in Javascript it is called referred to as Map. In C++ it is called STL container map. In Matlab, the equivalent is called a container map."
   ]
  },
  {
   "cell_type": "markdown",
   "metadata": {},
   "source": [
    "5b. Give a list `l1` of five Python objects that can't be the keys of a Python dictionary, and a list `l2` of five objects that can be keys of a Python dictionary. Then check that each object consists of five objects of different types; that is, `[type(obj) for obj in l1]` should contain no repeated entries, and similarly for `l2`. (The check should be in the form of a code snippet that prints True if the check passes and False if it fails.)"
   ]
  },
  {
   "cell_type": "code",
   "execution_count": 36,
   "metadata": {},
   "outputs": [],
   "source": [
    "# Define lists l1, l2 here\n",
    "#cannot use mutable objects as keys, only immutable objects are allowed as keys\n",
    "import numpy as np\n",
    "l1=[[1,2,3],{\"red\":\"acceptable\"},set(['Jane','Doe']),np.array([1,2]),bytearray([55,24,89,101])]\n",
    "l2=[\"key\",1,5.4,(1,2),False]"
   ]
  },
  {
   "cell_type": "code",
   "execution_count": 40,
   "metadata": {},
   "outputs": [
    {
     "name": "stdout",
     "output_type": "stream",
     "text": [
      "[<class 'list'>, <class 'dict'>, <class 'set'>, <class 'numpy.ndarray'>, <class 'bytearray'>]\n",
      "[<class 'str'>, <class 'int'>, <class 'float'>, <class 'tuple'>, <class 'bool'>]\n"
     ]
    }
   ],
   "source": [
    "# Check correctness of your answer here\n",
    "print([type(obj) for obj in l1])\n",
    "print([type(obj) for obj in l2])"
   ]
  },
  {
   "cell_type": "markdown",
   "metadata": {},
   "source": [
    "## Problem 6: List comprehensions"
   ]
  },
  {
   "cell_type": "markdown",
   "metadata": {},
   "source": [
    "Grading criteria: correctness."
   ]
  },
  {
   "cell_type": "markdown",
   "metadata": {},
   "source": [
    "Translate each of the following mathematical definitions of sets into a Python list comprehension:\n",
    "\n",
    "- $\\{x: 0 < x < 100, x \\not\\equiv 0 \\pmod{3} \\}$\n",
    "- $\\{x: 10 < x < 50, x^2 \\equiv 1 \\pmod{5}\\}$\n",
    "- $\\{(x,y): 0 < x < 1000, 0 < y < 1000, x^2 - y^3 = 1\\}$\n",
    "- $\\{(x,y): -10 < x < 10, -10 < y < 10, |x^2-y^2-y| < 3\\}$"
   ]
  },
  {
   "cell_type": "code",
   "execution_count": 2,
   "metadata": {},
   "outputs": [
    {
     "name": "stdout",
     "output_type": "stream",
     "text": [
      "[1, 2, 4, 5, 7, 8, 10, 11, 13, 14, 16, 17, 19, 20, 22, 23, 25, 26, 28, 29, 31, 32, 34, 35, 37, 38, 40, 41, 43, 44, 46, 47, 49, 50, 52, 53, 55, 56, 58, 59, 61, 62, 64, 65, 67, 68, 70, 71, 73, 74, 76, 77, 79, 80, 82, 83, 85, 86, 88, 89, 91, 92, 94, 95, 97, 98]\n"
     ]
    }
   ],
   "source": [
    "set1 = [x for x in range(100) if x%3 !=0 and 0<x and x<100]\n",
    "print(set1)"
   ]
  },
  {
   "cell_type": "code",
   "execution_count": 13,
   "metadata": {},
   "outputs": [
    {
     "name": "stdout",
     "output_type": "stream",
     "text": [
      "[11, 14, 16, 19, 21, 24, 26, 29, 31, 34, 36, 39, 41, 44, 46, 49]\n"
     ]
    }
   ],
   "source": [
    "set2 = [x for x in range(10,50) if (x**2)%5==1 and 10<x and x<50]\n",
    "print(set2)"
   ]
  },
  {
   "cell_type": "code",
   "execution_count": 25,
   "metadata": {},
   "outputs": [
    {
     "name": "stdout",
     "output_type": "stream",
     "text": [
      "[[3, 2]]\n"
     ]
    }
   ],
   "source": [
    "set3 = [[x,y] for x in range(1000) for y in range(1000) if (x**2)-(y**3)==1 and 0<x and x<1000 and 0<y and y<1000]\n",
    "print(set3)"
   ]
  },
  {
   "cell_type": "code",
   "execution_count": 31,
   "metadata": {},
   "outputs": [
    {
     "name": "stdout",
     "output_type": "stream",
     "text": [
      "[[-2, -3], [-2, -2], [-2, 1], [-2, 2], [-1, -2], [-1, -1], [-1, 0], [-1, 1], [0, -2], [0, -1], [0, 0], [0, 1], [1, -2], [1, -1], [1, 0], [1, 1], [2, -3], [2, -2], [2, 1], [2, 2]]\n"
     ]
    }
   ],
   "source": [
    "set4 = [[x,y] for x in range(-10,10) for y in range(-10,10) if abs(x**2-y**2-y)<3 and -10<x and x<10 and -10<y and y<10]\n",
    "print(set4)"
   ]
  },
  {
   "cell_type": "code",
   "execution_count": 0,
   "metadata": {},
   "outputs": [],
   "source": []
  }
 ],
 "metadata": {
  "kernelspec": {
   "display_name": "Python 3",
   "language": "python",
   "name": "python3"
  },
  "language_info": {
   "codemirror_mode": {
    "name": "ipython",
    "version": 3
   },
   "file_extension": ".py",
   "mimetype": "text/x-python",
   "name": "python",
   "nbconvert_exporter": "python",
   "pygments_lexer": "ipython3",
   "version": "3.7.1"
  }
 },
 "nbformat": 4,
 "nbformat_minor": 1
}
