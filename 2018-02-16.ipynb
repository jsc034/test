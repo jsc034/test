{
 "cells": [
  {
   "cell_type": "markdown",
   "metadata": {
    "collapsed": false
   },
   "source": [
    "## Math 157: Intro to Mathematical Software\n",
    "## UC San Diego, winter 2018"
   ]
  },
  {
   "cell_type": "markdown",
   "metadata": {
    "collapsed": false
   },
   "source": [
    "## Homework 5: due February 16, 2018"
   ]
  },
  {
   "cell_type": "markdown",
   "metadata": {
    "collapsed": false
   },
   "source": [
    "Please enter all answers within this notebook unless otherwise specified. As usual, don't forget to cite sources and collaborators.\n",
    "\n",
    "Through this problem set, use the SageMath 8.1 kernel. Tips:\n",
    "\n",
    "- You can use `preparser(False)` to turn off the Sage preparser (e.g., to avoid issues with pandas) and `preparser(True)` to turn it back on.\n",
    "- To avoid issues with CoCalc, don't forget to delete temporary files.\n",
    "- Run the following imports before executing cells using numpy or pandas."
   ]
  },
  {
   "cell_type": "code",
   "execution_count": 1,
   "metadata": {
    "collapsed": false
   },
   "outputs": [
   ],
   "source": [
    "import numpy as np\n",
    "import pandas as pd"
   ]
  },
  {
   "cell_type": "markdown",
   "metadata": {
    "collapsed": false
   },
   "source": [
    "### Problem 1: Distances between cities"
   ]
  },
  {
   "cell_type": "markdown",
   "metadata": {
    "collapsed": false
   },
   "source": [
    "Grading criteria: correctness of code."
   ]
  },
  {
   "cell_type": "markdown",
   "metadata": {
    "collapsed": false
   },
   "source": [
    "1a. Retrieve the CSV version of the [Zip Code Database](http://zips.sourceforge.net/), upload it into your project, and import it into a DataFrame."
   ]
  },
  {
   "cell_type": "code",
   "execution_count": 2,
   "metadata": {
    "collapsed": false
   },
   "outputs": [
   ],
   "source": [
    "preparser(False)"
   ]
  },
  {
   "cell_type": "code",
   "execution_count": 3,
   "metadata": {
    "collapsed": false
   },
   "outputs": [
    {
     "data": {
      "text/html": [
       "<div>\n",
       "<style scoped>\n",
       "    .dataframe tbody tr th:only-of-type {\n",
       "        vertical-align: middle;\n",
       "    }\n",
       "\n",
       "    .dataframe tbody tr th {\n",
       "        vertical-align: top;\n",
       "    }\n",
       "\n",
       "    .dataframe thead th {\n",
       "        text-align: right;\n",
       "    }\n",
       "</style>\n",
       "<table border=\"1\" class=\"dataframe\">\n",
       "  <thead>\n",
       "    <tr style=\"text-align: right;\">\n",
       "      <th></th>\n",
       "      <th>zip code</th>\n",
       "      <th>\"state abbreviation\"</th>\n",
       "      <th>\"latitude\"</th>\n",
       "      <th>\"longitude\"</th>\n",
       "      <th>\"city\"</th>\n",
       "      <th>\"state\"</th>\n",
       "    </tr>\n",
       "  </thead>\n",
       "  <tbody>\n",
       "    <tr>\n",
       "      <th>0</th>\n",
       "      <td>35004</td>\n",
       "      <td>\"AL\"</td>\n",
       "      <td>\" 33.606379\"</td>\n",
       "      <td>\" -86.50249\"</td>\n",
       "      <td>\"Moody\"</td>\n",
       "      <td>\"Alabama\"</td>\n",
       "    </tr>\n",
       "    <tr>\n",
       "      <th>1</th>\n",
       "      <td>35005</td>\n",
       "      <td>\"AL\"</td>\n",
       "      <td>\" 33.592585\"</td>\n",
       "      <td>\" -86.95969\"</td>\n",
       "      <td>\"Adamsville\"</td>\n",
       "      <td>\"Alabama\"</td>\n",
       "    </tr>\n",
       "    <tr>\n",
       "      <th>2</th>\n",
       "      <td>35006</td>\n",
       "      <td>\"AL\"</td>\n",
       "      <td>\" 33.451714\"</td>\n",
       "      <td>\" -87.23957\"</td>\n",
       "      <td>\"Adger\"</td>\n",
       "      <td>\"Alabama\"</td>\n",
       "    </tr>\n",
       "    <tr>\n",
       "      <th>3</th>\n",
       "      <td>35007</td>\n",
       "      <td>\"AL\"</td>\n",
       "      <td>\" 33.232422\"</td>\n",
       "      <td>\" -86.80871\"</td>\n",
       "      <td>\"Alabaster\"</td>\n",
       "      <td>\"Alabama\"</td>\n",
       "    </tr>\n",
       "    <tr>\n",
       "      <th>4</th>\n",
       "      <td>35010</td>\n",
       "      <td>\"AL\"</td>\n",
       "      <td>\" 32.903432\"</td>\n",
       "      <td>\" -85.92669\"</td>\n",
       "      <td>\"Alexander City\"</td>\n",
       "      <td>\"Alabama\"</td>\n",
       "    </tr>\n",
       "    <tr>\n",
       "      <th>5</th>\n",
       "      <td>35014</td>\n",
       "      <td>\"AL\"</td>\n",
       "      <td>\" 33.355960\"</td>\n",
       "      <td>\" -86.27720\"</td>\n",
       "      <td>\"Alpine\"</td>\n",
       "      <td>\"Alabama\"</td>\n",
       "    </tr>\n",
       "    <tr>\n",
       "      <th>6</th>\n",
       "      <td>35016</td>\n",
       "      <td>\"AL\"</td>\n",
       "      <td>\" 34.323715\"</td>\n",
       "      <td>\" -86.49278\"</td>\n",
       "      <td>\"Arab\"</td>\n",
       "      <td>\"Alabama\"</td>\n",
       "    </tr>\n",
       "    <tr>\n",
       "      <th>7</th>\n",
       "      <td>35019</td>\n",
       "      <td>\"AL\"</td>\n",
       "      <td>\" 34.292540\"</td>\n",
       "      <td>\" -86.63505\"</td>\n",
       "      <td>\"Baileyton\"</td>\n",
       "      <td>\"Alabama\"</td>\n",
       "    </tr>\n",
       "    <tr>\n",
       "      <th>8</th>\n",
       "      <td>35020</td>\n",
       "      <td>\"AL\"</td>\n",
       "      <td>\" 33.405559\"</td>\n",
       "      <td>\" -86.95141\"</td>\n",
       "      <td>\"Bessemer\"</td>\n",
       "      <td>\"Alabama\"</td>\n",
       "    </tr>\n",
       "    <tr>\n",
       "      <th>9</th>\n",
       "      <td>35022</td>\n",
       "      <td>\"AL\"</td>\n",
       "      <td>\" 33.346817\"</td>\n",
       "      <td>\" -86.95252\"</td>\n",
       "      <td>\"Bessemer\"</td>\n",
       "      <td>\"Alabama\"</td>\n",
       "    </tr>\n",
       "    <tr>\n",
       "      <th>10</th>\n",
       "      <td>35023</td>\n",
       "      <td>\"AL\"</td>\n",
       "      <td>\" 33.443039\"</td>\n",
       "      <td>\" -87.01930\"</td>\n",
       "      <td>\"Bessemer\"</td>\n",
       "      <td>\"Alabama\"</td>\n",
       "    </tr>\n",
       "    <tr>\n",
       "      <th>11</th>\n",
       "      <td>35031</td>\n",
       "      <td>\"AL\"</td>\n",
       "      <td>\" 34.111425\"</td>\n",
       "      <td>\" -86.53380\"</td>\n",
       "      <td>\"Blountsville\"</td>\n",
       "      <td>\"Alabama\"</td>\n",
       "    </tr>\n",
       "    <tr>\n",
       "      <th>12</th>\n",
       "      <td>35033</td>\n",
       "      <td>\"AL\"</td>\n",
       "      <td>\" 33.952939\"</td>\n",
       "      <td>\" -87.02889\"</td>\n",
       "      <td>\"Bremen\"</td>\n",
       "      <td>\"Alabama\"</td>\n",
       "    </tr>\n",
       "    <tr>\n",
       "      <th>13</th>\n",
       "      <td>35034</td>\n",
       "      <td>\"AL\"</td>\n",
       "      <td>\" 32.915182\"</td>\n",
       "      <td>\" -87.21488\"</td>\n",
       "      <td>\"Brent\"</td>\n",
       "      <td>\"Alabama\"</td>\n",
       "    </tr>\n",
       "    <tr>\n",
       "      <th>14</th>\n",
       "      <td>35035</td>\n",
       "      <td>\"AL\"</td>\n",
       "      <td>\" 33.041166\"</td>\n",
       "      <td>\" -86.95117\"</td>\n",
       "      <td>\"Brierfield\"</td>\n",
       "      <td>\"Alabama\"</td>\n",
       "    </tr>\n",
       "    <tr>\n",
       "      <th>15</th>\n",
       "      <td>35036</td>\n",
       "      <td>\"AL\"</td>\n",
       "      <td>\" 33.638150\"</td>\n",
       "      <td>\" -86.91956\"</td>\n",
       "      <td>\"Brookside\"</td>\n",
       "      <td>\"Alabama\"</td>\n",
       "    </tr>\n",
       "    <tr>\n",
       "      <th>16</th>\n",
       "      <td>35040</td>\n",
       "      <td>\"AL\"</td>\n",
       "      <td>\" 33.107572\"</td>\n",
       "      <td>\" -86.74996\"</td>\n",
       "      <td>\"Calera\"</td>\n",
       "      <td>\"Alabama\"</td>\n",
       "    </tr>\n",
       "    <tr>\n",
       "      <th>17</th>\n",
       "      <td>35042</td>\n",
       "      <td>\"AL\"</td>\n",
       "      <td>\" 32.963486\"</td>\n",
       "      <td>\" -87.13867\"</td>\n",
       "      <td>\"Centreville\"</td>\n",
       "      <td>\"Alabama\"</td>\n",
       "    </tr>\n",
       "    <tr>\n",
       "      <th>18</th>\n",
       "      <td>35043</td>\n",
       "      <td>\"AL\"</td>\n",
       "      <td>\" 33.317093\"</td>\n",
       "      <td>\" -86.66295\"</td>\n",
       "      <td>\"Chelsea\"</td>\n",
       "      <td>\"Alabama\"</td>\n",
       "    </tr>\n",
       "    <tr>\n",
       "      <th>19</th>\n",
       "      <td>35044</td>\n",
       "      <td>\"AL\"</td>\n",
       "      <td>\" 33.268471\"</td>\n",
       "      <td>\" -86.35582\"</td>\n",
       "      <td>\"Childersburg\"</td>\n",
       "      <td>\"Alabama\"</td>\n",
       "    </tr>\n",
       "    <tr>\n",
       "      <th>20</th>\n",
       "      <td>35045</td>\n",
       "      <td>\"AL\"</td>\n",
       "      <td>\" 32.834501\"</td>\n",
       "      <td>\" -86.64355\"</td>\n",
       "      <td>\"Clanton\"</td>\n",
       "      <td>\"Alabama\"</td>\n",
       "    </tr>\n",
       "    <tr>\n",
       "      <th>21</th>\n",
       "      <td>35046</td>\n",
       "      <td>\"AL\"</td>\n",
       "      <td>\" 32.894351\"</td>\n",
       "      <td>\" -86.56504\"</td>\n",
       "      <td>\"Clanton\"</td>\n",
       "      <td>\"Alabama\"</td>\n",
       "    </tr>\n",
       "    <tr>\n",
       "      <th>22</th>\n",
       "      <td>35049</td>\n",
       "      <td>\"AL\"</td>\n",
       "      <td>\" 33.963435\"</td>\n",
       "      <td>\" -86.59540\"</td>\n",
       "      <td>\"Cleveland\"</td>\n",
       "      <td>\"Alabama\"</td>\n",
       "    </tr>\n",
       "    <tr>\n",
       "      <th>23</th>\n",
       "      <td>35051</td>\n",
       "      <td>\"AL\"</td>\n",
       "      <td>\" 33.201789\"</td>\n",
       "      <td>\" -86.61584\"</td>\n",
       "      <td>\"Columbiana\"</td>\n",
       "      <td>\"Alabama\"</td>\n",
       "    </tr>\n",
       "    <tr>\n",
       "      <th>24</th>\n",
       "      <td>35052</td>\n",
       "      <td>\"AL\"</td>\n",
       "      <td>\" 33.593115\"</td>\n",
       "      <td>\" -86.40840\"</td>\n",
       "      <td>\"Cook Springs\"</td>\n",
       "      <td>\"Alabama\"</td>\n",
       "    </tr>\n",
       "    <tr>\n",
       "      <th>25</th>\n",
       "      <td>35053</td>\n",
       "      <td>\"AL\"</td>\n",
       "      <td>\" 34.041061\"</td>\n",
       "      <td>\" -87.06771\"</td>\n",
       "      <td>\"Crane Hill\"</td>\n",
       "      <td>\"Alabama\"</td>\n",
       "    </tr>\n",
       "    <tr>\n",
       "      <th>26</th>\n",
       "      <td>35054</td>\n",
       "      <td>\"AL\"</td>\n",
       "      <td>\" 33.506012\"</td>\n",
       "      <td>\" -86.31547\"</td>\n",
       "      <td>\"Cropwell\"</td>\n",
       "      <td>\"Alabama\"</td>\n",
       "    </tr>\n",
       "    <tr>\n",
       "      <th>27</th>\n",
       "      <td>35055</td>\n",
       "      <td>\"AL\"</td>\n",
       "      <td>\" 34.167893\"</td>\n",
       "      <td>\" -86.82506\"</td>\n",
       "      <td>\"Cullman\"</td>\n",
       "      <td>\"Alabama\"</td>\n",
       "    </tr>\n",
       "    <tr>\n",
       "      <th>28</th>\n",
       "      <td>35057</td>\n",
       "      <td>\"AL\"</td>\n",
       "      <td>\" 34.139198\"</td>\n",
       "      <td>\" -86.92449\"</td>\n",
       "      <td>\"Cullman\"</td>\n",
       "      <td>\"Alabama\"</td>\n",
       "    </tr>\n",
       "    <tr>\n",
       "      <th>29</th>\n",
       "      <td>35058</td>\n",
       "      <td>\"AL\"</td>\n",
       "      <td>\" 34.223732\"</td>\n",
       "      <td>\" -86.75620\"</td>\n",
       "      <td>\"Cullman\"</td>\n",
       "      <td>\"Alabama\"</td>\n",
       "    </tr>\n",
       "    <tr>\n",
       "      <th>...</th>\n",
       "      <td>...</td>\n",
       "      <td>...</td>\n",
       "      <td>...</td>\n",
       "      <td>...</td>\n",
       "      <td>...</td>\n",
       "      <td>...</td>\n",
       "    </tr>\n",
       "    <tr>\n",
       "      <th>33148</th>\n",
       "      <td>00917</td>\n",
       "      <td>\"PR\"</td>\n",
       "      <td>\" 18.422263\"</td>\n",
       "      <td>\" -66.05130\"</td>\n",
       "      <td>\"San Juan\"</td>\n",
       "      <td>\"Puerto Rico\"</td>\n",
       "    </tr>\n",
       "    <tr>\n",
       "      <th>33149</th>\n",
       "      <td>00918</td>\n",
       "      <td>\"PR\"</td>\n",
       "      <td>\" 18.417668\"</td>\n",
       "      <td>\" -66.06494\"</td>\n",
       "      <td>\"San Juan\"</td>\n",
       "      <td>\"Puerto Rico\"</td>\n",
       "    </tr>\n",
       "    <tr>\n",
       "      <th>33150</th>\n",
       "      <td>00920</td>\n",
       "      <td>\"PR\"</td>\n",
       "      <td>\" 18.412420\"</td>\n",
       "      <td>\" -66.09069\"</td>\n",
       "      <td>\"San Juan\"</td>\n",
       "      <td>\"Puerto Rico\"</td>\n",
       "    </tr>\n",
       "    <tr>\n",
       "      <th>33151</th>\n",
       "      <td>00921</td>\n",
       "      <td>\"PR\"</td>\n",
       "      <td>\" 18.394019\"</td>\n",
       "      <td>\" -66.08633\"</td>\n",
       "      <td>\"San Juan\"</td>\n",
       "      <td>\"Puerto Rico\"</td>\n",
       "    </tr>\n",
       "    <tr>\n",
       "      <th>33152</th>\n",
       "      <td>00923</td>\n",
       "      <td>\"PR\"</td>\n",
       "      <td>\" 18.410681\"</td>\n",
       "      <td>\" -66.03806\"</td>\n",
       "      <td>\"San Juan\"</td>\n",
       "      <td>\"Puerto Rico\"</td>\n",
       "    </tr>\n",
       "    <tr>\n",
       "      <th>33153</th>\n",
       "      <td>00924</td>\n",
       "      <td>\"PR\"</td>\n",
       "      <td>\" 18.401917\"</td>\n",
       "      <td>\" -66.01194\"</td>\n",
       "      <td>\"San Juan\"</td>\n",
       "      <td>\"Puerto Rico\"</td>\n",
       "    </tr>\n",
       "    <tr>\n",
       "      <th>33154</th>\n",
       "      <td>00925</td>\n",
       "      <td>\"PR\"</td>\n",
       "      <td>\" 18.400006\"</td>\n",
       "      <td>\" -66.05028\"</td>\n",
       "      <td>\"San Juan\"</td>\n",
       "      <td>\"Puerto Rico\"</td>\n",
       "    </tr>\n",
       "    <tr>\n",
       "      <th>33155</th>\n",
       "      <td>00926</td>\n",
       "      <td>\"PR\"</td>\n",
       "      <td>\" 18.361363\"</td>\n",
       "      <td>\" -66.05620\"</td>\n",
       "      <td>\"San Juan\"</td>\n",
       "      <td>\"Puerto Rico\"</td>\n",
       "    </tr>\n",
       "    <tr>\n",
       "      <th>33156</th>\n",
       "      <td>00927</td>\n",
       "      <td>\"PR\"</td>\n",
       "      <td>\" 18.391840\"</td>\n",
       "      <td>\" -66.06867\"</td>\n",
       "      <td>\"San Juan\"</td>\n",
       "      <td>\"Puerto Rico\"</td>\n",
       "    </tr>\n",
       "    <tr>\n",
       "      <th>33157</th>\n",
       "      <td>00934</td>\n",
       "      <td>\"PR\"</td>\n",
       "      <td>\" 18.413511\"</td>\n",
       "      <td>\" -66.12198\"</td>\n",
       "      <td>\"Fort Buchanan\"</td>\n",
       "      <td>\"Puerto Rico\"</td>\n",
       "    </tr>\n",
       "    <tr>\n",
       "      <th>33158</th>\n",
       "      <td>00949</td>\n",
       "      <td>\"PR\"</td>\n",
       "      <td>\" 18.433173\"</td>\n",
       "      <td>\" -66.20420\"</td>\n",
       "      <td>\"Toa Baja\"</td>\n",
       "      <td>\"Puerto Rico\"</td>\n",
       "    </tr>\n",
       "    <tr>\n",
       "      <th>33159</th>\n",
       "      <td>00952</td>\n",
       "      <td>\"PR\"</td>\n",
       "      <td>\" 18.429218\"</td>\n",
       "      <td>\" -66.18014\"</td>\n",
       "      <td>\"Sabana Seca\"</td>\n",
       "      <td>\"Puerto Rico\"</td>\n",
       "    </tr>\n",
       "    <tr>\n",
       "      <th>33160</th>\n",
       "      <td>00953</td>\n",
       "      <td>\"PR\"</td>\n",
       "      <td>\" 18.368020\"</td>\n",
       "      <td>\" -66.23414\"</td>\n",
       "      <td>\"Toa Alta\"</td>\n",
       "      <td>\"Puerto Rico\"</td>\n",
       "    </tr>\n",
       "    <tr>\n",
       "      <th>33161</th>\n",
       "      <td>00956</td>\n",
       "      <td>\"PR\"</td>\n",
       "      <td>\" 18.342160\"</td>\n",
       "      <td>\" -66.16643\"</td>\n",
       "      <td>\"Bayamon\"</td>\n",
       "      <td>\"Puerto Rico\"</td>\n",
       "    </tr>\n",
       "    <tr>\n",
       "      <th>33162</th>\n",
       "      <td>00957</td>\n",
       "      <td>\"PR\"</td>\n",
       "      <td>\" 18.369674\"</td>\n",
       "      <td>\" -66.18669\"</td>\n",
       "      <td>\"Bayamon\"</td>\n",
       "      <td>\"Puerto Rico\"</td>\n",
       "    </tr>\n",
       "    <tr>\n",
       "      <th>33163</th>\n",
       "      <td>00959</td>\n",
       "      <td>\"PR\"</td>\n",
       "      <td>\" 18.387063\"</td>\n",
       "      <td>\" -66.15943\"</td>\n",
       "      <td>\"Bayamon\"</td>\n",
       "      <td>\"Puerto Rico\"</td>\n",
       "    </tr>\n",
       "    <tr>\n",
       "      <th>33164</th>\n",
       "      <td>00961</td>\n",
       "      <td>\"PR\"</td>\n",
       "      <td>\" 18.412462\"</td>\n",
       "      <td>\" -66.16033\"</td>\n",
       "      <td>\"Bayamon\"</td>\n",
       "      <td>\"Puerto Rico\"</td>\n",
       "    </tr>\n",
       "    <tr>\n",
       "      <th>33165</th>\n",
       "      <td>00962</td>\n",
       "      <td>\"PR\"</td>\n",
       "      <td>\" 18.437683\"</td>\n",
       "      <td>\" -66.13847\"</td>\n",
       "      <td>\"Catano\"</td>\n",
       "      <td>\"Puerto Rico\"</td>\n",
       "    </tr>\n",
       "    <tr>\n",
       "      <th>33166</th>\n",
       "      <td>00965</td>\n",
       "      <td>\"PR\"</td>\n",
       "      <td>\" 18.431453\"</td>\n",
       "      <td>\" -66.11703\"</td>\n",
       "      <td>\"Guaynabo\"</td>\n",
       "      <td>\"Puerto Rico\"</td>\n",
       "    </tr>\n",
       "    <tr>\n",
       "      <th>33167</th>\n",
       "      <td>00966</td>\n",
       "      <td>\"PR\"</td>\n",
       "      <td>\" 18.398507\"</td>\n",
       "      <td>\" -66.11522\"</td>\n",
       "      <td>\"Guaynabo\"</td>\n",
       "      <td>\"Puerto Rico\"</td>\n",
       "    </tr>\n",
       "    <tr>\n",
       "      <th>33168</th>\n",
       "      <td>00968</td>\n",
       "      <td>\"PR\"</td>\n",
       "      <td>\" 18.408479\"</td>\n",
       "      <td>\" -66.10250\"</td>\n",
       "      <td>\"Guaynabo\"</td>\n",
       "      <td>\"Puerto Rico\"</td>\n",
       "    </tr>\n",
       "    <tr>\n",
       "      <th>33169</th>\n",
       "      <td>00969</td>\n",
       "      <td>\"PR\"</td>\n",
       "      <td>\" 18.366981\"</td>\n",
       "      <td>\" -66.10889\"</td>\n",
       "      <td>\"Guaynabo\"</td>\n",
       "      <td>\"Puerto Rico\"</td>\n",
       "    </tr>\n",
       "    <tr>\n",
       "      <th>33170</th>\n",
       "      <td>00971</td>\n",
       "      <td>\"PR\"</td>\n",
       "      <td>\" 18.329688\"</td>\n",
       "      <td>\" -66.11876\"</td>\n",
       "      <td>\"Guaynabo\"</td>\n",
       "      <td>\"Puerto Rico\"</td>\n",
       "    </tr>\n",
       "    <tr>\n",
       "      <th>33171</th>\n",
       "      <td>00976</td>\n",
       "      <td>\"PR\"</td>\n",
       "      <td>\" 18.346767\"</td>\n",
       "      <td>\" -66.00561\"</td>\n",
       "      <td>\"Trujillo Alto\"</td>\n",
       "      <td>\"Puerto Rico\"</td>\n",
       "    </tr>\n",
       "    <tr>\n",
       "      <th>33172</th>\n",
       "      <td>00979</td>\n",
       "      <td>\"PR\"</td>\n",
       "      <td>\" 18.431885\"</td>\n",
       "      <td>\" -66.01270\"</td>\n",
       "      <td>\"Carolina\"</td>\n",
       "      <td>\"Puerto Rico\"</td>\n",
       "    </tr>\n",
       "    <tr>\n",
       "      <th>33173</th>\n",
       "      <td>00982</td>\n",
       "      <td>\"PR\"</td>\n",
       "      <td>\" 18.409345\"</td>\n",
       "      <td>\" -65.99313\"</td>\n",
       "      <td>\"Carolina\"</td>\n",
       "      <td>\"Puerto Rico\"</td>\n",
       "    </tr>\n",
       "    <tr>\n",
       "      <th>33174</th>\n",
       "      <td>00983</td>\n",
       "      <td>\"PR\"</td>\n",
       "      <td>\" 18.414408\"</td>\n",
       "      <td>\" -65.97582\"</td>\n",
       "      <td>\"Carolina\"</td>\n",
       "      <td>\"Puerto Rico\"</td>\n",
       "    </tr>\n",
       "    <tr>\n",
       "      <th>33175</th>\n",
       "      <td>00985</td>\n",
       "      <td>\"PR\"</td>\n",
       "      <td>\" 18.374896\"</td>\n",
       "      <td>\" -65.94691\"</td>\n",
       "      <td>\"Carolina\"</td>\n",
       "      <td>\"Puerto Rico\"</td>\n",
       "    </tr>\n",
       "    <tr>\n",
       "      <th>33176</th>\n",
       "      <td>00987</td>\n",
       "      <td>\"PR\"</td>\n",
       "      <td>\" 18.372228\"</td>\n",
       "      <td>\" -65.96275\"</td>\n",
       "      <td>\"Carolina\"</td>\n",
       "      <td>\"Puerto Rico\"</td>\n",
       "    </tr>\n",
       "    <tr>\n",
       "      <th>33177</th>\n",
       "      <td>009HH</td>\n",
       "      <td>\"PR\"</td>\n",
       "      <td>\" 18.435287\"</td>\n",
       "      <td>\" -66.06653\"</td>\n",
       "      <td>\"\"</td>\n",
       "      <td>\"Puerto Rico\"</td>\n",
       "    </tr>\n",
       "  </tbody>\n",
       "</table>\n",
       "<p>33178 rows × 6 columns</p>\n",
       "</div>"
      ]
     },
     "execution_count": 3,
     "metadata": {
     },
     "output_type": "execute_result"
    }
   ],
   "source": [
    "df1 = pd.read_csv('zips.csv')\n",
    "df1"
   ]
  },
  {
   "cell_type": "markdown",
   "metadata": {
    "collapsed": false
   },
   "source": [
    "1b. Import the Excel file \"state_capitals.xlsx\" (sourced from Wikipedia, found in this directory) into a DataFrame."
   ]
  },
  {
   "cell_type": "code",
   "execution_count": 4,
   "metadata": {
    "collapsed": false
   },
   "outputs": [
    {
     "data": {
      "text/html": [
       "<div>\n",
       "<style scoped>\n",
       "    .dataframe tbody tr th:only-of-type {\n",
       "        vertical-align: middle;\n",
       "    }\n",
       "\n",
       "    .dataframe tbody tr th {\n",
       "        vertical-align: top;\n",
       "    }\n",
       "\n",
       "    .dataframe thead th {\n",
       "        text-align: right;\n",
       "    }\n",
       "</style>\n",
       "<table border=\"1\" class=\"dataframe\">\n",
       "  <thead>\n",
       "    <tr style=\"text-align: right;\">\n",
       "      <th></th>\n",
       "      <th>SNo</th>\n",
       "      <th>State</th>\n",
       "      <th>Abr.</th>\n",
       "      <th>Date of statehood</th>\n",
       "      <th>Capital</th>\n",
       "      <th>Capital since</th>\n",
       "      <th>Land area (mi²)</th>\n",
       "      <th>Most populous city?</th>\n",
       "      <th>Municipal population</th>\n",
       "      <th>Metropolitan population</th>\n",
       "      <th>Notes</th>\n",
       "    </tr>\n",
       "  </thead>\n",
       "  <tbody>\n",
       "    <tr>\n",
       "      <th>0</th>\n",
       "      <td>1</td>\n",
       "      <td>Alabama</td>\n",
       "      <td>AL</td>\n",
       "      <td>1819</td>\n",
       "      <td>Montgomery</td>\n",
       "      <td>1846</td>\n",
       "      <td>155.40</td>\n",
       "      <td>No</td>\n",
       "      <td>205764</td>\n",
       "      <td>374536.0</td>\n",
       "      <td>Birmingham is the state's largest city</td>\n",
       "    </tr>\n",
       "    <tr>\n",
       "      <th>1</th>\n",
       "      <td>2</td>\n",
       "      <td>Alaska</td>\n",
       "      <td>AK</td>\n",
       "      <td>1959</td>\n",
       "      <td>Juneau</td>\n",
       "      <td>1906</td>\n",
       "      <td>2716.70</td>\n",
       "      <td>No</td>\n",
       "      <td>31275</td>\n",
       "      <td>NaN</td>\n",
       "      <td>Juneau is the largest capital by land area. An...</td>\n",
       "    </tr>\n",
       "    <tr>\n",
       "      <th>2</th>\n",
       "      <td>3</td>\n",
       "      <td>Arizona</td>\n",
       "      <td>AZ</td>\n",
       "      <td>1912</td>\n",
       "      <td>Phoenix</td>\n",
       "      <td>1889</td>\n",
       "      <td>474.90</td>\n",
       "      <td>Yes</td>\n",
       "      <td>1445632</td>\n",
       "      <td>4192887.0</td>\n",
       "      <td>Phoenix is the most populous U.S. state capita...</td>\n",
       "    </tr>\n",
       "    <tr>\n",
       "      <th>3</th>\n",
       "      <td>4</td>\n",
       "      <td>Arkansas</td>\n",
       "      <td>AR</td>\n",
       "      <td>1836</td>\n",
       "      <td>Little Rock</td>\n",
       "      <td>1821</td>\n",
       "      <td>116.20</td>\n",
       "      <td>Yes</td>\n",
       "      <td>193524</td>\n",
       "      <td>877091.0</td>\n",
       "      <td>NaN</td>\n",
       "    </tr>\n",
       "    <tr>\n",
       "      <th>4</th>\n",
       "      <td>5</td>\n",
       "      <td>California</td>\n",
       "      <td>CA</td>\n",
       "      <td>1850</td>\n",
       "      <td>Sacramento</td>\n",
       "      <td>1854</td>\n",
       "      <td>97.20</td>\n",
       "      <td>No</td>\n",
       "      <td>466488</td>\n",
       "      <td>2527123.0</td>\n",
       "      <td>The Supreme Court of California is headquarter...</td>\n",
       "    </tr>\n",
       "    <tr>\n",
       "      <th>5</th>\n",
       "      <td>6</td>\n",
       "      <td>Colorado</td>\n",
       "      <td>CO</td>\n",
       "      <td>1876</td>\n",
       "      <td>Denver</td>\n",
       "      <td>1867</td>\n",
       "      <td>153.40</td>\n",
       "      <td>Yes</td>\n",
       "      <td>600158</td>\n",
       "      <td>2552195.0</td>\n",
       "      <td>Denver was called Denver City until 1882.</td>\n",
       "    </tr>\n",
       "    <tr>\n",
       "      <th>6</th>\n",
       "      <td>7</td>\n",
       "      <td>Connecticut</td>\n",
       "      <td>CT</td>\n",
       "      <td>1788</td>\n",
       "      <td>Hartford</td>\n",
       "      <td>1875</td>\n",
       "      <td>17.30</td>\n",
       "      <td>No</td>\n",
       "      <td>124512</td>\n",
       "      <td>1212381.0</td>\n",
       "      <td>Bridgeport is the state's largest city, but Ha...</td>\n",
       "    </tr>\n",
       "    <tr>\n",
       "      <th>7</th>\n",
       "      <td>8</td>\n",
       "      <td>Delaware</td>\n",
       "      <td>DE</td>\n",
       "      <td>1787</td>\n",
       "      <td>Dover</td>\n",
       "      <td>1777</td>\n",
       "      <td>22.40</td>\n",
       "      <td>No</td>\n",
       "      <td>36047</td>\n",
       "      <td>162310.0</td>\n",
       "      <td>Longest-serving capital in terms of statehood....</td>\n",
       "    </tr>\n",
       "    <tr>\n",
       "      <th>8</th>\n",
       "      <td>9</td>\n",
       "      <td>Florida</td>\n",
       "      <td>FL</td>\n",
       "      <td>1845</td>\n",
       "      <td>Tallahassee</td>\n",
       "      <td>1824</td>\n",
       "      <td>95.70</td>\n",
       "      <td>No</td>\n",
       "      <td>181412</td>\n",
       "      <td>367413.0</td>\n",
       "      <td>Jacksonville is the largest city, and Miami ha...</td>\n",
       "    </tr>\n",
       "    <tr>\n",
       "      <th>9</th>\n",
       "      <td>10</td>\n",
       "      <td>Georgia</td>\n",
       "      <td>GA</td>\n",
       "      <td>1788</td>\n",
       "      <td>Atlanta</td>\n",
       "      <td>1868</td>\n",
       "      <td>131.70</td>\n",
       "      <td>Yes</td>\n",
       "      <td>420003</td>\n",
       "      <td>5268860.0</td>\n",
       "      <td>Atlanta is the state capital with the most pop...</td>\n",
       "    </tr>\n",
       "    <tr>\n",
       "      <th>10</th>\n",
       "      <td>11</td>\n",
       "      <td>Hawaii</td>\n",
       "      <td>HI</td>\n",
       "      <td>1959</td>\n",
       "      <td>Honolulu</td>\n",
       "      <td>1845</td>\n",
       "      <td>85.70</td>\n",
       "      <td>Yes</td>\n",
       "      <td>337256</td>\n",
       "      <td>953207.0</td>\n",
       "      <td>NaN</td>\n",
       "    </tr>\n",
       "    <tr>\n",
       "      <th>11</th>\n",
       "      <td>12</td>\n",
       "      <td>Idaho</td>\n",
       "      <td>ID</td>\n",
       "      <td>1890</td>\n",
       "      <td>Boise</td>\n",
       "      <td>1865</td>\n",
       "      <td>63.80</td>\n",
       "      <td>Yes</td>\n",
       "      <td>205671</td>\n",
       "      <td>616561.0</td>\n",
       "      <td>NaN</td>\n",
       "    </tr>\n",
       "    <tr>\n",
       "      <th>12</th>\n",
       "      <td>13</td>\n",
       "      <td>Illinois</td>\n",
       "      <td>IL</td>\n",
       "      <td>1818</td>\n",
       "      <td>Springfield</td>\n",
       "      <td>1837</td>\n",
       "      <td>54.00</td>\n",
       "      <td>No</td>\n",
       "      <td>116250</td>\n",
       "      <td>208182.0</td>\n",
       "      <td>Chicago is the state's largest city.</td>\n",
       "    </tr>\n",
       "    <tr>\n",
       "      <th>13</th>\n",
       "      <td>14</td>\n",
       "      <td>Indiana</td>\n",
       "      <td>IN</td>\n",
       "      <td>1816</td>\n",
       "      <td>Indianapolis</td>\n",
       "      <td>1825</td>\n",
       "      <td>361.50</td>\n",
       "      <td>Yes</td>\n",
       "      <td>829718</td>\n",
       "      <td>1756221.0</td>\n",
       "      <td>Indianapolis is the second largest city in the...</td>\n",
       "    </tr>\n",
       "    <tr>\n",
       "      <th>14</th>\n",
       "      <td>15</td>\n",
       "      <td>Iowa</td>\n",
       "      <td>IA</td>\n",
       "      <td>1846</td>\n",
       "      <td>Des Moines</td>\n",
       "      <td>1857</td>\n",
       "      <td>75.80</td>\n",
       "      <td>Yes</td>\n",
       "      <td>203433</td>\n",
       "      <td>580255.0</td>\n",
       "      <td>NaN</td>\n",
       "    </tr>\n",
       "    <tr>\n",
       "      <th>15</th>\n",
       "      <td>16</td>\n",
       "      <td>Kansas</td>\n",
       "      <td>KS</td>\n",
       "      <td>1861</td>\n",
       "      <td>Topeka</td>\n",
       "      <td>1856</td>\n",
       "      <td>56.00</td>\n",
       "      <td>No</td>\n",
       "      <td>127473</td>\n",
       "      <td>230824.0</td>\n",
       "      <td>Wichita is the state's largest city.</td>\n",
       "    </tr>\n",
       "    <tr>\n",
       "      <th>16</th>\n",
       "      <td>17</td>\n",
       "      <td>Kentucky</td>\n",
       "      <td>KY</td>\n",
       "      <td>1792</td>\n",
       "      <td>Frankfort</td>\n",
       "      <td>1792</td>\n",
       "      <td>14.70</td>\n",
       "      <td>No</td>\n",
       "      <td>25527</td>\n",
       "      <td>70758.0</td>\n",
       "      <td>Louisville is the state's largest city. Frankf...</td>\n",
       "    </tr>\n",
       "    <tr>\n",
       "      <th>17</th>\n",
       "      <td>18</td>\n",
       "      <td>Louisiana</td>\n",
       "      <td>LA</td>\n",
       "      <td>1812</td>\n",
       "      <td>Baton Rouge</td>\n",
       "      <td>1880</td>\n",
       "      <td>76.80</td>\n",
       "      <td>No</td>\n",
       "      <td>229553</td>\n",
       "      <td>802484.0</td>\n",
       "      <td>New Orleans is the state's largest city and ho...</td>\n",
       "    </tr>\n",
       "    <tr>\n",
       "      <th>18</th>\n",
       "      <td>19</td>\n",
       "      <td>Maine</td>\n",
       "      <td>ME</td>\n",
       "      <td>1820</td>\n",
       "      <td>Augusta</td>\n",
       "      <td>1832</td>\n",
       "      <td>55.40</td>\n",
       "      <td>No</td>\n",
       "      <td>19136</td>\n",
       "      <td>117114.0</td>\n",
       "      <td>Augusta was officially made the capital 1827, ...</td>\n",
       "    </tr>\n",
       "    <tr>\n",
       "      <th>19</th>\n",
       "      <td>20</td>\n",
       "      <td>Maryland</td>\n",
       "      <td>MD</td>\n",
       "      <td>1788</td>\n",
       "      <td>Annapolis</td>\n",
       "      <td>1694</td>\n",
       "      <td>6.73</td>\n",
       "      <td>No</td>\n",
       "      <td>38394</td>\n",
       "      <td>NaN</td>\n",
       "      <td>Annapolis is the third-longest serving capital...</td>\n",
       "    </tr>\n",
       "    <tr>\n",
       "      <th>20</th>\n",
       "      <td>21</td>\n",
       "      <td>Massachusetts</td>\n",
       "      <td>MA</td>\n",
       "      <td>1788</td>\n",
       "      <td>Boston</td>\n",
       "      <td>1630</td>\n",
       "      <td>48.40</td>\n",
       "      <td>Yes</td>\n",
       "      <td>617594</td>\n",
       "      <td>4522858.0</td>\n",
       "      <td>Boston is the longest continuously serving cap...</td>\n",
       "    </tr>\n",
       "    <tr>\n",
       "      <th>21</th>\n",
       "      <td>22</td>\n",
       "      <td>Michigan</td>\n",
       "      <td>MI</td>\n",
       "      <td>1837</td>\n",
       "      <td>Lansing</td>\n",
       "      <td>1847</td>\n",
       "      <td>35.00</td>\n",
       "      <td>No</td>\n",
       "      <td>114297</td>\n",
       "      <td>464036.0</td>\n",
       "      <td>Lansing is the only state capital that is not ...</td>\n",
       "    </tr>\n",
       "    <tr>\n",
       "      <th>22</th>\n",
       "      <td>23</td>\n",
       "      <td>Minnesota</td>\n",
       "      <td>MN</td>\n",
       "      <td>1858</td>\n",
       "      <td>Saint Paul</td>\n",
       "      <td>1849</td>\n",
       "      <td>52.80</td>\n",
       "      <td>No</td>\n",
       "      <td>285068</td>\n",
       "      <td>3502891.0</td>\n",
       "      <td>Minneapolis is the state's largest city; it an...</td>\n",
       "    </tr>\n",
       "    <tr>\n",
       "      <th>23</th>\n",
       "      <td>24</td>\n",
       "      <td>Mississippi</td>\n",
       "      <td>MS</td>\n",
       "      <td>1817</td>\n",
       "      <td>Jackson</td>\n",
       "      <td>1821</td>\n",
       "      <td>104.90</td>\n",
       "      <td>Yes</td>\n",
       "      <td>173514</td>\n",
       "      <td>539057.0</td>\n",
       "      <td>NaN</td>\n",
       "    </tr>\n",
       "    <tr>\n",
       "      <th>24</th>\n",
       "      <td>25</td>\n",
       "      <td>Missouri</td>\n",
       "      <td>MO</td>\n",
       "      <td>1821</td>\n",
       "      <td>Jefferson City</td>\n",
       "      <td>1826</td>\n",
       "      <td>27.30</td>\n",
       "      <td>No</td>\n",
       "      <td>43079</td>\n",
       "      <td>149807.0</td>\n",
       "      <td>Kansas City is the state's largest city, and G...</td>\n",
       "    </tr>\n",
       "    <tr>\n",
       "      <th>25</th>\n",
       "      <td>26</td>\n",
       "      <td>Montana</td>\n",
       "      <td>MT</td>\n",
       "      <td>1889</td>\n",
       "      <td>Helena</td>\n",
       "      <td>1875</td>\n",
       "      <td>14.00</td>\n",
       "      <td>No</td>\n",
       "      <td>28190</td>\n",
       "      <td>74801.0</td>\n",
       "      <td>Billings is the state's largest city.</td>\n",
       "    </tr>\n",
       "    <tr>\n",
       "      <th>26</th>\n",
       "      <td>27</td>\n",
       "      <td>Nebraska</td>\n",
       "      <td>NE</td>\n",
       "      <td>1867</td>\n",
       "      <td>Lincoln</td>\n",
       "      <td>1867</td>\n",
       "      <td>74.60</td>\n",
       "      <td>No</td>\n",
       "      <td>258379</td>\n",
       "      <td>302157.0</td>\n",
       "      <td>Omaha is the state's largest city.</td>\n",
       "    </tr>\n",
       "    <tr>\n",
       "      <th>27</th>\n",
       "      <td>28</td>\n",
       "      <td>Nevada</td>\n",
       "      <td>NV</td>\n",
       "      <td>1864</td>\n",
       "      <td>Carson City</td>\n",
       "      <td>1861</td>\n",
       "      <td>143.40</td>\n",
       "      <td>No</td>\n",
       "      <td>55274</td>\n",
       "      <td>NaN</td>\n",
       "      <td>Las Vegas is the state's largest city.</td>\n",
       "    </tr>\n",
       "    <tr>\n",
       "      <th>28</th>\n",
       "      <td>29</td>\n",
       "      <td>New Hampshire</td>\n",
       "      <td>NH</td>\n",
       "      <td>1788</td>\n",
       "      <td>Concord</td>\n",
       "      <td>1808</td>\n",
       "      <td>64.30</td>\n",
       "      <td>No</td>\n",
       "      <td>42695</td>\n",
       "      <td>NaN</td>\n",
       "      <td>Manchester is the state's largest city.</td>\n",
       "    </tr>\n",
       "    <tr>\n",
       "      <th>29</th>\n",
       "      <td>30</td>\n",
       "      <td>New Jersey</td>\n",
       "      <td>NJ</td>\n",
       "      <td>1787</td>\n",
       "      <td>Trenton</td>\n",
       "      <td>1784</td>\n",
       "      <td>7.66</td>\n",
       "      <td>No</td>\n",
       "      <td>84913</td>\n",
       "      <td>366513.0</td>\n",
       "      <td>Newark is the state's largest city. Trenton se...</td>\n",
       "    </tr>\n",
       "    <tr>\n",
       "      <th>30</th>\n",
       "      <td>31</td>\n",
       "      <td>New Mexico</td>\n",
       "      <td>NM</td>\n",
       "      <td>1912</td>\n",
       "      <td>Santa Fe</td>\n",
       "      <td>1610</td>\n",
       "      <td>37.30</td>\n",
       "      <td>No</td>\n",
       "      <td>75764</td>\n",
       "      <td>183732.0</td>\n",
       "      <td>Santa Fe is the longest serving capital in the...</td>\n",
       "    </tr>\n",
       "    <tr>\n",
       "      <th>31</th>\n",
       "      <td>32</td>\n",
       "      <td>New York</td>\n",
       "      <td>NY</td>\n",
       "      <td>1788</td>\n",
       "      <td>Albany</td>\n",
       "      <td>1797</td>\n",
       "      <td>21.40</td>\n",
       "      <td>No</td>\n",
       "      <td>97856</td>\n",
       "      <td>857592.0</td>\n",
       "      <td>New York City is the state's largest city.</td>\n",
       "    </tr>\n",
       "    <tr>\n",
       "      <th>32</th>\n",
       "      <td>33</td>\n",
       "      <td>North Carolina</td>\n",
       "      <td>NC</td>\n",
       "      <td>1789</td>\n",
       "      <td>Raleigh</td>\n",
       "      <td>1792</td>\n",
       "      <td>114.60</td>\n",
       "      <td>No</td>\n",
       "      <td>403892</td>\n",
       "      <td>1130490.0</td>\n",
       "      <td>Charlotte is the state's largest city.</td>\n",
       "    </tr>\n",
       "    <tr>\n",
       "      <th>33</th>\n",
       "      <td>34</td>\n",
       "      <td>North Dakota</td>\n",
       "      <td>ND</td>\n",
       "      <td>1889</td>\n",
       "      <td>Bismarck</td>\n",
       "      <td>1883</td>\n",
       "      <td>26.90</td>\n",
       "      <td>No</td>\n",
       "      <td>61272</td>\n",
       "      <td>108779.0</td>\n",
       "      <td>Fargo is the state's largest city.</td>\n",
       "    </tr>\n",
       "    <tr>\n",
       "      <th>34</th>\n",
       "      <td>35</td>\n",
       "      <td>Ohio</td>\n",
       "      <td>OH</td>\n",
       "      <td>1803</td>\n",
       "      <td>Columbus</td>\n",
       "      <td>1816</td>\n",
       "      <td>210.30</td>\n",
       "      <td>Yes</td>\n",
       "      <td>787033</td>\n",
       "      <td>1836536.0</td>\n",
       "      <td>Columbus is Ohio's largest city, and the fourt...</td>\n",
       "    </tr>\n",
       "    <tr>\n",
       "      <th>35</th>\n",
       "      <td>36</td>\n",
       "      <td>Oklahoma</td>\n",
       "      <td>OK</td>\n",
       "      <td>1907</td>\n",
       "      <td>Oklahoma City</td>\n",
       "      <td>1910</td>\n",
       "      <td>607.00</td>\n",
       "      <td>Yes</td>\n",
       "      <td>580000</td>\n",
       "      <td>1252987.0</td>\n",
       "      <td>Oklahoma City is the shortest serving current ...</td>\n",
       "    </tr>\n",
       "    <tr>\n",
       "      <th>36</th>\n",
       "      <td>37</td>\n",
       "      <td>Oregon</td>\n",
       "      <td>OR</td>\n",
       "      <td>1859</td>\n",
       "      <td>Salem</td>\n",
       "      <td>1855</td>\n",
       "      <td>45.70</td>\n",
       "      <td>No</td>\n",
       "      <td>154637</td>\n",
       "      <td>390738.0</td>\n",
       "      <td>Portland is the state's largest city.</td>\n",
       "    </tr>\n",
       "    <tr>\n",
       "      <th>37</th>\n",
       "      <td>38</td>\n",
       "      <td>Pennsylvania</td>\n",
       "      <td>PA</td>\n",
       "      <td>1787</td>\n",
       "      <td>Harrisburg</td>\n",
       "      <td>1812</td>\n",
       "      <td>8.11</td>\n",
       "      <td>No</td>\n",
       "      <td>49528</td>\n",
       "      <td>647390.0</td>\n",
       "      <td>Philadelphia is the state's largest city.</td>\n",
       "    </tr>\n",
       "    <tr>\n",
       "      <th>38</th>\n",
       "      <td>39</td>\n",
       "      <td>Rhode Island</td>\n",
       "      <td>RI</td>\n",
       "      <td>1790</td>\n",
       "      <td>Providence</td>\n",
       "      <td>1900</td>\n",
       "      <td>18.50</td>\n",
       "      <td>Yes</td>\n",
       "      <td>178042</td>\n",
       "      <td>1630956.0</td>\n",
       "      <td>Providence also served as the capital 1636–168...</td>\n",
       "    </tr>\n",
       "    <tr>\n",
       "      <th>39</th>\n",
       "      <td>40</td>\n",
       "      <td>South Carolina</td>\n",
       "      <td>SC</td>\n",
       "      <td>1788</td>\n",
       "      <td>Columbia</td>\n",
       "      <td>1786</td>\n",
       "      <td>125.20</td>\n",
       "      <td>Yes</td>\n",
       "      <td>131686</td>\n",
       "      <td>913797.0</td>\n",
       "      <td>Columbia is the largest city in South Carolina...</td>\n",
       "    </tr>\n",
       "    <tr>\n",
       "      <th>40</th>\n",
       "      <td>41</td>\n",
       "      <td>South Dakota</td>\n",
       "      <td>SD</td>\n",
       "      <td>1889</td>\n",
       "      <td>Pierre</td>\n",
       "      <td>1889</td>\n",
       "      <td>13.00</td>\n",
       "      <td>No</td>\n",
       "      <td>13646</td>\n",
       "      <td>NaN</td>\n",
       "      <td>Sioux Falls is the state's largest city.</td>\n",
       "    </tr>\n",
       "    <tr>\n",
       "      <th>41</th>\n",
       "      <td>42</td>\n",
       "      <td>Tennessee</td>\n",
       "      <td>TN</td>\n",
       "      <td>1796</td>\n",
       "      <td>Nashville</td>\n",
       "      <td>1826</td>\n",
       "      <td>473.30</td>\n",
       "      <td>No</td>\n",
       "      <td>635710</td>\n",
       "      <td>1582264.0</td>\n",
       "      <td>Memphis is the state's largest city, and Nashv...</td>\n",
       "    </tr>\n",
       "    <tr>\n",
       "      <th>42</th>\n",
       "      <td>43</td>\n",
       "      <td>Texas</td>\n",
       "      <td>TX</td>\n",
       "      <td>1845</td>\n",
       "      <td>Austin</td>\n",
       "      <td>1839</td>\n",
       "      <td>251.50</td>\n",
       "      <td>No</td>\n",
       "      <td>842592</td>\n",
       "      <td>1716291.0</td>\n",
       "      <td>Houston is the state's largest city and the pr...</td>\n",
       "    </tr>\n",
       "    <tr>\n",
       "      <th>43</th>\n",
       "      <td>44</td>\n",
       "      <td>Utah</td>\n",
       "      <td>UT</td>\n",
       "      <td>1896</td>\n",
       "      <td>Salt Lake City</td>\n",
       "      <td>1858</td>\n",
       "      <td>109.10</td>\n",
       "      <td>Yes</td>\n",
       "      <td>186440</td>\n",
       "      <td>1124197.0</td>\n",
       "      <td>NaN</td>\n",
       "    </tr>\n",
       "    <tr>\n",
       "      <th>44</th>\n",
       "      <td>45</td>\n",
       "      <td>Vermont</td>\n",
       "      <td>VT</td>\n",
       "      <td>1791</td>\n",
       "      <td>Montpelier</td>\n",
       "      <td>1805</td>\n",
       "      <td>10.20</td>\n",
       "      <td>No</td>\n",
       "      <td>7855</td>\n",
       "      <td>NaN</td>\n",
       "      <td>Montpelier is the least populous U.S. state ca...</td>\n",
       "    </tr>\n",
       "    <tr>\n",
       "      <th>45</th>\n",
       "      <td>46</td>\n",
       "      <td>Virginia</td>\n",
       "      <td>VA</td>\n",
       "      <td>1788</td>\n",
       "      <td>Richmond</td>\n",
       "      <td>1780</td>\n",
       "      <td>60.10</td>\n",
       "      <td>No</td>\n",
       "      <td>204214</td>\n",
       "      <td>1231675.0</td>\n",
       "      <td>Virginia Beach is the state's largest city, an...</td>\n",
       "    </tr>\n",
       "    <tr>\n",
       "      <th>46</th>\n",
       "      <td>47</td>\n",
       "      <td>Washington</td>\n",
       "      <td>WA</td>\n",
       "      <td>1889</td>\n",
       "      <td>Olympia</td>\n",
       "      <td>1853</td>\n",
       "      <td>16.70</td>\n",
       "      <td>No</td>\n",
       "      <td>46478</td>\n",
       "      <td>234670.0</td>\n",
       "      <td>Seattle is the state's largest city.</td>\n",
       "    </tr>\n",
       "    <tr>\n",
       "      <th>47</th>\n",
       "      <td>48</td>\n",
       "      <td>West Virginia</td>\n",
       "      <td>WV</td>\n",
       "      <td>1863</td>\n",
       "      <td>Charleston</td>\n",
       "      <td>1885</td>\n",
       "      <td>31.60</td>\n",
       "      <td>Yes</td>\n",
       "      <td>51400</td>\n",
       "      <td>304214.0</td>\n",
       "      <td>NaN</td>\n",
       "    </tr>\n",
       "    <tr>\n",
       "      <th>48</th>\n",
       "      <td>49</td>\n",
       "      <td>Wisconsin</td>\n",
       "      <td>WI</td>\n",
       "      <td>1848</td>\n",
       "      <td>Madison</td>\n",
       "      <td>1838</td>\n",
       "      <td>68.70</td>\n",
       "      <td>No</td>\n",
       "      <td>233209</td>\n",
       "      <td>561505.0</td>\n",
       "      <td>Milwaukee is the state's largest city.</td>\n",
       "    </tr>\n",
       "    <tr>\n",
       "      <th>49</th>\n",
       "      <td>50</td>\n",
       "      <td>Wyoming</td>\n",
       "      <td>WY</td>\n",
       "      <td>1890</td>\n",
       "      <td>Cheyenne</td>\n",
       "      <td>1869</td>\n",
       "      <td>21.10</td>\n",
       "      <td>Yes</td>\n",
       "      <td>59466</td>\n",
       "      <td>91738.0</td>\n",
       "      <td>NaN</td>\n",
       "    </tr>\n",
       "  </tbody>\n",
       "</table>\n",
       "</div>"
      ]
     },
     "execution_count": 4,
     "metadata": {
     },
     "output_type": "execute_result"
    }
   ],
   "source": [
    "df2 = pd.read_excel('state_capitals.xlsx',skiprows=1,skip_footer=4,na_values=['NA'])\n",
    "df2"
   ]
  },
  {
   "cell_type": "markdown",
   "metadata": {
    "collapsed": false
   },
   "source": [
    "1c. Construct a new DataFrame in which each row consists of:\n",
    "- the name of a state;\n",
    "- the two-letter postal abbrevation of the state;\n",
    "- the name of the capital city;\n",
    "- a list of the zip codes associated to that city;\n",
    "- the latitude and longitude associated to the first zip code in the list."
   ]
  },
  {
   "cell_type": "code",
   "execution_count": 5,
   "metadata": {
    "collapsed": false
   },
   "outputs": [
   ],
   "source": [
    "#initializing the column vectors\n",
    "nrows1 = len(df1)\n",
    "nrows2 = len(df2)\n",
    "State = np.array(np.repeat('placeholder',nrows2),dtype='|S20')\n",
    "Abr = np.repeat('placeholder',nrows2)\n",
    "Capital = np.array(np.repeat('placeholder',nrows2),dtype='|S20')\n",
    "zips_final = []\n",
    "Lat = np.array(np.repeat('placeholder',nrows2),dtype='|S20')\n",
    "Long = np.array(np.repeat('placeholder',nrows2),dtype='|S20')\n",
    "\n",
    "#converting the unicode to string\n",
    "for i in range(nrows2):\n",
    "    State[i] = df2.at[i,'State'].encode('ascii','ignore')\n",
    "for i in range(nrows2):\n",
    "    Abr[i] = df2.at[i,'Abr.'].encode('ascii','ignore')\n",
    "for i in range(nrows2):\n",
    "    Capital[i] = df2.at[i,'Capital'].encode('ascii','ignore')\n",
    "\n",
    "#getting the zip codes for the capitals\n",
    "zips_final = []\n",
    "for i in range(nrows2):\n",
    "    zips = []\n",
    "    for j in range(nrows1):\n",
    "        if Abr[i] == df1.loc[j,' \"state abbreviation\"'].strip(' \" '): #checking if the states are equal\n",
    "            if Capital[i] == df1.loc[j,' \"city\"'].strip(' \" '): #then check if the city is the state capital are equal\n",
    "                zips = zips + [df1.loc[j,'zip code']]\n",
    "    zips_final = zips_final + [zips]\n",
    "\n",
    "#getting the latitude & longitude\n",
    "for i in range(nrows2):\n",
    "    if zips_final[i]: #excluding kentucky which has the missing zip codes\n",
    "        zip = zips_final[i][0]\n",
    "    j=0\n",
    "    while df1.loc[j,'zip code'] != zip:\n",
    "        #compares all zip codes to the 1st zip code of each state\n",
    "        j+=1\n",
    "    Lat[i] = df1.loc[j,' \"latitude\"'].strip(' \" ')\n",
    "    Long[i] = df1.loc[j,' \"longitude\"'].strip(' \" ')"
   ]
  },
  {
   "cell_type": "code",
   "execution_count": 6,
   "metadata": {
    "collapsed": false
   },
   "outputs": [
    {
     "data": {
      "text/html": [
       "<div>\n",
       "<style scoped>\n",
       "    .dataframe tbody tr th:only-of-type {\n",
       "        vertical-align: middle;\n",
       "    }\n",
       "\n",
       "    .dataframe tbody tr th {\n",
       "        vertical-align: top;\n",
       "    }\n",
       "\n",
       "    .dataframe thead th {\n",
       "        text-align: right;\n",
       "    }\n",
       "</style>\n",
       "<table border=\"1\" class=\"dataframe\">\n",
       "  <thead>\n",
       "    <tr style=\"text-align: right;\">\n",
       "      <th></th>\n",
       "      <th>Abr</th>\n",
       "      <th>Capital</th>\n",
       "      <th>Latitude</th>\n",
       "      <th>Longitude</th>\n",
       "      <th>State</th>\n",
       "      <th>Zips</th>\n",
       "    </tr>\n",
       "  </thead>\n",
       "  <tbody>\n",
       "    <tr>\n",
       "      <th>0</th>\n",
       "      <td>AL</td>\n",
       "      <td>Montgomery</td>\n",
       "      <td>32.377509</td>\n",
       "      <td>-86.31068</td>\n",
       "      <td>Alabama</td>\n",
       "      <td>[36104, 36105, 36106, 36107, 36108, 36109, 361...</td>\n",
       "    </tr>\n",
       "    <tr>\n",
       "      <th>1</th>\n",
       "      <td>AK</td>\n",
       "      <td>Juneau</td>\n",
       "      <td>58.358599</td>\n",
       "      <td>-134.54749</td>\n",
       "      <td>Alaska</td>\n",
       "      <td>[99801, 99850]</td>\n",
       "    </tr>\n",
       "    <tr>\n",
       "      <th>2</th>\n",
       "      <td>AZ</td>\n",
       "      <td>Phoenix</td>\n",
       "      <td>33.451143</td>\n",
       "      <td>-112.07838</td>\n",
       "      <td>Arizona</td>\n",
       "      <td>[85003, 85004, 85006, 85007, 85008, 85009, 850...</td>\n",
       "    </tr>\n",
       "    <tr>\n",
       "      <th>3</th>\n",
       "      <td>AR</td>\n",
       "      <td>Little Rock</td>\n",
       "      <td>34.745692</td>\n",
       "      <td>-92.27987</td>\n",
       "      <td>Arkansas</td>\n",
       "      <td>[72201, 72202, 72204, 72205, 72206, 72207, 722...</td>\n",
       "    </tr>\n",
       "    <tr>\n",
       "      <th>4</th>\n",
       "      <td>CA</td>\n",
       "      <td>Sacramento</td>\n",
       "      <td>38.580255</td>\n",
       "      <td>-121.49125</td>\n",
       "      <td>California</td>\n",
       "      <td>[95814, 95815, 95816, 95817, 95818, 95819, 958...</td>\n",
       "    </tr>\n",
       "    <tr>\n",
       "      <th>5</th>\n",
       "      <td>CO</td>\n",
       "      <td>Denver</td>\n",
       "      <td>39.751586</td>\n",
       "      <td>-104.99699</td>\n",
       "      <td>Colorado</td>\n",
       "      <td>[80202, 80203, 80204, 80205, 80206, 80207, 802...</td>\n",
       "    </tr>\n",
       "    <tr>\n",
       "      <th>6</th>\n",
       "      <td>CT</td>\n",
       "      <td>Hartford</td>\n",
       "      <td>41.767049</td>\n",
       "      <td>-72.67433</td>\n",
       "      <td>Connecticut</td>\n",
       "      <td>[06103, 06105, 06106, 06112, 06114, 06120]</td>\n",
       "    </tr>\n",
       "    <tr>\n",
       "      <th>7</th>\n",
       "      <td>DE</td>\n",
       "      <td>Dover</td>\n",
       "      <td>39.164260</td>\n",
       "      <td>-75.51163</td>\n",
       "      <td>Delaware</td>\n",
       "      <td>[19901, 19904]</td>\n",
       "    </tr>\n",
       "    <tr>\n",
       "      <th>8</th>\n",
       "      <td>FL</td>\n",
       "      <td>Tallahassee</td>\n",
       "      <td>30.431283</td>\n",
       "      <td>-84.26903</td>\n",
       "      <td>Florida</td>\n",
       "      <td>[32301, 32303, 32304, 32308, 32310, 32311, 323...</td>\n",
       "    </tr>\n",
       "    <tr>\n",
       "      <th>9</th>\n",
       "      <td>GA</td>\n",
       "      <td>Atlanta</td>\n",
       "      <td>33.752856</td>\n",
       "      <td>-84.39013</td>\n",
       "      <td>Georgia</td>\n",
       "      <td>[30303, 30305, 30306, 30307, 30308, 30309, 303...</td>\n",
       "    </tr>\n",
       "    <tr>\n",
       "      <th>10</th>\n",
       "      <td>HI</td>\n",
       "      <td>Honolulu</td>\n",
       "      <td>21.313033</td>\n",
       "      <td>-157.85615</td>\n",
       "      <td>Hawaii</td>\n",
       "      <td>[96813, 96814, 96815, 96816, 96817, 96818, 968...</td>\n",
       "    </tr>\n",
       "    <tr>\n",
       "      <th>11</th>\n",
       "      <td>ID</td>\n",
       "      <td>Boise</td>\n",
       "      <td>43.627734</td>\n",
       "      <td>-116.20756</td>\n",
       "      <td>Idaho</td>\n",
       "      <td>[83702, 83703, 83704, 83705, 83706, 83709, 837...</td>\n",
       "    </tr>\n",
       "    <tr>\n",
       "      <th>12</th>\n",
       "      <td>IL</td>\n",
       "      <td>Springfield</td>\n",
       "      <td>39.800950</td>\n",
       "      <td>-89.64999</td>\n",
       "      <td>Illinois</td>\n",
       "      <td>[62701]</td>\n",
       "    </tr>\n",
       "    <tr>\n",
       "      <th>13</th>\n",
       "      <td>IN</td>\n",
       "      <td>Indianapolis</td>\n",
       "      <td>39.775125</td>\n",
       "      <td>-86.10839</td>\n",
       "      <td>Indiana</td>\n",
       "      <td>[46201, 46202, 46203, 46204, 46205, 46208, 462...</td>\n",
       "    </tr>\n",
       "    <tr>\n",
       "      <th>14</th>\n",
       "      <td>IA</td>\n",
       "      <td>Des Moines</td>\n",
       "      <td>41.585939</td>\n",
       "      <td>-93.62004</td>\n",
       "      <td>Iowa</td>\n",
       "      <td>[50309, 50310, 50312, 50313, 50314, 50315, 503...</td>\n",
       "    </tr>\n",
       "    <tr>\n",
       "      <th>15</th>\n",
       "      <td>KS</td>\n",
       "      <td>Topeka</td>\n",
       "      <td>39.056200</td>\n",
       "      <td>-95.67547</td>\n",
       "      <td>Kansas</td>\n",
       "      <td>[66603, 66604, 66605, 66606, 66607, 66608, 666...</td>\n",
       "    </tr>\n",
       "    <tr>\n",
       "      <th>16</th>\n",
       "      <td>KY</td>\n",
       "      <td>Frankfort</td>\n",
       "      <td>39.056200</td>\n",
       "      <td>-95.67547</td>\n",
       "      <td>Kentucky</td>\n",
       "      <td>[]</td>\n",
       "    </tr>\n",
       "    <tr>\n",
       "      <th>17</th>\n",
       "      <td>LA</td>\n",
       "      <td>Baton Rouge</td>\n",
       "      <td>30.448840</td>\n",
       "      <td>-91.18633</td>\n",
       "      <td>Louisiana</td>\n",
       "      <td>[70801, 70802, 70805, 70806, 70808, 70809, 708...</td>\n",
       "    </tr>\n",
       "    <tr>\n",
       "      <th>18</th>\n",
       "      <td>ME</td>\n",
       "      <td>Augusta</td>\n",
       "      <td>44.344406</td>\n",
       "      <td>-69.76345</td>\n",
       "      <td>Maine</td>\n",
       "      <td>[04330]</td>\n",
       "    </tr>\n",
       "    <tr>\n",
       "      <th>19</th>\n",
       "      <td>MD</td>\n",
       "      <td>Annapolis</td>\n",
       "      <td>38.946462</td>\n",
       "      <td>-76.48358</td>\n",
       "      <td>Maryland</td>\n",
       "      <td>[21403, 21405]</td>\n",
       "    </tr>\n",
       "    <tr>\n",
       "      <th>20</th>\n",
       "      <td>MA</td>\n",
       "      <td>Boston</td>\n",
       "      <td>42.357903</td>\n",
       "      <td>-71.06408</td>\n",
       "      <td>Massachusetts</td>\n",
       "      <td>[02108, 02109, 02110, 02111, 02113, 02114, 021...</td>\n",
       "    </tr>\n",
       "    <tr>\n",
       "      <th>21</th>\n",
       "      <td>MI</td>\n",
       "      <td>Lansing</td>\n",
       "      <td>42.764167</td>\n",
       "      <td>-84.56153</td>\n",
       "      <td>Michigan</td>\n",
       "      <td>[48906, 48910, 48911, 48912, 48915, 48917, 48933]</td>\n",
       "    </tr>\n",
       "    <tr>\n",
       "      <th>22</th>\n",
       "      <td>MN</td>\n",
       "      <td>Saint Paul</td>\n",
       "      <td>44.964852</td>\n",
       "      <td>-93.08397</td>\n",
       "      <td>Minnesota</td>\n",
       "      <td>[55101, 55102, 55103, 55104, 55105, 55106, 551...</td>\n",
       "    </tr>\n",
       "    <tr>\n",
       "      <th>23</th>\n",
       "      <td>MS</td>\n",
       "      <td>Jackson</td>\n",
       "      <td>32.292396</td>\n",
       "      <td>-90.18328</td>\n",
       "      <td>Mississippi</td>\n",
       "      <td>[39201, 39202, 39203, 39204, 39206, 39209, 392...</td>\n",
       "    </tr>\n",
       "    <tr>\n",
       "      <th>24</th>\n",
       "      <td>MO</td>\n",
       "      <td>Jefferson City</td>\n",
       "      <td>38.535897</td>\n",
       "      <td>-92.13905</td>\n",
       "      <td>Missouri</td>\n",
       "      <td>[65101, 65109]</td>\n",
       "    </tr>\n",
       "    <tr>\n",
       "      <th>25</th>\n",
       "      <td>MT</td>\n",
       "      <td>Helena</td>\n",
       "      <td>46.588803</td>\n",
       "      <td>-112.04193</td>\n",
       "      <td>Montana</td>\n",
       "      <td>[59601, 59602]</td>\n",
       "    </tr>\n",
       "    <tr>\n",
       "      <th>26</th>\n",
       "      <td>NE</td>\n",
       "      <td>Lincoln</td>\n",
       "      <td>40.789051</td>\n",
       "      <td>-96.69589</td>\n",
       "      <td>Nebraska</td>\n",
       "      <td>[68502, 68503, 68504, 68505, 68506, 68507, 685...</td>\n",
       "    </tr>\n",
       "    <tr>\n",
       "      <th>27</th>\n",
       "      <td>NV</td>\n",
       "      <td>Carson City</td>\n",
       "      <td>39.147877</td>\n",
       "      <td>-119.74536</td>\n",
       "      <td>Nevada</td>\n",
       "      <td>[89701, 89703, 89704, 89705]</td>\n",
       "    </tr>\n",
       "    <tr>\n",
       "      <th>28</th>\n",
       "      <td>NH</td>\n",
       "      <td>Concord</td>\n",
       "      <td>43.213705</td>\n",
       "      <td>-71.53774</td>\n",
       "      <td>New Hampshire</td>\n",
       "      <td>[03301]</td>\n",
       "    </tr>\n",
       "    <tr>\n",
       "      <th>29</th>\n",
       "      <td>NJ</td>\n",
       "      <td>Trenton</td>\n",
       "      <td>40.219158</td>\n",
       "      <td>-74.76481</td>\n",
       "      <td>New Jersey</td>\n",
       "      <td>[08608, 08618, 08625, 08638]</td>\n",
       "    </tr>\n",
       "    <tr>\n",
       "      <th>30</th>\n",
       "      <td>NM</td>\n",
       "      <td>Santa Fe</td>\n",
       "      <td>35.616662</td>\n",
       "      <td>-105.97926</td>\n",
       "      <td>New Mexico</td>\n",
       "      <td>[87505]</td>\n",
       "    </tr>\n",
       "    <tr>\n",
       "      <th>31</th>\n",
       "      <td>NY</td>\n",
       "      <td>Albany</td>\n",
       "      <td>42.640129</td>\n",
       "      <td>-73.76061</td>\n",
       "      <td>New York</td>\n",
       "      <td>[12202, 12204, 12206, 12207, 12208, 12209, 12210]</td>\n",
       "    </tr>\n",
       "    <tr>\n",
       "      <th>32</th>\n",
       "      <td>NC</td>\n",
       "      <td>Raleigh</td>\n",
       "      <td>35.774451</td>\n",
       "      <td>-78.63274</td>\n",
       "      <td>North Carolina</td>\n",
       "      <td>[27601, 27603, 27604, 27605, 27606, 27607, 276...</td>\n",
       "    </tr>\n",
       "    <tr>\n",
       "      <th>33</th>\n",
       "      <td>ND</td>\n",
       "      <td>Bismarck</td>\n",
       "      <td>46.839620</td>\n",
       "      <td>-100.77230</td>\n",
       "      <td>North Dakota</td>\n",
       "      <td>[58501, 58505]</td>\n",
       "    </tr>\n",
       "    <tr>\n",
       "      <th>34</th>\n",
       "      <td>OH</td>\n",
       "      <td>Columbus</td>\n",
       "      <td>39.990764</td>\n",
       "      <td>-83.00117</td>\n",
       "      <td>Ohio</td>\n",
       "      <td>[43201, 43202, 43203, 43204, 43205, 43206, 432...</td>\n",
       "    </tr>\n",
       "    <tr>\n",
       "      <th>35</th>\n",
       "      <td>OK</td>\n",
       "      <td>Oklahoma City</td>\n",
       "      <td>35.471560</td>\n",
       "      <td>-97.52036</td>\n",
       "      <td>Oklahoma</td>\n",
       "      <td>[73102, 73103, 73104, 73105, 73106, 73107, 731...</td>\n",
       "    </tr>\n",
       "    <tr>\n",
       "      <th>36</th>\n",
       "      <td>OR</td>\n",
       "      <td>Salem</td>\n",
       "      <td>44.926644</td>\n",
       "      <td>-122.98694</td>\n",
       "      <td>Oregon</td>\n",
       "      <td>[97301, 97302, 97304, 97306]</td>\n",
       "    </tr>\n",
       "    <tr>\n",
       "      <th>37</th>\n",
       "      <td>PA</td>\n",
       "      <td>Harrisburg</td>\n",
       "      <td>40.261839</td>\n",
       "      <td>-76.88279</td>\n",
       "      <td>Pennsylvania</td>\n",
       "      <td>[17101, 17102, 17104, 17110, 17112]</td>\n",
       "    </tr>\n",
       "    <tr>\n",
       "      <th>38</th>\n",
       "      <td>RI</td>\n",
       "      <td>Providence</td>\n",
       "      <td>41.820800</td>\n",
       "      <td>-71.41306</td>\n",
       "      <td>Rhode Island</td>\n",
       "      <td>[02903, 02906, 02908]</td>\n",
       "    </tr>\n",
       "    <tr>\n",
       "      <th>39</th>\n",
       "      <td>SC</td>\n",
       "      <td>Columbia</td>\n",
       "      <td>33.998454</td>\n",
       "      <td>-81.03519</td>\n",
       "      <td>South Carolina</td>\n",
       "      <td>[29201, 29202, 29203, 29204, 29205, 29206, 292...</td>\n",
       "    </tr>\n",
       "    <tr>\n",
       "      <th>40</th>\n",
       "      <td>SD</td>\n",
       "      <td>Pierre</td>\n",
       "      <td>44.425356</td>\n",
       "      <td>-100.29145</td>\n",
       "      <td>South Dakota</td>\n",
       "      <td>[57501]</td>\n",
       "    </tr>\n",
       "    <tr>\n",
       "      <th>41</th>\n",
       "      <td>TN</td>\n",
       "      <td>Nashville</td>\n",
       "      <td>36.164556</td>\n",
       "      <td>-86.77738</td>\n",
       "      <td>Tennessee</td>\n",
       "      <td>[37201, 37203, 37205, 37206, 37207, 37208, 372...</td>\n",
       "    </tr>\n",
       "    <tr>\n",
       "      <th>42</th>\n",
       "      <td>TX</td>\n",
       "      <td>Austin</td>\n",
       "      <td>30.271270</td>\n",
       "      <td>-97.74103</td>\n",
       "      <td>Texas</td>\n",
       "      <td>[78701, 78702, 78703, 78704, 78705, 78717, 787...</td>\n",
       "    </tr>\n",
       "    <tr>\n",
       "      <th>43</th>\n",
       "      <td>UT</td>\n",
       "      <td>Salt Lake City</td>\n",
       "      <td>40.754746</td>\n",
       "      <td>-111.89875</td>\n",
       "      <td>Utah</td>\n",
       "      <td>[84101, 84102, 84103, 84104, 84105, 84106, 841...</td>\n",
       "    </tr>\n",
       "    <tr>\n",
       "      <th>44</th>\n",
       "      <td>VT</td>\n",
       "      <td>Montpelier</td>\n",
       "      <td>44.265633</td>\n",
       "      <td>-72.59686</td>\n",
       "      <td>Vermont</td>\n",
       "      <td>[05602]</td>\n",
       "    </tr>\n",
       "    <tr>\n",
       "      <th>45</th>\n",
       "      <td>VA</td>\n",
       "      <td>Richmond</td>\n",
       "      <td>37.541046</td>\n",
       "      <td>-77.43536</td>\n",
       "      <td>Virginia</td>\n",
       "      <td>[23219, 23220, 23221, 23222, 23223, 23224, 232...</td>\n",
       "    </tr>\n",
       "    <tr>\n",
       "      <th>46</th>\n",
       "      <td>WA</td>\n",
       "      <td>Olympia</td>\n",
       "      <td>47.014718</td>\n",
       "      <td>-122.88190</td>\n",
       "      <td>Washington</td>\n",
       "      <td>[98501, 98502, 98512, 98513, 98516]</td>\n",
       "    </tr>\n",
       "    <tr>\n",
       "      <th>47</th>\n",
       "      <td>WV</td>\n",
       "      <td>Charleston</td>\n",
       "      <td>38.350647</td>\n",
       "      <td>-81.63028</td>\n",
       "      <td>West Virginia</td>\n",
       "      <td>[25301, 25304, 25311, 25312, 25314]</td>\n",
       "    </tr>\n",
       "    <tr>\n",
       "      <th>48</th>\n",
       "      <td>WI</td>\n",
       "      <td>Madison</td>\n",
       "      <td>43.078646</td>\n",
       "      <td>-89.37727</td>\n",
       "      <td>Wisconsin</td>\n",
       "      <td>[53703, 53704, 53705, 53706, 53711, 53714, 537...</td>\n",
       "    </tr>\n",
       "    <tr>\n",
       "      <th>49</th>\n",
       "      <td>WY</td>\n",
       "      <td>Cheyenne</td>\n",
       "      <td>41.141281</td>\n",
       "      <td>-104.80208</td>\n",
       "      <td>Wyoming</td>\n",
       "      <td>[82001, 82007, 82009]</td>\n",
       "    </tr>\n",
       "  </tbody>\n",
       "</table>\n",
       "</div>"
      ]
     },
     "execution_count": 6,
     "metadata": {
     },
     "output_type": "execute_result"
    }
   ],
   "source": [
    "df = pd.DataFrame({'State' : State,\n",
    "                   'Abr' : Abr,\n",
    "                   'Capital' : Capital,\n",
    "                   'Zips' : zips_final,\n",
    "                   'Latitude' : Lat,\n",
    "                   'Longitude' : Long\n",
    "                  })\n",
    "df"
   ]
  },
  {
   "cell_type": "markdown",
   "metadata": {
    "collapsed": false
   },
   "source": [
    "### Problem 2: Minimum spanning trees"
   ]
  },
  {
   "cell_type": "markdown",
   "metadata": {
    "collapsed": false
   },
   "source": [
    "Grading criteria: correctness of code. Note: you will need to reference your answer to problem 1, but this problem will be graded independently (i.e., as if your answer to problem 1 is correct, whether it is or not)."
   ]
  },
  {
   "cell_type": "markdown",
   "metadata": {
    "collapsed": false
   },
   "source": [
    "William Stein announces the formation of CoCalc Fiber, a new broadband network which will connect the capital cities of the 48 continental United States (excluding Alaska and Hawaii) with a series of underground cables joining certain pairs of cities. Naturally, William wants to minimize the cost of building this network; he assumes that the cost of building a network link between some pairs of cities is proportional to the distance between those two cities."
   ]
  },
  {
   "cell_type": "markdown",
   "metadata": {
    "collapsed": false
   },
   "source": [
    "2a. Define a function that implements the [haversine formula](https://en.wikipedia.org/wiki/Haversine_formula): given two latitude-longitude pairs, compute the distance between those two points on Earth. Use kilometers instead of miles, because [the US was supposed to convert to the metric system in 1975](https://en.wikipedia.org/wiki/Metrication_in_the_United_States). Check your formula by computing the distance between New York City and San Diego, as reported by the [Great Circle Mapper](http://www.gcmap.com/) web site."
   ]
  },
  {
   "cell_type": "code",
   "execution_count": 7,
   "metadata": {
    "collapsed": false
   },
   "outputs": [
   ],
   "source": [
    "preparser(True)"
   ]
  },
  {
   "cell_type": "code",
   "execution_count": 8,
   "metadata": {
    "collapsed": false
   },
   "outputs": [
   ],
   "source": [
    "df = df.drop([int(1),int(10)]) #removing hawaii and alaska"
   ]
  },
  {
   "cell_type": "code",
   "execution_count": 9,
   "metadata": {
    "collapsed": false
   },
   "outputs": [
   ],
   "source": [
    "def haversine(lat1,long1,lat2,long2):\n",
    "    #convert lat&long from degrees to radians\n",
    "    lat1 = pi/180*lat1\n",
    "    lat2 = pi/180*lat2\n",
    "    long1 = pi/180*long1\n",
    "    long2 = pi/180*long2\n",
    "    r = 6371.392896 #km, was 3959 miles\n",
    "    return N(2*r*arcsin( sqrt( sin((lat2-lat1)/2)^2 + cos(lat1)*cos(lat2)*sin((long2-long1)/2)^2 ) ))"
   ]
  },
  {
   "cell_type": "code",
   "execution_count": 10,
   "metadata": {
    "collapsed": false
   },
   "outputs": [
    {
     "data": {
      "text/plain": [
       "3907.40339350886"
      ]
     },
     "execution_count": 10,
     "metadata": {
     },
     "output_type": "execute_result"
    }
   ],
   "source": [
    "haversine(32.7157,-117.1611,40.7128,-74.0060)\n",
    "#compared to SAN - NYC on Great Circle Mapper which gives 3,919 km"
   ]
  },
  {
   "cell_type": "markdown",
   "metadata": {
    "collapsed": false
   },
   "source": [
    "2b. Construct a complete graph in which each vertex is labeled by the name of a state, and each edge is labeled by the distance between the capital cities."
   ]
  },
  {
   "cell_type": "code",
   "execution_count": 11,
   "metadata": {
    "collapsed": false
   },
   "outputs": [
    {
     "data": {
      "text/plain": [
       "3238.84430357473"
      ]
     },
     "execution_count": 11,
     "metadata": {
     },
     "output_type": "execute_result"
    }
   ],
   "source": [
    "# G = Graph()\n",
    "# G.add_edge('Alabama','Alaska',label=13)\n",
    "# G.add_edge('California','Alabama',label=900)\n",
    "# G.show()\n",
    "# G.edges()\n",
    "city1 = df.iloc[int(0)]\n",
    "city2 = df.iloc[int(3)]\n",
    "haversine(float(city1['Latitude']),float(city1['Longitude']),float(city2['Latitude']),float(city2['Longitude']))\n",
    "#float(city1['Latitude'])"
   ]
  },
  {
   "cell_type": "code",
   "execution_count": 21,
   "metadata": {
    "collapsed": false,
    "scrolled": true
   },
   "outputs": [
    {
     "data": {
      "image/png": "[encoded data removed]"
     },
     "execution_count": 21,
     "metadata": {
     },
     "output_type": "execute_result"
    }
   ],
   "source": [
    "nrows = len(df)\n",
    "G = Graph()\n",
    "\n",
    "for i in range(nrows):\n",
    "    city1 = df.iloc[int(i)]\n",
    "    for j in range(nrows):\n",
    "        if i != j:\n",
    "            city2 = df.iloc[int(j)]\n",
    "            dist = haversine(float(city1['Latitude']),float(city1['Longitude']),float(city2['Latitude']),float(city2['Longitude']))\n",
    "            G.add_edge(city1['State'],city2['State'],label=dist)\n",
    "G.show()\n",
    "#G.edges()"
   ]
  },
  {
   "cell_type": "markdown",
   "metadata": {
    "collapsed": false
   },
   "source": [
    "2c. Construct the minimal spanning tree corresponding to the optimal CoCalc Fiber network."
   ]
  },
  {
   "cell_type": "code",
   "execution_count": 20,
   "metadata": {
    "collapsed": false,
    "scrolled": true
   },
   "outputs": [
    {
     "data": {
      "image/png": "[encoded data removed]"
     },
     "execution_count": 20,
     "metadata": {
     },
     "output_type": "execute_result"
    }
   ],
   "source": [
    "H = G.min_spanning_tree(weight_function=lambda e: e[2])\n",
    "#show(H)\n",
    "Graph(H).plot(talk=True)"
   ]
  },
  {
   "cell_type": "markdown",
   "metadata": {
    "collapsed": false
   },
   "source": [
    "2d. William decides to scale back his plans and connect only the Western states (meaning Montana, Wyoming, Colorado, New Mexico, and all continental states west of these). Furthermore, he is now only going to build links between states which are adjacent (meaning that they share a land border, not just a corner); and all city pairs will now be treated as costing the same amount. Construct the minimal spanning tree corresponding to the optimal network."
   ]
  },
  {
   "cell_type": "code",
   "execution_count": 4,
   "metadata": {
    "collapsed": false,
    "scrolled": true
   },
   "outputs": [
    {
     "data": {
      "image/png": "[encoded data removed]"
     },
     "execution_count": 4,
     "metadata": {
     },
     "output_type": "execute_result"
    }
   ],
   "source": [
    "edges = [('Montana','Wyoming'),('Montana','Idaho'),('Idaho','Wyoming'),('Idaho','Washington'),('Idaho','Oregon'),('Washington','Oregon'),('Oregon','California'),('Oregon','Nevada'),('California','Nevada'),('California','Arizona'),('Nevada','Utah'),('Nevada','Idaho'),('Idaho','Utah'),('Utah','Wyoming'),('Wyoming','Colorado'),('Colorado','Utah'),('Utah','Arizona'),('Arizona','Nevada'),('Arizona','New Mexico'),('New Mexico','Colorado')]\n",
    "E = Graph(edges)\n",
    "E.plot()\n",
    "F = E.min_spanning_tree()\n",
    "E.plot(talk = True, edge_colors = {'#FF0000': F})"
   ]
  },
  {
   "cell_type": "markdown",
   "metadata": {
    "collapsed": false
   },
   "source": [
    "### Problem 3: \"Year-old bug ruined crypto!\""
   ]
  },
  {
   "cell_type": "markdown",
   "metadata": {
    "collapsed": false
   },
   "source": [
    "Grading criteria: correctness of code and explanations."
   ]
  },
  {
   "cell_type": "markdown",
   "metadata": {
    "collapsed": false
   },
   "source": [
    "The article \"[Socat slams backdoor, sparks thrilling whodunit -- Year-old bug ruined crypto](http://www.theregister.co.uk/2016/02/03/socat_backdoor_fix/)\" is about a potential backdoor in some networking software [called Socat](http://www.dest-unreach.org/socat/), in which \"the SSL implementation uses a non-prime number as its Diffie-Hellman $p$-parameter\".  See also [Socat? What? (timeline of events)](https://github.com/mimoo/Diffie-Hellman_Backdoor/blob/master/socat_reverse/README.md)."
   ]
  },
  {
   "cell_type": "markdown",
   "metadata": {
    "collapsed": false
   },
   "source": [
    "3a. Using the Chinese remainder theorem, explain what the problem is with using a nonprime parameter in Diffie-Hellman."
   ]
  },
  {
   "cell_type": "markdown",
   "metadata": {
    "collapsed": false
   },
   "source": [
    "The problem with using a nonprime parameter is that you can used the prime factors as the pairwise coprime integers in the Chinese remainder theorem which has a solution with unique modulo that is the product of the prime factors."
   ]
  },
  {
   "cell_type": "markdown",
   "metadata": {
    "collapsed": false
   },
   "source": [
    "3b. The parameter $p$ in the Socat story is defined below. Use the `trial_division` function to find all prime factors of $p$ less than $10^6$."
   ]
  },
  {
   "cell_type": "code",
   "execution_count": 1,
   "metadata": {
    "collapsed": false
   },
   "outputs": [
   ],
   "source": [
    "p = 143319364394905942617148968085785991039146683740268996579566827015580969124702493833109074343879894586653465192222251909074832038151585448034731101690454685781999248641772509287801359980318348021809541131200479989220793925941518568143721972993251823166164933334796625008174851430377966394594186901123322297453"
   ]
  },
  {
   "cell_type": "code",
   "execution_count": 10,
   "metadata": {
    "collapsed": false
   },
   "outputs": [
    {
     "name": "stdout",
     "output_type": "stream",
     "text": [
      "(271, 13597)\n"
     ]
    }
   ],
   "source": [
    "p_factors = []\n",
    "q = p\n",
    "divisor = 0\n",
    "for i in range(3):\n",
    "    divisor = trial_division(q,10^6)\n",
    "    p_factors = p_factors + [divisor]\n",
    "    q = q/divisor\n",
    "p_factors\n",
    "print(p_factors[0],p_factors[1])"
   ]
  },
  {
   "cell_type": "markdown",
   "metadata": {
    "collapsed": false
   },
   "source": [
    "3c. One theory that was floated about the Socat story is that the parameter $p$ had suffered from a transcription error, e.g., there is a prime that differs from $p$ in one decimal digit and this was what was intended. Write code to find all such primes. (Do not allow substituting a 0 for the leading digit.)"
   ]
  },
  {
   "cell_type": "code",
   "execution_count": 2,
   "metadata": {
    "collapsed": false,
    "scrolled": true
   },
   "outputs": [
    {
     "data": {
      "text/plain": [
       "[143319364394905942617148968085785991039146683740268996579566827015580969124702493833109074343879894586655465192222251909074832038151585448034731101690454685781999248641772509287801359980318348021809541131200479989220793925941518568143721972993251823166164933334796625008174851430377966394594186901123322297453,\n",
       " 143319364394905942617148968085785991039146683740268996579566827015580969124702493833109074343879894586653465192222251909074832038151585448034731101690454685181999248641772509287801359980318348021809541131200479989220793925941518568143721972993251823166164933334796625008174851430377966394594186901123322297453,\n",
       " 143319364394905942617148968085785991039146683740268996579566827015580969124702493833109074343879894586653465192222251909074832038151585448034731101690454685781999248641772509287831359980318348021809541131200479989220793925941518568143721972993251823166164933334796625008174851430377966394594186901123322297453,\n",
       " 143319364394905942617148968085785991039146683740268996579566827015580969124702493833109074343879894586653465192222251909074832038151585448034731101690454685781999248641772509287801359980318348021809541131200479989220793925941518568743721972993251823166164933334796625008174851430377966394594186901123322297453]"
      ]
     },
     "execution_count": 2,
     "metadata": {
     },
     "output_type": "execute_result"
    }
   ],
   "source": [
    "len(str(p)) #309\n",
    "str_p = str(p)\n",
    "possible_p = []\n",
    "digits = ['0','1','2','3','4','5','6','7','8','9']\n",
    "for i in range(1,len(str_p)): #changing ith digit of p from 1st digit to last digit\n",
    "    q = list(str_p)\n",
    "    for j in digits:\n",
    "        q[i] = j\n",
    "        #print(''.join(q))\n",
    "        if is_prime(Integer(''.join(q))): #checks whether the numer with one digit modified is prime, if so add it to the list\n",
    "            possible_p = possible_p + [Integer(''.join(q))]\n",
    "            #print(i)\n",
    "    #print('--------')\n",
    "\n",
    "#does the first digit\n",
    "q = list(str_p)\n",
    "for j in digits[1:10]:\n",
    "    q[0] = j\n",
    "    if is_prime(Integer(''.join(q))):\n",
    "        possible_p = possible_p + [Integer(''.join(q))]\n",
    "\n",
    "possible_p"
   ]
  },
  {
   "cell_type": "code",
   "execution_count": 3,
   "metadata": {
    "collapsed": false
   },
   "outputs": [
    {
     "data": {
      "text/plain": [
       "[True, True, True, True]"
      ]
     },
     "execution_count": 3,
     "metadata": {
     },
     "output_type": "execute_result"
    }
   ],
   "source": [
    "[is_prime(x) for x in possible_p]"
   ]
  },
  {
   "cell_type": "markdown",
   "metadata": {
    "collapsed": false
   },
   "source": [
    "3d. Repeat 3c but with binary digits instead of decimal digits."
   ]
  },
  {
   "cell_type": "code",
   "execution_count": 4,
   "metadata": {
    "collapsed": false
   },
   "outputs": [
    {
     "data": {
      "text/plain": [
       "[]"
      ]
     },
     "execution_count": 4,
     "metadata": {
     },
     "output_type": "execute_result"
    }
   ],
   "source": [
    "#Integer(int(bin(p),2))\n",
    "possible_p_binary = []\n",
    "digits = ['0','1']\n",
    "#count=0\n",
    "for i in range(2,len(bin(p))): #changing ith digit of p from 1st digit to last digit: start at index 2 because 1st 2 indicies are 0b\n",
    "    q = list(bin(p))\n",
    "    for j in digits:\n",
    "        #count+=1\n",
    "        q[i] = j\n",
    "        #print(''.join(q))\n",
    "        if is_prime(Integer(int(''.join(q),2))): #checks whether the numer with one digit modified is prime, if so add it to the list\n",
    "            possible_p_binary = possible_p_binary + [Integer(int(''.join(q),2))]\n",
    "    #print('--------')\n",
    "\n",
    "possible_p_binary"
   ]
  },
  {
   "cell_type": "markdown",
   "metadata": {
    "collapsed": false
   },
   "source": [
    "### Problem 4: A backdoor to factoring"
   ]
  },
  {
   "cell_type": "markdown",
   "metadata": {
    "collapsed": false
   },
   "source": [
    "Grading criteria: correctness of code and explanations."
   ]
  },
  {
   "cell_type": "markdown",
   "metadata": {
    "collapsed": false
   },
   "source": [
    "4a. Explain, in your own words, the backdoor to factoring being described in this quote. (This topic is treated in more detail in Math 187B.)\n",
    "\n",
    "> \"We performed a large-scale study of RSA and DSA cryptographic keys in use on the Internet and discovered that significant numbers of keys are insecure due to insufficient randomness.  **We found that 5.57% of TLS hosts and 9.60% of SSH hosts share public keys in an apparently vulnerable manner...**\" -- see https://factorable.net/\n"
   ]
  },
  {
   "cell_type": "markdown",
   "metadata": {
    "collapsed": false
   },
   "source": [
    "5.57% of TLS hosts and 9.60% of SSH hosts share public keys that are factorizable because they do not have enough randomness and the keys share a common divisor which makes the key divided by the common factor factorizable."
   ]
  },
  {
   "cell_type": "markdown",
   "metadata": {
    "collapsed": false
   },
   "source": [
    "4b. Use this backdoor to factor the numbers $a$ and $b$ defined below."
   ]
  },
  {
   "cell_type": "code",
   "execution_count": 14,
   "metadata": {
    "collapsed": false
   },
   "outputs": [
   ],
   "source": [
    "a = 659481018095533082202091938200108415755014729057676791347712890248315591033900561408617722880031918351642894659648847446299804878752991957454382452262126117247899544055830787469355702640917\n",
    "\n",
    "b = 223986669883088680371243199849357901244618017803455583407479556994195127176620839487674896299802613306139834600384565144314609009904613010988914195091967322701239166323910725912324556645705719757"
   ]
  },
  {
   "cell_type": "code",
   "execution_count": 15,
   "metadata": {
    "collapsed": false
   },
   "outputs": [
    {
     "name": "stdout",
     "output_type": "stream",
     "text": [
      "4148371087431413452356242824146736473467346358735783245724744133252473657567247246724631781\n",
      "1408956133409813612456256845725734673467346713465347396494683424672467657246824625627247613743901\n"
     ]
    }
   ],
   "source": [
    "c = gcd(a,b)\n",
    "a1 = a/c\n",
    "b1 = b/c\n",
    "print(a1:',c,factor(a1))\n",
    "print('factors of :',c,factor(b1))\n",
    "#Normally factoring a large number a&b is hard, but we can divide a&b by their gcd to get a1&b1 which are smaller numbers. Then it is easier to factor a1&b1 the smaller numbers than it is trying to factor a&b."
   ]
  },
  {
   "cell_type": "markdown",
   "metadata": {
    "collapsed": false
   },
   "source": [
    "4c. Compare the size of $a$ and $b$ to the current state of the RSA Factoring Challenge. Would it have been feasible to factor them without the backdoor?"
   ]
  },
  {
   "cell_type": "code",
   "execution_count": 16,
   "metadata": {
    "collapsed": false
   },
   "outputs": [
    {
     "name": "stdout",
     "output_type": "stream",
     "text": [
      "(189, 195)\n"
     ]
    }
   ],
   "source": [
    "print(len(list(str(a))),len(list(str(b))))"
   ]
  },
  {
   "cell_type": "markdown",
   "metadata": {
    "collapsed": false
   },
   "source": [
    "The size of a and b are small compared to the current state of the RSA Factoring Challenge, whose largest size is in the thousands of digits. It would not have been feasible to factor a and b without the backdoor."
   ]
  },
  {
   "cell_type": "markdown",
   "metadata": {
    "collapsed": false
   },
   "source": [
    "### Problem 5: Primitive roots"
   ]
  },
  {
   "cell_type": "markdown",
   "metadata": {
    "collapsed": false
   },
   "source": [
    "Grading criteria: correctness of code and explanations."
   ]
  },
  {
   "cell_type": "markdown",
   "metadata": {
    "collapsed": false
   },
   "source": [
    "5a. Look up, then formulate in your own words, the statement of Artin's conjecture on primitive roots."
   ]
  },
  {
   "cell_type": "markdown",
   "metadata": {
    "collapsed": false
   },
   "source": [
    "Artin's conjecture says that any integer g, not a perfect square or -1, is a primitive root mod p, where p is any prime number. This means that for every integer $a$ coprime to $n$, there exists an integer $k$ such that $g^k \\equiv a$ mod $n$."
   ]
  },
  {
   "cell_type": "markdown",
   "metadata": {
    "collapsed": false
   },
   "source": [
    "5b. Compute, to at least five decimal places, the prediction made by Artin's conjecture for the probability that 2 is a primitive root modulo a random prime $p$."
   ]
  },
  {
   "cell_type": "code",
   "execution_count": 1,
   "metadata": {
    "collapsed": false
   },
   "outputs": [
    {
     "data": {
      "text/plain": [
       "0.373955838964330"
      ]
     },
     "execution_count": 1,
     "metadata": {
     },
     "output_type": "execute_result"
    }
   ],
   "source": [
    "l = [1-1/(p*(p-1)) for p in primes(1,10^6)] #gets the primitive roots of a random prime less than 10^10\n",
    "N(prod(l))"
   ]
  },
  {
   "cell_type": "markdown",
   "metadata": {
    "collapsed": false
   },
   "source": [
    "5c. Write a function that, given an input $n$, computes the probability that 2 is a primitive root modulo a random prime less than $n$."
   ]
  },
  {
   "cell_type": "code",
   "execution_count": 2,
   "metadata": {
    "collapsed": false
   },
   "outputs": [
   ],
   "source": [
    "#calculate prob that 2 is a primitive root less than n\n",
    "def prob_prim_root_2(n):\n",
    "    count=0\n",
    "    l = [primitive_root(p) for p in primes(1,n)]\n",
    "    for i in l:\n",
    "        if i==2:\n",
    "            count+=1\n",
    "    return count/len(list(primes(1,n)))"
   ]
  },
  {
   "cell_type": "markdown",
   "metadata": {
    "collapsed": false
   },
   "source": [
    "5d. Make a plot of your answer to 5c for $n$ up to at least $10^6$, with at least 10 sample points (of your choice). Use a logarithmic scale on the $x$-axis."
   ]
  },
  {
   "cell_type": "code",
   "execution_count": 3,
   "metadata": {
    "collapsed": false
   },
   "outputs": [
    {
     "data": {
      "text/plain": [
       "[<matplotlib.lines.Line2D object at 0x7fdf94fc7810>]"
      ]
     },
     "execution_count": 3,
     "metadata": {
     },
     "output_type": "execute_result"
    },
    {
     "data": {
      "image/png": "[encoded data removed]"
     },
     "execution_count": 3,
     "metadata": {
     },
     "output_type": "execute_result"
    }
   ],
   "source": [
    "import matplotlib.pyplot as plt\n",
    "x = [10^i for i in range(1,3)] + [10^i/2 for i in range(3,7)] + [10^i for i in range(3,7)]; x = sorted(x)\n",
    "log_x = [log(i,10) for i in x]\n",
    "log_x\n",
    "p = [prob_prim_root_2(i) for i in x]\n",
    "plt.plot(log_x,p)"
   ]
  },
  {
   "cell_type": "markdown",
   "metadata": {
    "collapsed": false
   },
   "source": [
    "### Problem 6: Graphs and number theory"
   ]
  },
  {
   "cell_type": "markdown",
   "metadata": {
    "collapsed": false
   },
   "source": [
    "Grading criteria: correctness of code."
   ]
  },
  {
   "cell_type": "markdown",
   "metadata": {
    "collapsed": false
   },
   "source": [
    "6a. Read the definition of a [Paley graph](https://en.wikipedia.org/wiki/Paley_graph), then write a function that, given a prime $p$ congruent to 1 modulo 4, constructs the Paley graph associated to that prime. (There also exist Paley graphs associated to prime powers, but your function need not construct those.)"
   ]
  },
  {
   "cell_type": "code",
   "execution_count": 21,
   "metadata": {
    "collapsed": false
   },
   "outputs": [
   ],
   "source": [
    "#http://doc.sagemath.org/html/en/reference/graphs/sage/graphs/graph_generators.html\n",
    "def paley_graph(p):\n",
    "    if(p%4!=1):\n",
    "        print(\"Warning: p is not congruent to 1 mod 4\")\n",
    "        return False\n",
    "    M = matrix.identity(p)\n",
    "    #1 if (i-j) is in the quadratic residue, -1 if it is not\n",
    "    for i in range(p):\n",
    "        for j in range(p):\n",
    "            if abs((i-j)) in quadratic_residues(p):\n",
    "                M[i,j] = 1\n",
    "            else:\n",
    "                M[i,j] = -1\n",
    "    #0's on diagonals\n",
    "    for i in range(p):\n",
    "        M[i,i] = 0\n",
    "    return M"
   ]
  },
  {
   "cell_type": "markdown",
   "metadata": {
    "collapsed": false
   },
   "source": [
    "6b. Using your answer to 6a for $p=13$ and the [Paley construction](https://en.wikipedia.org/wiki/Paley_construction), construct (but do not print) a $28 \\times 28$ which achieves the [Hadamard determinant bound](https://en.wikipedia.org/wiki/Hadamard%27s_inequality)."
   ]
  },
  {
   "cell_type": "code",
   "execution_count": 22,
   "metadata": {
    "collapsed": false
   },
   "outputs": [
   ],
   "source": [
    "p = 13\n",
    "Q = paley_graph(p)\n",
    "\n",
    "#constructing the (p+1)x(p+1) matrix H\n",
    "j1 = [-1 for i in range(p)]\n",
    "H = Q.insert_row(0,j1)\n",
    "j2 = [0] + [1 for i in range(p)]\n",
    "H = H.transpose().insert_row(0,j2)\n",
    "\n",
    "#constructing the 2(p+1)x2(p+1) Hadamard matrix from the matrix H\n",
    "E = matrix.identity(2*(p+1))\n",
    "for i in range(H.nrows()):\n",
    "    for j in range(H.ncols()):\n",
    "        if H[i,j] == 0:\n",
    "            E[2*i,2*j] = 1\n",
    "            E[2*i+1,2*j] = -1\n",
    "            E[2*i,2*j+1] = -1\n",
    "            E[2*i+1,2*j+1] = -1\n",
    "        if H[i,j] == 1:\n",
    "            E[2*i,2*j] = 1\n",
    "            E[2*i+1,2*j] = 1\n",
    "            E[2*i,2*j+1] = 1\n",
    "            E[2*i+1,2*j+1] = -1\n",
    "        if H[i,j] == -1:\n",
    "            E[2*i,2*j] = -1\n",
    "            E[2*i+1,2*j] = -1\n",
    "            E[2*i,2*j+1] = -1\n",
    "            E[2*i+1,2*j+1] = 1\n",
    "#print(E)"
   ]
  },
  {
   "cell_type": "markdown",
   "metadata": {
    "collapsed": false
   },
   "source": [
    "6c. Check that your answer to 6b actually does achieve the Hadamard bound."
   ]
  },
  {
   "cell_type": "code",
   "execution_count": 39,
   "metadata": {
    "collapsed": false
   },
   "outputs": [
    {
     "name": "stdout",
     "output_type": "stream",
     "text": [
      "(133757720691386351616, 182059119829942534144)\n"
     ]
    },
    {
     "data": {
      "text/plain": [
       "True"
      ]
     },
     "execution_count": 39,
     "metadata": {
     },
     "output_type": "execute_result"
    }
   ],
   "source": [
    "l = [vector(E[:,j]).norm() for j in range(E.ncols())]\n",
    "prod(l)\n",
    "print(det(E),prod(l))\n",
    "bool(det(E) <= prod(l))"
   ]
  },
  {
   "cell_type": "code",
   "execution_count": 0,
   "metadata": {
    "collapsed": false
   },
   "outputs": [
   ],
   "source": [
   ]
  }
 ],
 "metadata": {
  "kernelspec": {
   "display_name": "SageMath 8.1",
   "name": "sage-8.1"
  },
  "language_info": {
   "codemirror_mode": {
    "name": "ipython",
    "version": 2
   },
   "file_extension": ".py",
   "mimetype": "text/x-python",
   "name": "python",
   "nbconvert_exporter": "python",
   "pygments_lexer": "ipython2",
   "version": "2.7.14"
  }
 },
 "nbformat": 4,
 "nbformat_minor": 0
}