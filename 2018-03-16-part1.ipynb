{
 "cells": [
  {
   "cell_type": "markdown",
   "metadata": {
    "collapsed": false
   },
   "source": [
    "## Math 157: Intro to Mathematical Software\n",
    "## UC San Diego, winter 2018"
   ]
  },
  {
   "cell_type": "markdown",
   "metadata": {
    "collapsed": false
   },
   "source": [
    "## Final project, part 1: due March 16, 2018"
   ]
  },
  {
   "cell_type": "markdown",
   "metadata": {
    "collapsed": false
   },
   "source": [
    "The final project consists of two parts, each of equal value. Both parts will be submitted in this folder, just like a homework assignment. However, the final project is *not* equivalent to a homework assignment from the point of view of course grading; it is a separate contribution, and cannot be dropped."
   ]
  },
  {
   "cell_type": "markdown",
   "metadata": {
    "collapsed": false
   },
   "source": [
    "Part 1 is a problem set in the style of the preceding homework assignments, but with material covering the whole course.\n",
    "It consists of 8 problems, each of equal value. As usual, please enter all answers within this notebook except as specified, and cite all sources and collaborators.\n",
    "\n",
    "Throughout this problem set, use the SageMath 8.1 kernel except as specified."
   ]
  },
  {
   "cell_type": "markdown",
   "metadata": {
    "collapsed": false
   },
   "source": [
    "### Problem 1: Symbolic sums"
   ]
  },
  {
   "cell_type": "markdown",
   "metadata": {
    "collapsed": false
   },
   "source": [
    "Grading criteria: correctness of code."
   ]
  },
  {
   "cell_type": "markdown",
   "metadata": {
    "collapsed": false
   },
   "source": [
    "Demonstrate that Sage is able to evaluate the following infinite sums (without manually encoding known mathematical formulas).\n",
    "\n",
    "1. Compute $\\sum_{n=1}^{\\infty} \\frac{(-1)^n}{n}$ symbolically.\n",
    "1. Compute $\\sum_{n=1}^{\\infty} \\frac{1}{n^2}$ symbolilcally.\n",
    "1. Compute $\\sum_{n=1}^{\\infty} \\frac{1}{n^3}$ both symbolically (in terms of the Riemann Zeta function) and numerically.\n",
    "1. Compute $\\sum_{n=1}^{\\infty} \\frac{1}{n^4}$ symbolically."
   ]
  },
  {
   "cell_type": "code",
   "execution_count": 4,
   "metadata": {
    "collapsed": false
   },
   "outputs": [
    {
     "data": {
      "text/plain": [
       "-log(2)"
      ]
     },
     "execution_count": 4,
     "metadata": {
     },
     "output_type": "execute_result"
    }
   ],
   "source": [
    "n = var('n')\n",
    "sum((-1)**n/n, n, 1, oo)"
   ]
  },
  {
   "cell_type": "code",
   "execution_count": 5,
   "metadata": {
    "collapsed": false
   },
   "outputs": [
    {
     "data": {
      "text/plain": [
       "1/6*pi^2"
      ]
     },
     "execution_count": 5,
     "metadata": {
     },
     "output_type": "execute_result"
    }
   ],
   "source": [
    "sum(1/n**2, n, 1, oo)"
   ]
  },
  {
   "cell_type": "code",
   "execution_count": 6,
   "metadata": {
    "collapsed": false
   },
   "outputs": [
    {
     "data": {
      "text/plain": [
       "(zeta(3), 1.20205690315959)"
      ]
     },
     "execution_count": 6,
     "metadata": {
     },
     "output_type": "execute_result"
    }
   ],
   "source": [
    "sum(1/n**3, n, 1, oo), N(zeta(3))"
   ]
  },
  {
   "cell_type": "code",
   "execution_count": 4,
   "metadata": {
    "collapsed": false
   },
   "outputs": [
    {
     "data": {
      "text/plain": [
       "1/90*pi^4"
      ]
     },
     "execution_count": 4,
     "metadata": {
     },
     "output_type": "execute_result"
    }
   ],
   "source": [
    "sum(1/n**4, n, 1, oo)"
   ]
  },
  {
   "cell_type": "markdown",
   "metadata": {
    "collapsed": false
   },
   "source": [
    "### Problem 2: Determinants"
   ]
  },
  {
   "cell_type": "markdown",
   "metadata": {
    "collapsed": false
   },
   "source": [
    "Grading criteria: correctness of code and explanations."
   ]
  },
  {
   "cell_type": "markdown",
   "metadata": {
    "collapsed": false
   },
   "source": [
    "2a. Implement a function called `my_det` that calculates the determinant of a matrix recursively using expansion by cofactors. The Matrix methods `delete_columns` and `delete_rows` may come in handy. You can assume that your input is a square matrix."
   ]
  },
  {
   "cell_type": "code",
   "execution_count": 5,
   "metadata": {
    "collapsed": false
   },
   "outputs": [
   ],
   "source": [
    "def my_det(M):\n",
    "    if M.ncols() == 1 and M.nrows() == 1:\n",
    "        return M[0,0]\n",
    "    else:\n",
    "        sum = 0\n",
    "        for j in range(M.ncols()):\n",
    "            cof = (-1)^(0+j) * M[0,j] #expanding along 1st row\n",
    "            M_sub = M.delete_rows([0])\n",
    "            M_sub = M_sub.delete_columns([j])\n",
    "            sum += cof * my_det(M_sub)\n",
    "    return sum"
   ]
  },
  {
   "cell_type": "markdown",
   "metadata": {
    "collapsed": false
   },
   "source": [
    "2b. Check that your function agrees with Sage's built-in function on a random 5 by 5 matrix over $\\mathbb{Z}$."
   ]
  },
  {
   "cell_type": "code",
   "execution_count": 6,
   "metadata": {
    "collapsed": false
   },
   "outputs": [
    {
     "data": {
      "text/plain": [
       "True"
      ]
     },
     "execution_count": 6,
     "metadata": {
     },
     "output_type": "execute_result"
    }
   ],
   "source": [
    "A = random_matrix(ZZ,5,5)\n",
    "A.determinant() == my_det(A)"
   ]
  },
  {
   "cell_type": "markdown",
   "metadata": {
    "collapsed": false
   },
   "source": [
    "2c. Do some timings for random $n \\times n$ matrices over $\\mathbb{Z}$ for $n=5, \\dots, 10$ comparing your function and Sage's built-in function. Make a single plot containing both sets of results."
   ]
  },
  {
   "cell_type": "code",
   "execution_count": 7,
   "metadata": {
    "collapsed": false
   },
   "outputs": [
   ],
   "source": [
    "time_built_in = [0 for x in range(5,11)]\n",
    "time_my_det = [0 for x in range(5,11)]\n",
    "import time\n",
    "\n",
    "for n in range(5,11):\n",
    "    A = random_matrix(ZZ,n,n)\n",
    "    #built in\n",
    "    t = time.time()\n",
    "    A.determinant()\n",
    "    t = time.time() - t\n",
    "    time_built_in[n-5] = t\n",
    "\n",
    "    #my function\n",
    "    s = time.time()\n",
    "    my_det(A)\n",
    "    s = time.time() - s\n",
    "    time_my_det[n-5] = s"
   ]
  },
  {
   "cell_type": "code",
   "execution_count": 13,
   "metadata": {
    "collapsed": false
   },
   "outputs": [
    {
     "name": "stdout",
     "output_type": "stream",
     "text": [
      "[2.193450927734375e-05, 2.5987625122070312e-05, 2.9087066650390625e-05, 3.314018249511719e-05, 4.38690185546875e-05, 4.315376281738281e-05]\n",
      "[0.016534090042114258, 0.0895700454711914, 0.5283520221710205, 3.5017831325531006, 33.60978317260742, 295.2963559627533]\n"
     ]
    },
    {
     "data": {
      "image/png": "[encoded data removed]"
     }
    }
   ],
   "source": [
    "print(time_built_in)\n",
    "print(time_my_det)\n",
    "\n",
    "import matplotlib.pyplot as plt\n",
    "plt.plot(range(5,11),time_built_in,'b',linewidth=3)\n",
    "plt.plot(range(5,11),time_my_det,'r')\n",
    "plt.show()\n",
    "#the scale of built in function times is so much smaller than scale of my fucntion times"
   ]
  },
  {
   "cell_type": "markdown",
   "metadata": {
    "collapsed": false
   },
   "source": [
    "2d. Explain the results of 2c in terms of the asymptotic complexity of the two methods."
   ]
  },
  {
   "cell_type": "markdown",
   "metadata": {
    "collapsed": false
   },
   "source": [
    "my_det requires a lot of recursive function calls which exponentially increases the complexity of the computation as n increases. The built in determinant funciton is very efficient and does not see this exponential in run time for the sample n."
   ]
  },
  {
   "cell_type": "markdown",
   "metadata": {
    "collapsed": false
   },
   "source": [
    "### Problem 3: Back to the poker table"
   ]
  },
  {
   "cell_type": "markdown",
   "metadata": {
    "collapsed": false
   },
   "source": [
    "Grading criteria: correctness of code."
   ]
  },
  {
   "cell_type": "markdown",
   "metadata": {
    "collapsed": false
   },
   "source": [
    "In a previous exercise, you constructed a \"deck\" of 52 playing cards consisting of the Cartesian product of \"ranks\" and \"suits\",\n",
    "and wrote a function to classify a set of 5 (distinct) cards as a poker hand. You may wish to reuse your answer to that problem here."
   ]
  },
  {
   "cell_type": "markdown",
   "metadata": {
    "collapsed": false
   },
   "source": [
    "3a. Write a function which, given two poker hands `h1` and `h2`, returns 1 if `h1` is the higher-ranking hand, -1 if `h2` is the higher-ranking hand, and 0 if the two hands are equally ranked. Note that poker hands are primarily sorted by their type, but there are rules to break some ties even among hands of the same type. (For example, a pair of queens outranks a pair of jacks.)"
   ]
  },
  {
   "cell_type": "code",
   "execution_count": 46,
   "metadata": {
    "collapsed": false
   },
   "outputs": [
   ],
   "source": [
    "### reusing code from previous hw\n",
    "#suits = Set(['C','D','H','S'])\n",
    "#ranks = Set([\"2\", \"3\", \"4\", \"5\", \"6\", \"7\", \"8\", \"9\", \"T\", \"J\", \"Q\", \"K\",\"A\"]) replacing suits with 1,2,3,4 and face cards with 11,12,13,14\n",
    "suits = Set([1,2,3,4])\n",
    "ranks = Set([2,3,4,5,6,7,8,9,10,11,12,13,14])\n",
    "deck = cartesian_product([suits, ranks])\n",
    "deck.cardinality()\n",
    "\n",
    "Hands = Subsets(deck, 5)\n",
    "Hands.cardinality() #matches binomial(52,5)\n",
    "iterator_hands = iter(Hands)"
   ]
  },
  {
   "cell_type": "code",
   "execution_count": 47,
   "metadata": {
    "collapsed": false
   },
   "outputs": [
   ],
   "source": [
    "#Helper Functions\n",
    "#This function counts how many of each rank there are in the hand\n",
    "#https://stackoverflow.com/questions/2161752/how-to-count-the-frequency-of-the-elements-in-a-list\n",
    "def rank_counts(hand):\n",
    "    from itertools import groupby\n",
    "    rank_seen = sorted([b for (a,b) in hand])\n",
    "    rank_seen_count = [len(list(group)) for key, group in groupby(rank_seen)]\n",
    "    rank_seen = sorted(list(set(rank_seen)))\n",
    "    return (rank_seen,rank_seen_count)\n",
    "\n",
    "\n",
    "def is_royal_flush(hand):\n",
    "    rank_seen = sorted([b for (a,b) in hand])\n",
    "    #if the n+1 rank is 1 larger than the nth rank for all 0<=n<=3, then it is a straight AND all same suit\n",
    "    if (rank_seen[0]==10) and (rank_seen[1]==11) and (rank_seen[2]==12) and (rank_seen[3]==13) and (rank_seen[4]==14) and len(set(a for (a,b) in hand)) == 1:\n",
    "        return True\n",
    "    return False\n",
    "\n",
    "\n",
    "def is_straight_flush(hand):\n",
    "    rank_seen = sorted([b for (a,b) in hand])\n",
    "    #if the n+1 rank is 1 larger than the nth rank for all 0<=n<=3, then it is a straight AND all same suit\n",
    "    if ((rank_seen[0]==2) and (rank_seen[1]==3) and (rank_seen[2]==4) and (rank_seen[3]==5) and (rank_seen[4]==14) or (rank_seen[0]+1==rank_seen[1]) and (rank_seen[1]+1==rank_seen[2]) and (rank_seen[2]+1==rank_seen[3]) and (rank_seen[3]+1==rank_seen[4])) and len(set(a for (a,b) in hand)) == 1 and (not is_royal_flush(hand)):\n",
    "        return True\n",
    "    return False\n",
    "\n",
    "\n",
    "def is_four_of(hand):\n",
    "    P = rank_counts(hand)\n",
    "    #check if hand has 2 types of ranks\n",
    "    if len(P[0]) != 2:\n",
    "        return False\n",
    "    if (1 in P[1]) and (4 in P[1]):\n",
    "        return True\n",
    "    else:\n",
    "        return False\n",
    "\n",
    "def is_full_house(hand):\n",
    "    P = rank_counts(hand)\n",
    "    #check if hand has 2 types of ranks\n",
    "    if len(P[0]) != 2:\n",
    "        return False\n",
    "    if (2 in P[1]) and (3 in P[1]):\n",
    "        return True\n",
    "    else:\n",
    "        return False\n",
    "\n",
    "#https://doc.sagemath.org/html/en/reference/combinat/sage/combinat/tutorial.html\n",
    "def is_flush(hand):\n",
    "    if (len(set(a for (a,b) in hand))==1) and (not is_straight_flush(hand)) and (not is_royal_flush(hand)):\n",
    "        return True\n",
    "    return False\n",
    "#a is the suit of the card, b is the rank. Set of the suits of the cards only shows distinct suits i.e. if all suits are the same, should have length 1\n",
    "\n",
    "\n",
    "def is_straight(hand):\n",
    "    rank_seen = sorted([b for (a,b) in hand])\n",
    "    #if the n+1 rank is 1 larger than the nth rank for all 0<=n<=3, then it is a straight\n",
    "    if ((rank_seen[0]==2) and (rank_seen[1]==3) and (rank_seen[2]==4) and (rank_seen[3]==5) and (rank_seen[4]==14) or (rank_seen[0]+1==rank_seen[1]) and (rank_seen[1]+1==rank_seen[2]) and (rank_seen[2]+1==rank_seen[3]) and (rank_seen[3]+1==rank_seen[4])) and (not is_straight_flush(hand)) and (not is_royal_flush(hand)):\n",
    "        return True\n",
    "    return False\n",
    "\n",
    "\n",
    "def is_three_of(hand):\n",
    "    P = rank_counts(hand)\n",
    "    #check if hand has 3 types of ranks\n",
    "    if len(P[0]) != 3:\n",
    "        return False\n",
    "    if 3 in P[1]:\n",
    "        return True\n",
    "    else:\n",
    "        return False\n",
    "\n",
    "\n",
    "def is_two_pair(hand):\n",
    "    P = rank_counts(hand)\n",
    "    #check if hand has 3 types of ranks\n",
    "    if len(P[0]) != 3:\n",
    "        return False\n",
    "    if 2 in P[1]:\n",
    "        return True\n",
    "    else:\n",
    "        return False\n",
    "\n",
    "\n",
    "def is_one_pair(hand):\n",
    "    P = rank_counts(hand)\n",
    "    #check if hand has 4 types of ranks\n",
    "    if len(P[0]) != 4:\n",
    "        return False\n",
    "    if 2 in P[1]:\n",
    "        return True\n",
    "    else:\n",
    "        return False\n",
    "\n",
    "\n",
    "def is_high_card(hand):\n",
    "    P = rank_counts(hand)\n",
    "    #check if hand has 5 types of ranks\n",
    "    if len(P[0]) != 5 or is_straight(hand) or is_flush(hand) or is_straight_flush(hand) or is_royal_flush(hand):\n",
    "        return False\n",
    "    else:\n",
    "        return True\n",
    "\n",
    "#return the class of the hand as a numeric value with royal straight flush as the highest value (9) and high card as the lowest value (0)\n",
    "def class_hand(hand):\n",
    "    if is_high_card(hand):\n",
    "        return 0\n",
    "    elif is_one_pair(hand):\n",
    "        return 1\n",
    "    elif is_two_pair(hand):\n",
    "        return 2\n",
    "    elif is_three_of(hand):\n",
    "        return 3\n",
    "    elif is_straight(hand):\n",
    "        return 4\n",
    "    elif is_flush(hand):\n",
    "        return 5\n",
    "    elif is_full_house(hand):\n",
    "        return 6\n",
    "    elif is_four_of(hand):\n",
    "        return 7\n",
    "    elif is_straight_flush(hand):\n",
    "        return 8\n",
    "    else:\n",
    "        return 9"
   ]
  },
  {
   "cell_type": "code",
   "execution_count": 48,
   "metadata": {
    "collapsed": false
   },
   "outputs": [
   ],
   "source": [
    "#assuming hands are equal value: returns 1 if value of hand 1 is bigger than value of hand 2, 2 if value of hand 1 is smaller than value of hand 2, 0 is they are equal value\n",
    "def high_value(h1,h2):\n",
    "    (A,B) = rank_counts(h1)\n",
    "    (P,Q) = rank_counts(h2)\n",
    "    #print(A,B,P,Q)\n",
    "\n",
    "    if len(B)==5: #straight flush, straight, flush, high card\n",
    "        for j in [4,3,2,1,0]:\n",
    "            if A[j] > P[j]:\n",
    "                return 1\n",
    "            elif A[j] < P[j]:\n",
    "                return -1\n",
    "            elif A[j] == P[j] and j==0:\n",
    "                return 0\n",
    "    elif len(B)==2: #4 of a kind, full house\n",
    "        index1 = [i for i in range(len(B)) if B[i]==max(B)]\n",
    "        index2 = [i for i in range(len(Q)) if Q[i]==max(Q)]\n",
    "        if A[index1[0]] > P[index2[0]]:\n",
    "            return 1\n",
    "        elif A[index1[0]] < P[index2[0]]:\n",
    "            return -1\n",
    "        elif A[index1[0]] == P[index2[0]]:\n",
    "            if is_four_of(h1):\n",
    "                k = 3\n",
    "            elif is_full_house(h1):\n",
    "                k = 1\n",
    "            index1 = [i for i in range(len(B)) if B[i]==max(B)-k]\n",
    "            index2 = [i for i in range(len(Q)) if Q[i]==max(Q)-k]\n",
    "            if A[index1[0]] > P[index2[0]]:\n",
    "                return 1\n",
    "            elif A[index1[0]] < P[index2[0]]:\n",
    "                return -1\n",
    "            elif A[index1[0]] == P[index2[0]]:\n",
    "                return 0\n",
    "    elif is_three_of(h1): #3 of a kind\n",
    "        index1 = [i for i in range(len(B)) if B[i]==max(B)]\n",
    "        index2 = [i for i in range(len(Q)) if Q[i]==max(Q)]\n",
    "        if A[index1[0]] > P[index2[0]]:\n",
    "            return 1\n",
    "        elif A[index1[0]] < P[index2[0]]:\n",
    "            return -1\n",
    "        else:\n",
    "            index1 = [i for i in range(len(B)) if B[i]==max(B)-2] #returns 2 indicies of the 2 single ranks\n",
    "            index2 = [i for i in range(len(Q)) if Q[i]==max(Q)-2]\n",
    "            for j in [1,0]:\n",
    "                if A[index1[j]] > P[index2[j]]:\n",
    "                    return 1\n",
    "                elif A[index1[j]] < P[index2[j]]:\n",
    "                    return -1\n",
    "                elif A[index1[j]] == P[index2[j]] and j==0:\n",
    "                    return 0\n",
    "    elif is_two_pair(h1): #2 pair\n",
    "        index1 = [i for i in range(len(B)) if B[i]==max(B)] #returns 2 indicies of the 2 pair\n",
    "        index2 = [i for i in range(len(Q)) if Q[i]==max(Q)]\n",
    "        for j in [1,0]:\n",
    "            if A[index1[j]] > P[index2[j]]:\n",
    "                return 1\n",
    "            elif A[index1[j]] < P[index2[j]]:\n",
    "                return -1\n",
    "            elif A[index1[j]] == P[index2[j]]:\n",
    "                continue\n",
    "\n",
    "        index1 = [i for i in range(len(B)) if B[i]==max(B)-1]\n",
    "        index2 = [i for i in range(len(Q)) if Q[i]==max(Q)-1]\n",
    "        if A[index1[0]] > P[index2[0]]:\n",
    "            return 1\n",
    "        elif A[index1[0]] < P[index2[0]]:\n",
    "            return -1\n",
    "        elif A[index1[0]] == P[index2[0]]:\n",
    "            return 0\n",
    "    elif is_one_pair(h1): #1 pair\n",
    "        index1 = [i for i in range(len(B)) if B[i]==max(B)]\n",
    "        index2 = [i for i in range(len(Q)) if Q[i]==max(Q)]\n",
    "        if A[index1[0]] > P[index2[0]]:\n",
    "            return 1\n",
    "        elif A[index1[0]] < P[index2[0]]:\n",
    "            return -1\n",
    "        else:\n",
    "            index1 = [i for i in range(len(B)) if B[i]==max(B)-1] #returns 3 indicies of the 3 single ranks\n",
    "            index2 = [i for i in range(len(Q)) if Q[i]==max(Q)-1]\n",
    "            for j in [2,1,0]:\n",
    "                if A[index1[j]] > P[index2[j]]:\n",
    "                    return 1\n",
    "                elif A[index1[j]] < P[index2[j]]:\n",
    "                    return -1\n",
    "                elif A[index1[j]] == P[index2[j]] and j==0:\n",
    "                    return 0"
   ]
  },
  {
   "cell_type": "code",
   "execution_count": 50,
   "metadata": {
    "collapsed": false
   },
   "outputs": [
   ],
   "source": [
    "# #testing cases\n",
    "# hand5 = {(2,9),(1,2),(3,5),(4,11),(2,11)} #2 pair case\n",
    "# hand6 = {(2,9),(1,8),(3,5),(4,11),(2,11)}\n",
    "\n",
    "# hand3 = {(2,9),(1,9),(3,9),(4,13),(2,13)} #full house case\n",
    "# hand4 = {(2,9),(1,9),(3,9),(4,11),(2,11)}\n",
    "\n",
    "# hand1 = {(2,4),(1,4),(3,4),(4,2),(2,8)} #3 of a kind case\n",
    "# hand2 = {(2,4),(1,4),(3,4),(4,3),(2,10)}\n",
    "\n",
    "# hand7 = {(2,5),(1,5),(3,8),(4,8),(2,11)} #2 pair\n",
    "# hand8 = {(2,4),(1,4),(3,8),(4,8),(2,10)}\n",
    "\n",
    "# handA = {(2,5),(1,5),(3,3),(4,9),(2,11)} #1 pair\n",
    "# handB = {(2,5),(1,5),(3,7),(4,9),(2,11)}\n",
    "# u = rank_counts(handA)\n",
    "# type(u[1])\n",
    "\n",
    "# best = {(2, 7), (2, 8), (1, 8), (3, 8), (4, 8)}\n",
    "# i = {(3, 8), (2, 8), (1, 8), (1, 6), (4, 8)}\n",
    "\n",
    "# high_value(best,i)"
   ]
  },
  {
   "cell_type": "code",
   "execution_count": 51,
   "metadata": {
    "collapsed": false
   },
   "outputs": [
   ],
   "source": [
    "def higher_rank(h1,h2):\n",
    "    if class_hand(h1) > class_hand(h2):\n",
    "        return 1\n",
    "    elif class_hand(h1) < class_hand(h2):\n",
    "        return -1\n",
    "    elif class_hand(h1) == class_hand(h2) and high_value(h1,h2)==1:\n",
    "        return 1\n",
    "    elif class_hand(h1) == class_hand(h2) and high_value(h1,h2)==-1:\n",
    "        return -1\n",
    "    else:\n",
    "        return 0"
   ]
  },
  {
   "cell_type": "code",
   "execution_count": 52,
   "metadata": {
    "collapsed": false
   },
   "outputs": [
   ],
   "source": [
    "# #testing cases\n",
    "# for i in range(5):\n",
    "#     handA = Hands.random_element()\n",
    "#     handB = Hands.random_element()\n",
    "#     print(handA)\n",
    "#     print(handB)\n",
    "#     print(higher_rank(handA,handB))"
   ]
  },
  {
   "cell_type": "markdown",
   "metadata": {
    "collapsed": false
   },
   "source": [
    "3b. Define a Python class called \"Hand\" with the following property: if `s1` and `s2` are two poker hands, then\n",
    "```\n",
    "h1 = Hand(s1)\n",
    "h2 = Hand(s2)\n",
    "print(h1 < h2)\n",
    "```\n",
    "will print True if and only if `s2` is (strictly) higher in ranking than `s1`. Your class should implement the method ``__lt__`` to achieve operator overloading. (Do not implement ``__cmp__``; this works in Python 2 but will fail in Python 3.)"
   ]
  },
  {
   "cell_type": "code",
   "execution_count": 53,
   "metadata": {
    "collapsed": false
   },
   "outputs": [
   ],
   "source": [
    "class Hand:\n",
    "    # rest of the definition goes here\n",
    "    def __init__(self,hand):\n",
    "        self.h = hand\n",
    "\n",
    "    def __lt__(self,hand2):\n",
    "        if higher_rank(self.h,hand2.h) == -1:\n",
    "            return True\n",
    "        else:\n",
    "            return False"
   ]
  },
  {
   "cell_type": "code",
   "execution_count": 54,
   "metadata": {
    "collapsed": false
   },
   "outputs": [
    {
     "name": "stdout",
     "output_type": "stream",
     "text": [
      "True\n"
     ]
    }
   ],
   "source": [
    "# Assume that s1 and s2 are two lists of five distinct cards each.\n",
    "s1 = {(2,5),(1,5),(3,3),(4,9),(2,11)}\n",
    "s2 = {(2,5),(1,5),(3,7),(4,9),(2,11)} #larger\n",
    "h1 = Hand(s1)\n",
    "h2 = Hand(s2)\n",
    "print(h1 < h2)"
   ]
  },
  {
   "cell_type": "markdown",
   "metadata": {
    "collapsed": false
   },
   "source": [
    "### Problem 4: Texas Hold 'Em"
   ]
  },
  {
   "cell_type": "markdown",
   "metadata": {
    "collapsed": false
   },
   "source": [
    "Grading criteria: correctness of code, to be judged as if your solution to problem 3 is completely correct."
   ]
  },
  {
   "cell_type": "markdown",
   "metadata": {
    "collapsed": false
   },
   "source": [
    "Texas Hold 'Em is the variety of poker most often shown on television. Each player is initially dealt two cards (kept hidden), and eventually five more cards are dealt (face up) on the table. Each player's holding is ranked according to the best hand that can be made from their two cards plus the five common cards. (The bidding aspect of the game is not relevant for this problem.)\n"
   ]
  },
  {
   "cell_type": "markdown",
   "metadata": {
    "collapsed": false
   },
   "source": [
    "3a. Write a function which, given a set of seven distinct cards, identifies the highest-ranking hand which can be made using some five of the cards. In case of a tie, you may return any hand which ties for the highest ranking."
   ]
  },
  {
   "cell_type": "code",
   "execution_count": 55,
   "metadata": {
    "collapsed": false
   },
   "outputs": [
   ],
   "source": [
    "#assumes set of 7 distinct cards has inputs of the form {(s,r),...,(s,r)} where suits range from 1,2,3,4 and ranks range from 2,...,14\n",
    "def best_texas(cards):\n",
    "    hand = Subsets(cards,5)\n",
    "    best = hand.an_element() #initalize the best hand variable\n",
    "#    print(\"initialized is\",best)\n",
    "#    count=0\n",
    "    for i in iter(hand):\n",
    "#        count+=1\n",
    "#        print(\"-----------------------------------------------------------------\")\n",
    "#        print(\"best is\",best)\n",
    "#        print(\"i is\",i)\n",
    "        if higher_rank(best,i) == -1:\n",
    "            best = i #if the rank of i is higher than the current best, replace it\n",
    "        else:\n",
    "            continue #if the rank of i is less than or equal to the current best, continue\n",
    "#    print(best,count)\n",
    "    return best"
   ]
  },
  {
   "cell_type": "code",
   "execution_count": 56,
   "metadata": {
    "collapsed": false
   },
   "outputs": [
   ],
   "source": [
    "# #more testing\n",
    "# suits = Set([1,2,3,4])\n",
    "# ranks = Set([2,3,4,5,6,7,8,9,10,11,12,13,14])\n",
    "# deck = cartesian_product([suits, ranks])\n",
    "# deck.cardinality()\n",
    "\n",
    "# cards = Subsets(deck, 7)\n",
    "# c = {(3, 8), (2, 7), (1, 8), (1, 6), (4, 8), (1, 10), (2, 8)} #test cards\n",
    "# print(c,type(c))\n",
    "# # print(\"c is\",c)\n",
    "# best_texas(c)"
   ]
  },
  {
   "cell_type": "markdown",
   "metadata": {
    "collapsed": false
   },
   "source": [
    "3b. Write a function which, given two pairs of cards, computes the probability that for a random set of five common cards (where all nine cards in question are distinct), the first pair will outrank the second pair. For full credit, you should do this by exhausting over all possibilities for the common cards, rather than doing a random sample."
   ]
  },
  {
   "cell_type": "code",
   "execution_count": 57,
   "metadata": {
    "collapsed": false
   },
   "outputs": [
   ],
   "source": [
    "def best_texas_2pair(pair1,pair2,BOOT):\n",
    "    #ensuring the rest of the remaining deck cards are distinct\n",
    "    suits = Set([1,2,3,4])\n",
    "    ranks = Set([2,3,4,5,6,7,8,9,10,11,12,13,14])\n",
    "    deck = cartesian_product([suits, ranks])\n",
    "    deck = set(deck) - pair1 - pair2 #remaining deck is 52-4=48 cards\n",
    "    random_hand = Subsets(deck, 5)\n",
    "\n",
    "    count = 0\n",
    "    for i in range(BOOT):\n",
    "        r = set(random_hand.random_element()) #select 5 random cards from the remaining deck\n",
    "        hand1 = pair1.union(r); hand2 = pair2.union(r) #union the pair with 5 selected cards for a total of 7\n",
    "        best1 = best_texas(hand1)\n",
    "        best2 = best_texas(hand2)\n",
    "        if Hand(best2) < Hand(best1):\n",
    "            count+=1\n",
    "\n",
    "    return count/BOOT"
   ]
  },
  {
   "cell_type": "code",
   "execution_count": 58,
   "metadata": {
    "collapsed": false
   },
   "outputs": [
    {
     "name": "stdout",
     "output_type": "stream",
     "text": [
      "(8709/10000, 0.870900000000000)\n"
     ]
    }
   ],
   "source": [
    "p1 = {(2,8),(4,8)}\n",
    "p2 = {(4,7),(1,3)}\n",
    "prob = best_texas_2pair(p1,p2,10**4)\n",
    "print(prob,N(prob))"
   ]
  },
  {
   "cell_type": "markdown",
   "metadata": {
    "collapsed": false
   },
   "source": [
    "3c. Write a function, given *one* pair of distinct cards, computes the probability that if one chooses another pair and five common cards at random from the remaining cards (so again all nine cards in question are distinct), the given pair will outrank the other pair. For this problem, instead of exhaustion, use $10^6$ random samples."
   ]
  },
  {
   "cell_type": "code",
   "execution_count": 61,
   "metadata": {
    "collapsed": false
   },
   "outputs": [
   ],
   "source": [
    "def best_texas_1pair(pair1,BOOT):\n",
    "    #ensuring the rest of the remaining deck cards are distinct\n",
    "    suits = Set([1,2,3,4])\n",
    "    ranks = Set([2,3,4,5,6,7,8,9,10,11,12,13,14])\n",
    "    deck = cartesian_product([suits, ranks])\n",
    "    deckA = set(deck) - pair1 #remaining deck is 52-2=50 cards\n",
    "\n",
    "    count = 0\n",
    "    for i in range(BOOT):\n",
    "        pair2 = set(Subsets(deckA,2).random_element()) #select a random pair from the deck\n",
    "        deck = deckA - pair2 #remaining deck is 50-2=48 cards\n",
    "        random_hand = Subsets(deck,5)\n",
    "        r = set(random_hand.random_element()) #select 5 random cards from the remaining deck\n",
    "        hand1 = pair1.union(r); hand2 = pair2.union(r) #union the pair with 5 selected cards for a total of 7\n",
    "        best1 = best_texas(hand1)\n",
    "        best2 = best_texas(hand2)\n",
    "        if Hand(best2) < Hand(best1):\n",
    "            count+=1\n",
    "\n",
    "    return count/BOOT"
   ]
  },
  {
   "cell_type": "code",
   "execution_count": 62,
   "metadata": {
    "collapsed": false
   },
   "outputs": [
    {
     "name": "stdout",
     "output_type": "stream",
     "text": [
      "(1369/2000, 0.684500000000000)\n"
     ]
    }
   ],
   "source": [
    "p1 = {(2,8),(4,8)}\n",
    "prob = best_texas_1pair(p1,10**4)\n",
    "print(prob,N(prob))"
   ]
  },
  {
   "cell_type": "markdown",
   "metadata": {
    "collapsed": false
   },
   "source": [
    "3d. Determine the values of the function you wrote in 3c for all possible pairs of distinct tards. Note that this probability should depend only on the values of the two cards and (if the values are distinct) whether the two cards are of the same or different suits."
   ]
  },
  {
   "cell_type": "code",
   "execution_count": 64,
   "metadata": {
    "collapsed": false
   },
   "outputs": [
   ],
   "source": [
    "dict = {}\n",
    "different_suit = [(i,j) for i in range(2,14+1) for j in range(i,14+1)]\n",
    "same_suit = [(i,j) for i in range(2,14+1) for j in range(i,14+1) if i != j]\n",
    "BootNumber = 10**3\n",
    "\n",
    "for i in range(len(different_suit)):\n",
    "    pair = different_suit[i]\n",
    "    name = '(D,%d,%d)' % (pair[0],pair[1])\n",
    "    pair = {(1,pair[0]),(2,pair[1])} #suits are 1&2 which are placeholders to represent different suits\n",
    "    prob = best_texas_1pair(pair,BootNumber)\n",
    "    temp = {name: prob}\n",
    "    dict.update(temp)\n",
    "\n",
    "for i in range(len(same_suit)):\n",
    "    pair = same_suit[i]\n",
    "    name = '(S,%d,%d)' % (pair[0],pair[1])\n",
    "    pair = {(1,pair[0]),(1,pair[1])} #suits are 1&1 which are placeholders to represent same suits\n",
    "    prob = best_texas_1pair(pair,BootNumber)\n",
    "    temp = {name: prob}\n",
    "    dict.update(temp)"
   ]
  },
  {
   "cell_type": "code",
   "execution_count": 66,
   "metadata": {
    "collapsed": false
   },
   "outputs": [
    {
     "data": {
      "text/plain": [
       "{'(D,10,10)': 383/500,\n",
       " '(D,10,11)': 529/1000,\n",
       " '(D,10,12)': 549/1000,\n",
       " '(D,10,13)': 573/1000,\n",
       " '(D,10,14)': 313/500,\n",
       " '(D,11,11)': 97/125,\n",
       " '(D,11,12)': 567/1000,\n",
       " '(D,11,13)': 597/1000,\n",
       " '(D,11,14)': 83/125,\n",
       " '(D,12,12)': 399/500,\n",
       " '(D,12,13)': 609/1000,\n",
       " '(D,12,14)': 317/500,\n",
       " '(D,13,13)': 413/500,\n",
       " '(D,13,14)': 83/125,\n",
       " '(D,14,14)': 173/200,\n",
       " '(D,2,10)': 411/1000,\n",
       " '(D,2,11)': 23/50,\n",
       " '(D,2,12)': 219/500,\n",
       " '(D,2,13)': 247/500,\n",
       " '(D,2,14)': 53/100,\n",
       " '(D,2,2)': 521/1000,\n",
       " '(D,2,3)': 309/1000,\n",
       " '(D,2,4)': 137/500,\n",
       " '(D,2,5)': 149/500,\n",
       " '(D,2,6)': 8/25,\n",
       " '(D,2,7)': 339/1000,\n",
       " '(D,2,8)': 43/125,\n",
       " '(D,2,9)': 179/500,\n",
       " '(D,3,10)': 413/1000,\n",
       " '(D,3,11)': 453/1000,\n",
       " '(D,3,12)': 93/200,\n",
       " '(D,3,13)': 119/250,\n",
       " '(D,3,14)': 569/1000,\n",
       " '(D,3,3)': 107/200,\n",
       " '(D,3,4)': 301/1000,\n",
       " '(D,3,5)': 8/25,\n",
       " '(D,3,6)': 43/125,\n",
       " '(D,3,7)': 373/1000,\n",
       " '(D,3,8)': 337/1000,\n",
       " '(D,3,9)': 367/1000,\n",
       " '(D,4,10)': 83/200,\n",
       " '(D,4,11)': 431/1000,\n",
       " '(D,4,12)': 23/50,\n",
       " '(D,4,13)': 13/25,\n",
       " '(D,4,14)': 563/1000,\n",
       " '(D,4,4)': 139/250,\n",
       " '(D,4,5)': 9/25,\n",
       " '(D,4,6)': 71/200,\n",
       " '(D,4,7)': 351/1000,\n",
       " '(D,4,8)': 77/200,\n",
       " '(D,4,9)': 2/5,\n",
       " '(D,5,10)': 17/40,\n",
       " '(D,5,11)': 229/500,\n",
       " '(D,5,12)': 473/1000,\n",
       " '(D,5,13)': 257/500,\n",
       " '(D,5,14)': 581/1000,\n",
       " '(D,5,5)': 583/1000,\n",
       " '(D,5,6)': 369/1000,\n",
       " '(D,5,7)': 191/500,\n",
       " '(D,5,8)': 79/200,\n",
       " '(D,5,9)': 413/1000,\n",
       " '(D,6,10)': 221/500,\n",
       " '(D,6,11)': 91/200,\n",
       " '(D,6,12)': 91/200,\n",
       " '(D,6,13)': 271/500,\n",
       " '(D,6,14)': 299/500,\n",
       " '(D,6,6)': 613/1000,\n",
       " '(D,6,7)': 197/500,\n",
       " '(D,6,8)': 383/1000,\n",
       " '(D,6,9)': 52/125,\n",
       " '(D,7,10)': 123/250,\n",
       " '(D,7,11)': 47/100,\n",
       " '(D,7,12)': 131/250,\n",
       " '(D,7,13)': 561/1000,\n",
       " '(D,7,14)': 69/125,\n",
       " '(D,7,7)': 5/8,\n",
       " '(D,7,8)': 211/500,\n",
       " '(D,7,9)': 213/500,\n",
       " '(D,8,10)': 229/500,\n",
       " '(D,8,11)': 247/500,\n",
       " '(D,8,12)': 123/250,\n",
       " '(D,8,13)': 279/500,\n",
       " '(D,8,14)': 569/1000,\n",
       " '(D,8,8)': 679/1000,\n",
       " '(D,8,9)': 97/200,\n",
       " '(D,9,10)': 251/500,\n",
       " '(D,9,11)': 263/500,\n",
       " '(D,9,12)': 137/250,\n",
       " '(D,9,13)': 569/1000,\n",
       " '(D,9,14)': 613/1000,\n",
       " '(D,9,9)': 357/500,\n",
       " '(S,10,11)': 139/250,\n",
       " '(S,10,12)': 597/1000,\n",
       " '(S,10,13)': 617/1000,\n",
       " '(S,10,14)': 79/125,\n",
       " '(S,11,12)': 589/1000,\n",
       " '(S,11,13)': 31/50,\n",
       " '(S,11,14)': 5/8,\n",
       " '(S,12,13)': 619/1000,\n",
       " '(S,12,14)': 643/1000,\n",
       " '(S,13,14)': 669/1000,\n",
       " '(S,2,10)': 209/500,\n",
       " '(S,2,11)': 23/50,\n",
       " '(S,2,12)': 241/500,\n",
       " '(S,2,13)': 257/500,\n",
       " '(S,2,14)': 277/500,\n",
       " '(S,2,3)': 323/1000,\n",
       " '(S,2,4)': 41/125,\n",
       " '(S,2,5)': 341/1000,\n",
       " '(S,2,6)': 89/250,\n",
       " '(S,2,7)': 329/1000,\n",
       " '(S,2,8)': 183/500,\n",
       " '(S,2,9)': 52/125,\n",
       " '(S,3,10)': 219/500,\n",
       " '(S,3,11)': 87/200,\n",
       " '(S,3,12)': 509/1000,\n",
       " '(S,3,13)': 539/1000,\n",
       " '(S,3,14)': 29/50,\n",
       " '(S,3,4)': 73/200,\n",
       " '(S,3,5)': 373/1000,\n",
       " '(S,3,6)': 351/1000,\n",
       " '(S,3,7)': 189/500,\n",
       " '(S,3,8)': 47/125,\n",
       " '(S,3,9)': 97/250,\n",
       " '(S,4,10)': 427/1000,\n",
       " '(S,4,11)': 493/1000,\n",
       " '(S,4,12)': 121/250,\n",
       " '(S,4,13)': 521/1000,\n",
       " '(S,4,14)': 303/500,\n",
       " '(S,4,5)': 399/1000,\n",
       " '(S,4,6)': 393/1000,\n",
       " '(S,4,7)': 101/250,\n",
       " '(S,4,8)': 41/100,\n",
       " '(S,4,9)': 427/1000,\n",
       " '(S,5,10)': 213/500,\n",
       " '(S,5,11)': 47/100,\n",
       " '(S,5,12)': 63/125,\n",
       " '(S,5,13)': 519/1000,\n",
       " '(S,5,14)': 579/1000,\n",
       " '(S,5,6)': 2/5,\n",
       " '(S,5,7)': 203/500,\n",
       " '(S,5,8)': 217/500,\n",
       " '(S,5,9)': 219/500,\n",
       " '(S,6,10)': 513/1000,\n",
       " '(S,6,11)': 61/125,\n",
       " '(S,6,12)': 539/1000,\n",
       " '(S,6,13)': 563/1000,\n",
       " '(S,6,14)': 297/500,\n",
       " '(S,6,7)': 221/500,\n",
       " '(S,6,8)': 417/1000,\n",
       " '(S,6,9)': 223/500,\n",
       " '(S,7,10)': 121/250,\n",
       " '(S,7,11)': 501/1000,\n",
       " '(S,7,12)': 66/125,\n",
       " '(S,7,13)': 299/500,\n",
       " '(S,7,14)': 569/1000,\n",
       " '(S,7,8)': 87/200,\n",
       " '(S,7,9)': 57/125,\n",
       " '(S,8,10)': 499/1000,\n",
       " '(S,8,11)': 531/1000,\n",
       " '(S,8,12)': 111/200,\n",
       " '(S,8,13)': 583/1000,\n",
       " '(S,8,14)': 31/50,\n",
       " '(S,8,9)': 99/200,\n",
       " '(S,9,10)': 501/1000,\n",
       " '(S,9,11)': 67/125,\n",
       " '(S,9,12)': 111/200,\n",
       " '(S,9,13)': 297/500,\n",
       " '(S,9,14)': 621/1000}"
      ]
     },
     "execution_count": 66,
     "metadata": {
     },
     "output_type": "execute_result"
    }
   ],
   "source": [
    "dict"
   ]
  },
  {
   "cell_type": "markdown",
   "metadata": {
    "collapsed": false
   },
   "source": [
    "### Problem 5: Adjacent states"
   ]
  },
  {
   "cell_type": "markdown",
   "metadata": {
    "collapsed": false
   },
   "source": [
    "Grading criteria: correctness of code."
   ]
  },
  {
   "cell_type": "markdown",
   "metadata": {
    "collapsed": false
   },
   "source": [
    "Throughout this problem, by \"US states\" we mean the 50 US states *plus* the District of Columbia."
   ]
  },
  {
   "cell_type": "markdown",
   "metadata": {
    "collapsed": false
   },
   "source": [
    "5a. The following string, adapted from [this source](https://writeonly.wordpress.com/2009/03/20/adjacency-list-of-states-of-the-united-states-us/), represents the adjacencies among US states, as represented by their [standard postal abbreviations](https://en.wikipedia.org/wiki/List_of_U.S._state_abbreviations).\n",
    "\n",
    "Starting from `s`, construct a graph whose vertices are labeled by the postal abbreviations, with an edge between two vertices if and only if they correspond to adjacent states."
   ]
  },
  {
   "cell_type": "code",
   "execution_count": 24,
   "metadata": {
    "collapsed": false
   },
   "outputs": [
   ],
   "source": [
    "s = \"\"\"\n",
    "AK\n",
    "AL,MS,TN,GA,FL\n",
    "AR,MO,TN,MS,LA,TX,OK\n",
    "AZ,CA,NV,UT,NM\n",
    "CA,OR,NV,AZ\n",
    "CO,WY,NE,KS,OK,NM,UT\n",
    "CT,NY,MA,RI\n",
    "DC,MD,VA\n",
    "DE,MD,PA,NJ\n",
    "FL,AL,GA\n",
    "GA,FL,AL,TN,NC,SC\n",
    "HI\n",
    "IA,MN,WI,IL,MO,NE,SD\n",
    "ID,MT,WY,UT,NV,OR,WA\n",
    "IL,IN,KY,MO,IA,WI\n",
    "IN,MI,OH,KY,IL\n",
    "KS,NE,MO,OK,CO\n",
    "KY,IN,OH,WV,VA,TN,MO,IL\n",
    "LA,TX,AR,MS\n",
    "MA,RI,CT,NY,NH,VT\n",
    "MD,VA,WV,PA,DC,DE\n",
    "ME,NH\n",
    "MI,WI,IN,OH\n",
    "MN,WI,IA,SD,ND\n",
    "MO,IA,IL,KY,TN,AR,OK,KS,NE\n",
    "MS,LA,AR,TN,AL\n",
    "MT,ND,SD,WY,ID\n",
    "NC,VA,TN,GA,SC\n",
    "ND,MN,SD,MT\n",
    "NE,SD,IA,MO,KS,CO,WY\n",
    "NH,VT,ME,MA\n",
    "NJ,DE,PA,NY\n",
    "NM,AZ,CO,OK,TX\n",
    "NV,ID,UT,AZ,CA,OR\n",
    "NY,NJ,PA,VT,MA,CT\n",
    "OH,PA,WV,KY,IN,MI\n",
    "OK,KS,MO,AR,TX,NM,CO\n",
    "OR,CA,NV,ID,WA\n",
    "PA,NY,NJ,DE,MD,WV,OH\n",
    "RI,CT,MA\n",
    "SC,GA,NC\n",
    "SD,ND,MN,IA,NE,WY,MT\n",
    "TN,KY,VA,NC,GA,AL,MS,AR,MO\n",
    "TX,NM,OK,AR,LA\n",
    "UT,ID,WY,CO,AZ,NV\n",
    "VA,NC,TN,KY,WV,MD,DC\n",
    "VT,NY,NH,MA\n",
    "WA,ID,OR\n",
    "WI,MI,MN,IA,IL\n",
    "WV,OH,PA,MD,VA,KY\n",
    "WY,MT,SD,NE,CO,UT,ID\n",
    "\"\"\""
   ]
  },
  {
   "cell_type": "code",
   "execution_count": 25,
   "metadata": {
    "collapsed": false
   },
   "outputs": [
   ],
   "source": [
    "# M = matrix(51,51)\n",
    "# row = s.splitlines() #reformatting string\n",
    "# states = [[] for x in range(51)]\n",
    "# for i in range(0,51):\n",
    "#     if row[i+1] == \"AK\" or row[i+1] == \"HI\":\n",
    "#         states[i] = row[i+1]\n",
    "#     else:\n",
    "#         states[i] = row[i+1].split(',')[0]\n",
    "\n",
    "# for i in range(0,51): #indexing over the adjacent states #indexing over the 51 states\n",
    "#     if row[i+1] == \"AK\" or row[i+1] == \"HI\":\n",
    "#         adj = row[i+1]\n",
    "#     else:\n",
    "#         adj = row[i+1].split(',') #formatting\n",
    "\n",
    "#     if adj == \"AK\" or adj == \"HI\":\n",
    "#         continue #skips this row because alaska and hawaii are not connected to anything\n",
    "#     else:\n",
    "#         for j in range(0,51): \n",
    "#             for k in range(1,len(adj)):\n",
    "#                 if adj[k] == states[j]:\n",
    "#                     M[i,j] = 1"
   ]
  },
  {
   "cell_type": "code",
   "execution_count": 26,
   "metadata": {
    "collapsed": false,
    "scrolled": true
   },
   "outputs": [
   ],
   "source": [
    "H = Graph()\n",
    "row = s.splitlines() #reformatting string\n",
    "states = [[] for x in range(51)]\n",
    "for i in range(0,51):\n",
    "    if row[i+1] == \"AK\" or row[i+1] == \"HI\":\n",
    "        H.add_vertex(row[i+1])\n",
    "    else:\n",
    "        H.add_vertex(row[i+1].split(',')[0])\n",
    "\n",
    "for i in range(0,51): #indexing over the adjacent states #indexing over the 51 states\n",
    "    if row[i+1] == \"AK\" or row[i+1] == \"HI\":\n",
    "        continue #no edges\n",
    "    else:\n",
    "        adj = row[i+1].split(',') #formatting\n",
    "\n",
    "    if adj == \"AK\" or adj == \"HI\":\n",
    "        continue #skips this row because alaska and hawaii are not connected to anything\n",
    "    else:\n",
    "        for j in range(1,len(adj)):\n",
    "            H.add_edge(adj[0],adj[j])"
   ]
  },
  {
   "cell_type": "code",
   "execution_count": 27,
   "metadata": {
    "collapsed": false
   },
   "outputs": [
    {
     "data": {
      "image/png": "[encoded data removed]"
     }
    }
   ],
   "source": [
    "H.plot()"
   ]
  },
  {
   "cell_type": "markdown",
   "metadata": {
    "collapsed": false
   },
   "source": [
    "5b. Compute a maximum flow and a minimum cut for this graph, using California as the source and the District of Columbia as the sink."
   ]
  },
  {
   "cell_type": "code",
   "execution_count": 29,
   "metadata": {
    "collapsed": false
   },
   "outputs": [
    {
     "name": "stdout",
     "output_type": "stream",
     "text": [
      "2\n"
     ]
    },
    {
     "data": {
      "image/png": "[encoded data removed]"
     }
    }
   ],
   "source": [
    "P = H.flow('CA','DC',value_only=False)\n",
    "print(P[0])\n",
    "P[1]"
   ]
  },
  {
   "cell_type": "code",
   "execution_count": 31,
   "metadata": {
    "collapsed": false
   },
   "outputs": [
    {
     "data": {
      "text/plain": [
       "2"
      ]
     },
     "execution_count": 31,
     "metadata": {
     },
     "output_type": "execute_result"
    }
   ],
   "source": [
    "H.edge_cut('CA','DC')"
   ]
  },
  {
   "cell_type": "markdown",
   "metadata": {
    "collapsed": false
   },
   "source": [
    "### Problem 6: Cholesky dempositions"
   ]
  },
  {
   "cell_type": "markdown",
   "metadata": {
    "collapsed": false
   },
   "source": [
    "Grading criteria: correctness of explanations and code."
   ]
  },
  {
   "cell_type": "markdown",
   "metadata": {
    "collapsed": false
   },
   "source": [
    "6a. In your words, explain what the *Cholesky decomposition* of a matrix is, for which matrices it is defined, and why it is useful in numerical linear algebra."
   ]
  },
  {
   "cell_type": "markdown",
   "metadata": {
    "collapsed": false
   },
   "source": [
    "Cholesky decompostion is defined only on Hermitian positive-definite square nxn matricies where it decomposes the matrix A into a lower triangular matrix and an upper triangular matrix such that $A=L*U$ This is useful in numerical linear algebra because a generic system of linear equations $Ax=b$ can be rewritten as $LUx=b$. Let $Ux=y$ and solve for $Ly=b$ which can easily be solved for by forward substitution then solving $Ux=y$ using back substituion. Solving using forward and back substitution is cheaper than the generic approach to solving $Ax=b$."
   ]
  },
  {
   "cell_type": "markdown",
   "metadata": {
    "collapsed": false
   },
   "source": [
    "6b. Use Sage's `cholesky` function to compute the Cholesky decomposition of the matrix\n",
    "$$\n",
    "M = \\left(\\begin{array}{rrrrr}\n",
    "3 & -1 & -1 & -3 & -2 \\\\\n",
    "-1 & 6 & 5 & 1 & 2 \\\\\n",
    "-1 & 5 & 6 & 1 & 3 \\\\\n",
    "-3 & 1 & 1 & 5 & 1 \\\\\n",
    "-2 & 2 & 3 & 1 & 6\n",
    "        \\end{array}\\right).\n",
    "$$"
   ]
  },
  {
   "cell_type": "code",
   "execution_count": 33,
   "metadata": {
    "collapsed": false
   },
   "outputs": [
    {
     "data": {
      "text/plain": [
       "[  1.732050807568878?                    0                    0                    0                    0]\n",
       "[-0.5773502691896258?   2.380476142847617?                    0                    0                    0]\n",
       "[-0.5773502691896258?   1.960392117639214?   1.350381209794000?                    0                    0]\n",
       "[ -1.732050807568878?                    0                    0   1.414213562373095?                    0]\n",
       "[ -1.154700538379252?  0.5601120336112039?  0.9147743679249674? -0.7071067811865475?   1.736700616761008?]"
      ]
     },
     "execution_count": 33,
     "metadata": {
     },
     "output_type": "execute_result"
    }
   ],
   "source": [
    "M = matrix([[3,-1,-1,-3,-2],[-1,6,5,1,2],[-1,5,6,1,3],[-3,1,1,5,1],[-2,2,3,1,6]])\n",
    "L = M.cholesky()\n",
    "#L*L.transpose()\n",
    "L"
   ]
  },
  {
   "cell_type": "markdown",
   "metadata": {
    "collapsed": false
   },
   "source": [
    "6c. Repeat the computation using numpy."
   ]
  },
  {
   "cell_type": "code",
   "execution_count": 34,
   "metadata": {
    "collapsed": false
   },
   "outputs": [
    {
     "data": {
      "text/plain": [
       "array([[  1.73205081e+00,   0.00000000e+00,   0.00000000e+00,\n",
       "          0.00000000e+00,   0.00000000e+00],\n",
       "       [ -5.77350269e-01,   2.38047614e+00,   0.00000000e+00,\n",
       "          0.00000000e+00,   0.00000000e+00],\n",
       "       [ -5.77350269e-01,   1.96039212e+00,   1.35038121e+00,\n",
       "          0.00000000e+00,   0.00000000e+00],\n",
       "       [ -1.73205081e+00,  -9.32773914e-17,   0.00000000e+00,\n",
       "          1.41421356e+00,   0.00000000e+00],\n",
       "       [ -1.15470054e+00,   5.60112034e-01,   9.14774368e-01,\n",
       "         -7.07106781e-01,   1.73670062e+00]])"
      ]
     },
     "execution_count": 34,
     "metadata": {
     },
     "output_type": "execute_result"
    }
   ],
   "source": [
    "import numpy as np\n",
    "np.linalg.cholesky(M)"
   ]
  },
  {
   "cell_type": "markdown",
   "metadata": {
    "collapsed": false
   },
   "source": [
    "6d. Repeat the computation using Octave. You may either switch to the Octave kernel or call Octave directly from Sage."
   ]
  },
  {
   "cell_type": "code",
   "execution_count": 4,
   "metadata": {
    "collapsed": false
   },
   "outputs": [
    {
     "name": "stdout",
     "output_type": "stream",
     "text": [
      "ans =\n"
     ]
    },
    {
     "name": "stdout",
     "output_type": "stream",
     "text": [
      "\n"
     ]
    },
    {
     "name": "stdout",
     "output_type": "stream",
     "text": [
      "   1.73205   0.00000   0.00000   0.00000   0.00000\n"
     ]
    },
    {
     "name": "stdout",
     "output_type": "stream",
     "text": [
      "  -0.57735   2.38048   0.00000   0.00000   0.00000\n"
     ]
    },
    {
     "name": "stdout",
     "output_type": "stream",
     "text": [
      "  -0.57735   1.96039   1.35038   0.00000   0.00000\n"
     ]
    },
    {
     "name": "stdout",
     "output_type": "stream",
     "text": [
      "  -1.73205  -0.00000   0.00000   1.41421   0.00000\n"
     ]
    },
    {
     "name": "stdout",
     "output_type": "stream",
     "text": [
      "  -1.15470   0.56011   0.91477  -0.70711   1.73670\n"
     ]
    },
    {
     "name": "stdout",
     "output_type": "stream",
     "text": [
      "\n"
     ]
    }
   ],
   "source": [
    "#Octave kernel\n",
    "M = [3,-1,-1,-3,-2; -1,6,5,1,2; -1,5,6,1,3; -3,1,1,5,1; -2,2,3,1,6];\n",
    "chol(M,'lower')"
   ]
  },
  {
   "cell_type": "markdown",
   "metadata": {
    "collapsed": false
   },
   "source": [
    "6e. Repeat the computation using Julia. You will need to switch to the Julia kernel for this."
   ]
  },
  {
   "cell_type": "code",
   "execution_count": 12,
   "metadata": {
    "collapsed": false
   },
   "outputs": [
    {
     "data": {
      "text/plain": [
       "5×5 LowerTriangular{Float64,Array{Float64,2}}:\n",
       "  1.73205    ⋅            ⋅          ⋅         ⋅    \n",
       " -0.57735   2.38048       ⋅          ⋅         ⋅    \n",
       " -0.57735   1.96039      1.35038     ⋅         ⋅    \n",
       " -1.73205  -9.32774e-17  0.0        1.41421    ⋅    \n",
       " -1.1547    0.560112     0.914774  -0.707107  1.7367"
      ]
     },
     "execution_count": 12,
     "metadata": {
     },
     "output_type": "execute_result"
    }
   ],
   "source": [
    "#Julia kernel\n",
    "M = [3 -1 -1 -3 -2; -1 6 5 1 2; -1 5 6 1 3; -3 1 1 5 1; -2 2 3 1 6]\n",
    "C = chol(M)\n",
    "transpose(C)"
   ]
  },
  {
   "cell_type": "markdown",
   "metadata": {
    "collapsed": false
   },
   "source": [
    "### Problem 7: Face completion"
   ]
  },
  {
   "cell_type": "markdown",
   "metadata": {
    "collapsed": false
   },
   "source": [
    "Grading criteria: correctness of code and answers.\n",
    "\n",
    "**Special note**: in this problem, you will be running code in another notebook. However, you will only be credited for answers entered in this notebook.\n",
    "\n",
    "Go to the [scikit-learn example of face completion](http://scikit-learn.org/stable/auto_examples/plot_multioutput_face_completion.html); download the script as a Jupyter notebook; upload it into this folder in your project; and run all cells using the Python 3 (Ubuntu Linux) kernel. Then answer the following questions."
   ]
  },
  {
   "cell_type": "markdown",
   "metadata": {
    "collapsed": false
   },
   "source": [
    "7a. What fraction of the data was used for testing? And what code can be used to determine this?"
   ]
  },
  {
   "cell_type": "markdown",
   "metadata": {
    "collapsed": false
   },
   "source": [
    "25% of the data is being used for testing. The code snippet below was used to determine the testing size."
   ]
  },
  {
   "cell_type": "raw",
   "metadata": {
    "collapsed": false
   },
   "source": [
    "data = data.images.reshape((len(data.images), -1))\n",
    "train = data[targets < 30]\n",
    "test = data[targets >= 30]  # Test on independent people\n",
    "\n",
    "print(targets,len(targets))\n",
    "print(targets[targets >= 30])\n",
    "print(len(targets[targets >= 30]))"
   ]
  },
  {
   "cell_type": "markdown",
   "metadata": {
    "collapsed": false
   },
   "source": [
    "7b. Suppose we want to predict the top half of the face from the bottom. Which lines of code need to be changed, and to what?"
   ]
  },
  {
   "cell_type": "raw",
   "metadata": {
    "collapsed": false
   },
   "source": [
    "# List all the lines of code that you are changing here...\n",
    "# Upper half of the faces\n",
    "X_train = train[:, :(n_pixels + 1) // 2]\n",
    "# Lower half of the faces\n",
    "y_train = train[:, n_pixels // 2:]\n",
    "X_test = test[:, :(n_pixels + 1) // 2]\n",
    "y_test = test[:, n_pixels // 2:]\n",
    "\n",
    "true_face = np.hstack((X_test[i], y_test[i]))\n",
    "\n",
    "completed_face = np.hstack((X_test[i], y_test_predict[est][i]))"
   ]
  },
  {
   "cell_type": "raw",
   "metadata": {
    "collapsed": false
   },
   "source": [
    "# ... and their replacements here.\n",
    "# Upper half of the faces\n",
    "X_train = train[:, (n_pixels + 1) // 2:]\n",
    "# Lower half of the faces\n",
    "y_train = train[:, :n_pixels // 2]\n",
    "X_test = test[:, (n_pixels + 1) // 2:]\n",
    "y_test = test[:, :n_pixels // 2]\n",
    "\n",
    "true_face = np.hstack((y_test[i],X_test[i]))\n",
    "\n",
    "completed_face = np.hstack((y_test_predict[est][i],X_test[i]))"
   ]
  },
  {
   "cell_type": "markdown",
   "metadata": {
    "collapsed": false
   },
   "source": [
    "7c. Suppose we want to use a [Multilayer perceptron regressor](https://en.wikipedia.org/wiki/Multilayer_perceptron) in addition to the four other estimators used in the sample. What lines of code need to be added, and where? (In each location where one or more lines is to be added, include one existing line before and after your addition.)"
   ]
  },
  {
   "cell_type": "raw",
   "metadata": {
    "collapsed": false
   },
   "source": [
    "# List added code here, with one line of context on each side.\n",
    "from sklearn.neural_network import MLPRegressor #need to import the function at the top with the other imports\n",
    "\n",
    "\"MLP\": MLPRegressor(), #add the MLP option to the Estimators set"
   ]
  },
  {
   "cell_type": "markdown",
   "metadata": {
    "collapsed": false
   },
   "source": [
    "### Problem 8: Finding (discrete logarithms using) Nemo"
   ]
  },
  {
   "cell_type": "markdown",
   "metadata": {
    "collapsed": false
   },
   "source": [
    "Grading criteria: correctness of code."
   ]
  },
  {
   "cell_type": "markdown",
   "metadata": {
    "collapsed": false
   },
   "source": [
    "For this problem, use the Julia kernel."
   ]
  },
  {
   "cell_type": "markdown",
   "metadata": {
    "collapsed": false
   },
   "source": [
    "8a. Demonstrate the (usual, not elliptic) Diffie-Hellman key exchange in Julia using the prime `p=2171645417` and the primitive root `g=3`. That is, Alice and Bob choose random secrets and use them to establish a common key."
   ]
  },
  {
   "cell_type": "code",
   "execution_count": 0,
   "metadata": {
    "collapsed": false
   },
   "outputs": [
   ],
   "source": [
    "using Nemo"
   ]
  },
  {
   "cell_type": "code",
   "execution_count": 0,
   "metadata": {
    "collapsed": false
   },
   "outputs": [
   ],
   "source": [
   ]
  },
  {
   "cell_type": "markdown",
   "metadata": {
    "collapsed": false
   },
   "source": [
    "8b. Implement the baby-step-giant-step algorithm in Julia using the same `p` and `g`, including a test for correctness."
   ]
  },
  {
   "cell_type": "code",
   "execution_count": 0,
   "metadata": {
    "collapsed": false
   },
   "outputs": [
   ],
   "source": [
   ]
  }
 ],
 "metadata": {
  "kernelspec": {
   "display_name": "SageMath 8.1",
   "name": "sage-8.1"
  },
  "language_info": {
   "codemirror_mode": {
    "name": "ipython",
    "version": 2
   },
   "file_extension": ".py",
   "mimetype": "text/x-python",
   "name": "python",
   "nbconvert_exporter": "python",
   "pygments_lexer": "ipython2",
   "version": "2.7.14"
  }
 },
 "nbformat": 4,
 "nbformat_minor": 0
}